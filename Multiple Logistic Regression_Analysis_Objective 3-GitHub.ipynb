{
 "cells": [
  {
   "cell_type": "code",
   "execution_count": null,
   "id": "9f2a8ded",
   "metadata": {},
   "outputs": [],
   "source": [
    "!pip install firthlogist"
   ]
  },
  {
   "cell_type": "code",
   "execution_count": 45,
   "id": "a35d877d",
   "metadata": {},
   "outputs": [],
   "source": [
    "#import libraries\n",
    "import pandas as pd\n",
    "import numpy as np\n",
    "from sklearn.linear_model import LogisticRegression\n",
    "from sklearn.model_selection import train_test_split\n",
    "import statsmodels.formula.api as smf\n",
    "import matplotlib.pyplot as plt\n",
    "import seaborn as sns\n",
    "from sklearn.preprocessing import StandardScaler\n",
    "from statsmodels.discrete.discrete_model import Logit\n",
    "from firthlogist import FirthLogisticRegression\n",
    "from sklearn.metrics import accuracy_score, confusion_matrix, precision_score, recall_score, f1_score"
   ]
  },
  {
   "cell_type": "code",
   "execution_count": 2,
   "id": "1f539854",
   "metadata": {},
   "outputs": [],
   "source": [
    "# Load the SNMP MIB data\n",
    "data = pd.read_csv(\"C:/Python/Capstone Project/ANOVA/testfinal.csv\")\n",
    "data = pd.get_dummies(data, columns=['host','Battery_Status','Output_Status'])"
   ]
  },
  {
   "cell_type": "markdown",
   "id": "1d4a8034",
   "metadata": {},
   "source": [
    "# Data Cleaning"
   ]
  },
  {
   "cell_type": "code",
   "execution_count": 3,
   "id": "f10920fb",
   "metadata": {},
   "outputs": [],
   "source": [
    "#drop columns because not significant to the analysis\n",
    "#drop columns 'Full_Charge_Voltage','Input_Max_Line_Voltage', 'Output_Line_Voltage',  because of high correlation between IV tends to get multicollinearity\n",
    "data_new_LgR=data.drop(['name','Last_Replacement_Date','Date_Manufacture','time','Config_Rated_Output_Voltage','Replacement','Full_Charge_Voltage','Input_Max_Line_Voltage', 'Output_Line_Voltage','Base_Config_Num_Device','Input_Min_Line_Voltage'], axis=1)"
   ]
  },
  {
   "cell_type": "code",
   "execution_count": null,
   "id": "4a4c57c7",
   "metadata": {},
   "outputs": [],
   "source": [
    "data_new_LgR.head()"
   ]
  },
  {
   "cell_type": "code",
   "execution_count": 4,
   "id": "1aafdeb0",
   "metadata": {},
   "outputs": [
    {
     "data": {
      "text/plain": [
       "Battery_Voltage             NaN\n",
       "Capacity                    NaN\n",
       "Input_Frequency       1075971.0\n",
       "Input_Line_Voltage          NaN\n",
       "Output_Frequency            NaN\n",
       "Output_Load           1075982.0\n",
       "Remaining_Time              NaN\n",
       "Temperature                 NaN\n",
       "Time_On_Battery             NaN\n",
       "host_10.0.0.53              NaN\n",
       "host_10.0.0.8               NaN\n",
       "Battery_Status_2.0          NaN\n",
       "Output_Status_2             NaN\n",
       "Output_Status_3             NaN\n",
       "Output_Status_6             NaN\n",
       "dtype: float64"
      ]
     },
     "execution_count": 4,
     "metadata": {},
     "output_type": "execute_result"
    }
   ],
   "source": [
    "data_new_LgR.isna().sum().where(lambda x: x>0)"
   ]
  },
  {
   "cell_type": "code",
   "execution_count": 6,
   "id": "453d9d86",
   "metadata": {},
   "outputs": [],
   "source": [
    "# impute the missing values with mean\n",
    "data_new_LgR['Input_Frequency'] = data_new_LgR['Input_Frequency'].fillna(data_new_LgR['Input_Frequency'].mean())\n",
    "data_new_LgR['Output_Load'] = data_new_LgR['Output_Load'].fillna(data_new_LgR['Output_Load'].mean())\n",
    "#data_new_LgR['Input_Min_Line_Voltage'] = data_new_LgR['Input_Min_Line_Voltage'].fillna(data_new_LgR['Input_Min_Line_Voltage'].mean())"
   ]
  },
  {
   "cell_type": "code",
   "execution_count": 7,
   "id": "45927f27",
   "metadata": {},
   "outputs": [],
   "source": [
    "# to standardize the data\n",
    "data_new_LgR['Temperature'] = (data_new_LgR['Temperature'] * 0.10).round(2)"
   ]
  },
  {
   "cell_type": "markdown",
   "id": "56c4573e",
   "metadata": {},
   "source": [
    "### Data tweak"
   ]
  },
  {
   "cell_type": "code",
   "execution_count": 8,
   "id": "32146c6a",
   "metadata": {},
   "outputs": [],
   "source": [
    "# Data imputation to create outliers, temperature spike \n",
    "# and low battery capacity\n",
    "data_new_LgR.loc[data_new_LgR['Temperature'] == 22, 'Temperature'] = 60\n",
    "data_new_LgR.loc[data_new_LgR['Capacity'] == 55, 'Capacity'] = 10"
   ]
  },
  {
   "cell_type": "code",
   "execution_count": 9,
   "id": "84ba9fab",
   "metadata": {},
   "outputs": [
    {
     "data": {
      "text/html": [
       "<div>\n",
       "<style scoped>\n",
       "    .dataframe tbody tr th:only-of-type {\n",
       "        vertical-align: middle;\n",
       "    }\n",
       "\n",
       "    .dataframe tbody tr th {\n",
       "        vertical-align: top;\n",
       "    }\n",
       "\n",
       "    .dataframe thead th {\n",
       "        text-align: right;\n",
       "    }\n",
       "</style>\n",
       "<table border=\"1\" class=\"dataframe\">\n",
       "  <thead>\n",
       "    <tr style=\"text-align: right;\">\n",
       "      <th></th>\n",
       "      <th>Battery_Voltage</th>\n",
       "      <th>Capacity</th>\n",
       "      <th>Input_Frequency</th>\n",
       "      <th>Input_Line_Voltage</th>\n",
       "      <th>Output_Frequency</th>\n",
       "      <th>Output_Load</th>\n",
       "      <th>Remaining_Time</th>\n",
       "      <th>Temperature</th>\n",
       "      <th>Time_On_Battery</th>\n",
       "      <th>host_10.0.0.53</th>\n",
       "      <th>host_10.0.0.8</th>\n",
       "      <th>Battery_Status_2.0</th>\n",
       "      <th>Output_Status_2</th>\n",
       "      <th>Output_Status_3</th>\n",
       "      <th>Output_Status_6</th>\n",
       "    </tr>\n",
       "  </thead>\n",
       "  <tbody>\n",
       "    <tr>\n",
       "      <th>count</th>\n",
       "      <td>1.088732e+06</td>\n",
       "      <td>1.088732e+06</td>\n",
       "      <td>1.088732e+06</td>\n",
       "      <td>1.088732e+06</td>\n",
       "      <td>1.088732e+06</td>\n",
       "      <td>1.088732e+06</td>\n",
       "      <td>1.088732e+06</td>\n",
       "      <td>1.088732e+06</td>\n",
       "      <td>1.088732e+06</td>\n",
       "      <td>1.088732e+06</td>\n",
       "      <td>1.088732e+06</td>\n",
       "      <td>1.088732e+06</td>\n",
       "      <td>1.088732e+06</td>\n",
       "      <td>1.088732e+06</td>\n",
       "      <td>1.088732e+06</td>\n",
       "    </tr>\n",
       "    <tr>\n",
       "      <th>mean</th>\n",
       "      <td>2.200726e+01</td>\n",
       "      <td>9.667535e+01</td>\n",
       "      <td>4.609313e+02</td>\n",
       "      <td>2.412694e+03</td>\n",
       "      <td>4.984651e+02</td>\n",
       "      <td>5.923451e+00</td>\n",
       "      <td>1.490202e+01</td>\n",
       "      <td>2.816459e+01</td>\n",
       "      <td>2.098949e+00</td>\n",
       "      <td>5.361375e-01</td>\n",
       "      <td>4.638625e-01</td>\n",
       "      <td>1.205806e-02</td>\n",
       "      <td>9.972555e-01</td>\n",
       "      <td>1.003920e-03</td>\n",
       "      <td>1.740557e-03</td>\n",
       "    </tr>\n",
       "    <tr>\n",
       "      <th>std</th>\n",
       "      <td>1.484557e-01</td>\n",
       "      <td>3.389042e+00</td>\n",
       "      <td>1.433346e+01</td>\n",
       "      <td>8.562087e+01</td>\n",
       "      <td>1.629388e+01</td>\n",
       "      <td>3.386791e-01</td>\n",
       "      <td>6.928519e+02</td>\n",
       "      <td>4.029362e+00</td>\n",
       "      <td>8.346569e+01</td>\n",
       "      <td>4.986926e-01</td>\n",
       "      <td>4.986926e-01</td>\n",
       "      <td>1.091452e-01</td>\n",
       "      <td>5.231584e-02</td>\n",
       "      <td>3.166881e-02</td>\n",
       "      <td>4.168368e-02</td>\n",
       "    </tr>\n",
       "    <tr>\n",
       "      <th>min</th>\n",
       "      <td>2.000000e+01</td>\n",
       "      <td>1.000000e+01</td>\n",
       "      <td>0.000000e+00</td>\n",
       "      <td>0.000000e+00</td>\n",
       "      <td>0.000000e+00</td>\n",
       "      <td>0.000000e+00</td>\n",
       "      <td>0.000000e+00</td>\n",
       "      <td>2.300000e+01</td>\n",
       "      <td>0.000000e+00</td>\n",
       "      <td>0.000000e+00</td>\n",
       "      <td>0.000000e+00</td>\n",
       "      <td>0.000000e+00</td>\n",
       "      <td>0.000000e+00</td>\n",
       "      <td>0.000000e+00</td>\n",
       "      <td>0.000000e+00</td>\n",
       "    </tr>\n",
       "    <tr>\n",
       "      <th>25%</th>\n",
       "      <td>2.200000e+01</td>\n",
       "      <td>9.300000e+01</td>\n",
       "      <td>4.609313e+02</td>\n",
       "      <td>2.397000e+03</td>\n",
       "      <td>4.990000e+02</td>\n",
       "      <td>5.923451e+00</td>\n",
       "      <td>0.000000e+00</td>\n",
       "      <td>2.500000e+01</td>\n",
       "      <td>0.000000e+00</td>\n",
       "      <td>0.000000e+00</td>\n",
       "      <td>0.000000e+00</td>\n",
       "      <td>0.000000e+00</td>\n",
       "      <td>1.000000e+00</td>\n",
       "      <td>0.000000e+00</td>\n",
       "      <td>0.000000e+00</td>\n",
       "    </tr>\n",
       "    <tr>\n",
       "      <th>50%</th>\n",
       "      <td>2.200000e+01</td>\n",
       "      <td>9.500000e+01</td>\n",
       "      <td>4.609313e+02</td>\n",
       "      <td>2.415000e+03</td>\n",
       "      <td>4.990000e+02</td>\n",
       "      <td>5.923451e+00</td>\n",
       "      <td>0.000000e+00</td>\n",
       "      <td>2.500000e+01</td>\n",
       "      <td>0.000000e+00</td>\n",
       "      <td>1.000000e+00</td>\n",
       "      <td>0.000000e+00</td>\n",
       "      <td>0.000000e+00</td>\n",
       "      <td>1.000000e+00</td>\n",
       "      <td>0.000000e+00</td>\n",
       "      <td>0.000000e+00</td>\n",
       "    </tr>\n",
       "    <tr>\n",
       "      <th>75%</th>\n",
       "      <td>2.200000e+01</td>\n",
       "      <td>1.000000e+02</td>\n",
       "      <td>4.609313e+02</td>\n",
       "      <td>2.433000e+03</td>\n",
       "      <td>4.990000e+02</td>\n",
       "      <td>5.923451e+00</td>\n",
       "      <td>0.000000e+00</td>\n",
       "      <td>3.200000e+01</td>\n",
       "      <td>0.000000e+00</td>\n",
       "      <td>1.000000e+00</td>\n",
       "      <td>1.000000e+00</td>\n",
       "      <td>0.000000e+00</td>\n",
       "      <td>1.000000e+00</td>\n",
       "      <td>0.000000e+00</td>\n",
       "      <td>0.000000e+00</td>\n",
       "    </tr>\n",
       "    <tr>\n",
       "      <th>max</th>\n",
       "      <td>2.400000e+01</td>\n",
       "      <td>1.000000e+02</td>\n",
       "      <td>5.000000e+02</td>\n",
       "      <td>2.573000e+03</td>\n",
       "      <td>5.000000e+02</td>\n",
       "      <td>8.000000e+00</td>\n",
       "      <td>1.200000e+05</td>\n",
       "      <td>6.000000e+01</td>\n",
       "      <td>5.135000e+03</td>\n",
       "      <td>1.000000e+00</td>\n",
       "      <td>1.000000e+00</td>\n",
       "      <td>1.000000e+00</td>\n",
       "      <td>1.000000e+00</td>\n",
       "      <td>1.000000e+00</td>\n",
       "      <td>1.000000e+00</td>\n",
       "    </tr>\n",
       "  </tbody>\n",
       "</table>\n",
       "</div>"
      ],
      "text/plain": [
       "       Battery_Voltage      Capacity  Input_Frequency  Input_Line_Voltage  \\\n",
       "count     1.088732e+06  1.088732e+06     1.088732e+06        1.088732e+06   \n",
       "mean      2.200726e+01  9.667535e+01     4.609313e+02        2.412694e+03   \n",
       "std       1.484557e-01  3.389042e+00     1.433346e+01        8.562087e+01   \n",
       "min       2.000000e+01  1.000000e+01     0.000000e+00        0.000000e+00   \n",
       "25%       2.200000e+01  9.300000e+01     4.609313e+02        2.397000e+03   \n",
       "50%       2.200000e+01  9.500000e+01     4.609313e+02        2.415000e+03   \n",
       "75%       2.200000e+01  1.000000e+02     4.609313e+02        2.433000e+03   \n",
       "max       2.400000e+01  1.000000e+02     5.000000e+02        2.573000e+03   \n",
       "\n",
       "       Output_Frequency   Output_Load  Remaining_Time   Temperature  \\\n",
       "count      1.088732e+06  1.088732e+06    1.088732e+06  1.088732e+06   \n",
       "mean       4.984651e+02  5.923451e+00    1.490202e+01  2.816459e+01   \n",
       "std        1.629388e+01  3.386791e-01    6.928519e+02  4.029362e+00   \n",
       "min        0.000000e+00  0.000000e+00    0.000000e+00  2.300000e+01   \n",
       "25%        4.990000e+02  5.923451e+00    0.000000e+00  2.500000e+01   \n",
       "50%        4.990000e+02  5.923451e+00    0.000000e+00  2.500000e+01   \n",
       "75%        4.990000e+02  5.923451e+00    0.000000e+00  3.200000e+01   \n",
       "max        5.000000e+02  8.000000e+00    1.200000e+05  6.000000e+01   \n",
       "\n",
       "       Time_On_Battery  host_10.0.0.53  host_10.0.0.8  Battery_Status_2.0  \\\n",
       "count     1.088732e+06    1.088732e+06   1.088732e+06        1.088732e+06   \n",
       "mean      2.098949e+00    5.361375e-01   4.638625e-01        1.205806e-02   \n",
       "std       8.346569e+01    4.986926e-01   4.986926e-01        1.091452e-01   \n",
       "min       0.000000e+00    0.000000e+00   0.000000e+00        0.000000e+00   \n",
       "25%       0.000000e+00    0.000000e+00   0.000000e+00        0.000000e+00   \n",
       "50%       0.000000e+00    1.000000e+00   0.000000e+00        0.000000e+00   \n",
       "75%       0.000000e+00    1.000000e+00   1.000000e+00        0.000000e+00   \n",
       "max       5.135000e+03    1.000000e+00   1.000000e+00        1.000000e+00   \n",
       "\n",
       "       Output_Status_2  Output_Status_3  Output_Status_6  \n",
       "count     1.088732e+06     1.088732e+06     1.088732e+06  \n",
       "mean      9.972555e-01     1.003920e-03     1.740557e-03  \n",
       "std       5.231584e-02     3.166881e-02     4.168368e-02  \n",
       "min       0.000000e+00     0.000000e+00     0.000000e+00  \n",
       "25%       1.000000e+00     0.000000e+00     0.000000e+00  \n",
       "50%       1.000000e+00     0.000000e+00     0.000000e+00  \n",
       "75%       1.000000e+00     0.000000e+00     0.000000e+00  \n",
       "max       1.000000e+00     1.000000e+00     1.000000e+00  "
      ]
     },
     "execution_count": 9,
     "metadata": {},
     "output_type": "execute_result"
    }
   ],
   "source": [
    "data_new_LgR.describe()"
   ]
  },
  {
   "cell_type": "code",
   "execution_count": 10,
   "id": "a449a475",
   "metadata": {},
   "outputs": [],
   "source": [
    "# battery_status data tweaked\n",
    "data_new_LgR['Battery_Status_2.0'] = data_new_LgR['Battery_Status_2.0'].replace({0:1, 1:0})\n",
    "# battery_status and capacity tweak data \n",
    "data_new_LgR.loc[data_new_LgR['Battery_Status_2.0'] == 0, 'Capacity'] =10"
   ]
  },
  {
   "cell_type": "markdown",
   "id": "fe064efe",
   "metadata": {},
   "source": [
    "### Rename column"
   ]
  },
  {
   "cell_type": "code",
   "execution_count": 11,
   "id": "4132de4d",
   "metadata": {},
   "outputs": [],
   "source": [
    "# need to rename columns because \n",
    "# variable \"host_10.0.0.53\" is causing the issue. \n",
    "# The dot notation is used to access object properties in Python, \n",
    "# raises a syntax error because it's not a valid property name.\n",
    "data_new_LgR.rename(columns={'Battery_Status_2.0': 'Battery_Status_2'}, inplace=True)\n",
    "data_new_LgR.rename(columns={'host_10.0.0.53': 'UPS_1'}, inplace=True)\n",
    "data_new_LgR.rename(columns={'host_10.0.0.8': 'UPS_2'}, inplace=True)"
   ]
  },
  {
   "cell_type": "code",
   "execution_count": 12,
   "id": "d15bb14f",
   "metadata": {},
   "outputs": [
    {
     "data": {
      "text/plain": [
       "1    1075604\n",
       "0      13128\n",
       "Name: Battery_Status_2, dtype: int64"
      ]
     },
     "execution_count": 12,
     "metadata": {},
     "output_type": "execute_result"
    }
   ],
   "source": [
    "data_new_LgR['Battery_Status_2'].value_counts()"
   ]
  },
  {
   "cell_type": "code",
   "execution_count": 13,
   "id": "525f367b",
   "metadata": {},
   "outputs": [
    {
     "data": {
      "text/html": [
       "<div>\n",
       "<style scoped>\n",
       "    .dataframe tbody tr th:only-of-type {\n",
       "        vertical-align: middle;\n",
       "    }\n",
       "\n",
       "    .dataframe tbody tr th {\n",
       "        vertical-align: top;\n",
       "    }\n",
       "\n",
       "    .dataframe thead th {\n",
       "        text-align: right;\n",
       "    }\n",
       "</style>\n",
       "<table border=\"1\" class=\"dataframe\">\n",
       "  <thead>\n",
       "    <tr style=\"text-align: right;\">\n",
       "      <th></th>\n",
       "      <th>Battery_Voltage</th>\n",
       "      <th>Capacity</th>\n",
       "      <th>Input_Frequency</th>\n",
       "      <th>Input_Line_Voltage</th>\n",
       "      <th>Output_Frequency</th>\n",
       "      <th>Output_Load</th>\n",
       "      <th>Remaining_Time</th>\n",
       "      <th>Temperature</th>\n",
       "      <th>Time_On_Battery</th>\n",
       "      <th>UPS_1</th>\n",
       "      <th>UPS_2</th>\n",
       "      <th>Battery_Status_2</th>\n",
       "      <th>Output_Status_2</th>\n",
       "      <th>Output_Status_3</th>\n",
       "      <th>Output_Status_6</th>\n",
       "    </tr>\n",
       "  </thead>\n",
       "  <tbody>\n",
       "    <tr>\n",
       "      <th>0</th>\n",
       "      <td>22</td>\n",
       "      <td>95</td>\n",
       "      <td>460.931275</td>\n",
       "      <td>2378</td>\n",
       "      <td>499</td>\n",
       "      <td>5.923451</td>\n",
       "      <td>0</td>\n",
       "      <td>25.0</td>\n",
       "      <td>0</td>\n",
       "      <td>1</td>\n",
       "      <td>0</td>\n",
       "      <td>1</td>\n",
       "      <td>1</td>\n",
       "      <td>0</td>\n",
       "      <td>0</td>\n",
       "    </tr>\n",
       "    <tr>\n",
       "      <th>1</th>\n",
       "      <td>22</td>\n",
       "      <td>100</td>\n",
       "      <td>460.931275</td>\n",
       "      <td>2415</td>\n",
       "      <td>499</td>\n",
       "      <td>5.923451</td>\n",
       "      <td>0</td>\n",
       "      <td>26.0</td>\n",
       "      <td>0</td>\n",
       "      <td>0</td>\n",
       "      <td>1</td>\n",
       "      <td>1</td>\n",
       "      <td>1</td>\n",
       "      <td>0</td>\n",
       "      <td>0</td>\n",
       "    </tr>\n",
       "    <tr>\n",
       "      <th>2</th>\n",
       "      <td>22</td>\n",
       "      <td>95</td>\n",
       "      <td>460.931275</td>\n",
       "      <td>2378</td>\n",
       "      <td>499</td>\n",
       "      <td>5.923451</td>\n",
       "      <td>0</td>\n",
       "      <td>25.0</td>\n",
       "      <td>0</td>\n",
       "      <td>1</td>\n",
       "      <td>0</td>\n",
       "      <td>1</td>\n",
       "      <td>1</td>\n",
       "      <td>0</td>\n",
       "      <td>0</td>\n",
       "    </tr>\n",
       "  </tbody>\n",
       "</table>\n",
       "</div>"
      ],
      "text/plain": [
       "   Battery_Voltage  Capacity  Input_Frequency  Input_Line_Voltage  \\\n",
       "0               22        95       460.931275                2378   \n",
       "1               22       100       460.931275                2415   \n",
       "2               22        95       460.931275                2378   \n",
       "\n",
       "   Output_Frequency  Output_Load  Remaining_Time  Temperature  \\\n",
       "0               499     5.923451               0         25.0   \n",
       "1               499     5.923451               0         26.0   \n",
       "2               499     5.923451               0         25.0   \n",
       "\n",
       "   Time_On_Battery  UPS_1  UPS_2  Battery_Status_2  Output_Status_2  \\\n",
       "0                0      1      0                 1                1   \n",
       "1                0      0      1                 1                1   \n",
       "2                0      1      0                 1                1   \n",
       "\n",
       "   Output_Status_3  Output_Status_6  \n",
       "0                0                0  \n",
       "1                0                0  \n",
       "2                0                0  "
      ]
     },
     "execution_count": 13,
     "metadata": {},
     "output_type": "execute_result"
    }
   ],
   "source": [
    "data_new_LgR.head(3)"
   ]
  },
  {
   "cell_type": "markdown",
   "id": "73b561b3",
   "metadata": {},
   "source": [
    "# EDA"
   ]
  },
  {
   "cell_type": "code",
   "execution_count": 14,
   "id": "5da3fac8",
   "metadata": {},
   "outputs": [],
   "source": [
    "data_new_LgR_numerical= data_new_LgR.drop(columns=['UPS_1', 'UPS_2',\n",
    "       'Battery_Status_2', 'Output_Status_2', 'Output_Status_3',\n",
    "       'Output_Status_6'], axis=1)"
   ]
  },
  {
   "cell_type": "code",
   "execution_count": 18,
   "id": "7fd5d8e9",
   "metadata": {},
   "outputs": [
    {
     "name": "stderr",
     "output_type": "stream",
     "text": [
      "C:\\Users\\Dila\\anaconda3\\lib\\site-packages\\seaborn\\distributions.py:2557: FutureWarning: `distplot` is a deprecated function and will be removed in a future version. Please adapt your code to use either `displot` (a figure-level function with similar flexibility) or `histplot` (an axes-level function for histograms).\n",
      "  warnings.warn(msg, FutureWarning)\n"
     ]
    },
    {
     "data": {
      "text/plain": [
       "<AxesSubplot:xlabel='Battery_Voltage', ylabel='Density'>"
      ]
     },
     "execution_count": 18,
     "metadata": {},
     "output_type": "execute_result"
    },
    {
     "data": {
      "image/png": "[encoded data removed]",
      "text/plain": [
       "<Figure size 432x288 with 1 Axes>"
      ]
     },
     "metadata": {
      "needs_background": "light"
     },
     "output_type": "display_data"
    }
   ],
   "source": [
    "#To visualize the distribution of a single variable\n",
    "sns.distplot(data_new_LgR['Battery_Voltage'])"
   ]
  },
  {
   "cell_type": "code",
   "execution_count": 19,
   "id": "022700db",
   "metadata": {},
   "outputs": [
    {
     "data": {
      "text/plain": [
       "<AxesSubplot:xlabel='Battery_Status_2', ylabel='count'>"
      ]
     },
     "execution_count": 19,
     "metadata": {},
     "output_type": "execute_result"
    },
    {
     "data": {
      "image/png": "[encoded data removed]",
      "text/plain": [
       "<Figure size 432x288 with 1 Axes>"
      ]
     },
     "metadata": {
      "needs_background": "light"
     },
     "output_type": "display_data"
    }
   ],
   "source": [
    "#To visualize the distribution of categorical variable\n",
    "sns.countplot(x='Battery_Status_2',data=data_new_LgR)"
   ]
  },
  {
   "cell_type": "markdown",
   "id": "a956751d",
   "metadata": {},
   "source": [
    "# Logistic Regression"
   ]
  },
  {
   "cell_type": "code",
   "execution_count": 30,
   "id": "2f8322e3",
   "metadata": {},
   "outputs": [],
   "source": [
    "#X = data_new_LgR[['Base_Config_Num_Device' ,' Battery_Voltage' , 'Capacity ', 'Full_Charge_Voltage' , 'Input_Frequency' , 'Input_Line_Voltage','Input_Max_Line_Voltage',' Input_Min_Line_Voltage', 'Output_Frequency' , 'Output_Line_Voltage', 'Output_Load','Remaining_Time + Temperature + Time_On_Battery +  host_10.0.0.53 + host_10.0.0.8 + Output_Status_2 + Output_Status_3 + Output_Status_6 ]]\n",
    "#X= data_new_LgR.drop(columns=['Battery_Status_2'], axis=1)\n",
    "X = data_new_LgR[['Output_Load', 'Capacity','Battery_Voltage','Input_Frequency', 'Temperature']]\n",
    "y = data_new_LgR['Battery_Status_2']\n"
   ]
  },
  {
   "cell_type": "code",
   "execution_count": 31,
   "id": "57a62eee",
   "metadata": {},
   "outputs": [
    {
     "data": {
      "text/plain": [
       "(array([-16.68307276]),\n",
       " array([[-2.49755667e-04,  4.56401290e-01, -2.32036891e-02,\n",
       "          2.83238007e-04, -5.22290029e-02]]))"
      ]
     },
     "execution_count": 31,
     "metadata": {},
     "output_type": "execute_result"
    }
   ],
   "source": [
    "# Notice how tol must be changed to less than default value or convergence won't happen\n",
    "# Use a high value of C to remove regularization\n",
    "#(C=100000, tol=.0000001)-inside parameter of LR\n",
    "model = LogisticRegression()\n",
    "model.fit(X, y)\n",
    "model.intercept_, model.coef_"
   ]
  },
  {
   "cell_type": "code",
   "execution_count": 28,
   "id": "c6e7d8f1",
   "metadata": {
    "scrolled": true
   },
   "outputs": [
    {
     "name": "stdout",
     "output_type": "stream",
     "text": [
      "Optimization terminated successfully.\n",
      "         Current function value: 0.044295\n",
      "         Iterations 10\n"
     ]
    }
   ],
   "source": [
    "result = smf.logit(formula= 'Battery_Status_2 ~ Output_Load + Temperature + Battery_Voltage + Input_Frequency', data=data_new_LgR).fit()"
   ]
  },
  {
   "cell_type": "code",
   "execution_count": 33,
   "id": "1bcab7d6",
   "metadata": {},
   "outputs": [
    {
     "name": "stdout",
     "output_type": "stream",
     "text": [
      "Warning: Maximum number of iterations has been exceeded.\n",
      "         Current function value: 0.000000\n",
      "         Iterations: 35\n"
     ]
    },
    {
     "name": "stderr",
     "output_type": "stream",
     "text": [
      "C:\\Users\\Dila\\anaconda3\\lib\\site-packages\\statsmodels\\base\\model.py:566: ConvergenceWarning: Maximum Likelihood optimization failed to converge. Check mle_retvals\n",
      "  warnings.warn(\"Maximum Likelihood optimization failed to \"\n"
     ]
    }
   ],
   "source": [
    "result2 = smf.logit(formula= 'Battery_Status_2 ~ Output_Load + Capacity + Battery_Voltage + Input_Frequency', data=data_new_LgR).fit()"
   ]
  },
  {
   "cell_type": "code",
   "execution_count": 29,
   "id": "64336527",
   "metadata": {},
   "outputs": [
    {
     "data": {
      "text/html": [
       "<table class=\"simpletable\">\n",
       "<caption>Logit Regression Results</caption>\n",
       "<tr>\n",
       "  <th>Dep. Variable:</th>   <td>Battery_Status_2</td> <th>  No. Observations:  </th>  <td>1088732</td>\n",
       "</tr>\n",
       "<tr>\n",
       "  <th>Model:</th>                 <td>Logit</td>      <th>  Df Residuals:      </th>  <td>1088727</td>\n",
       "</tr>\n",
       "<tr>\n",
       "  <th>Method:</th>                 <td>MLE</td>       <th>  Df Model:          </th>  <td>     4</td> \n",
       "</tr>\n",
       "<tr>\n",
       "  <th>Date:</th>            <td>Fri, 03 Feb 2023</td> <th>  Pseudo R-squ.:     </th>  <td>0.3212</td> \n",
       "</tr>\n",
       "<tr>\n",
       "  <th>Time:</th>                <td>09:28:29</td>     <th>  Log-Likelihood:    </th> <td> -48225.</td>\n",
       "</tr>\n",
       "<tr>\n",
       "  <th>converged:</th>             <td>True</td>       <th>  LL-Null:           </th> <td> -71048.</td>\n",
       "</tr>\n",
       "<tr>\n",
       "  <th>Covariance Type:</th>     <td>nonrobust</td>    <th>  LLR p-value:       </th>  <td> 0.000</td> \n",
       "</tr>\n",
       "</table>\n",
       "<table class=\"simpletable\">\n",
       "<tr>\n",
       "         <td></td>            <th>coef</th>     <th>std err</th>      <th>z</th>      <th>P>|z|</th>  <th>[0.025</th>    <th>0.975]</th>  \n",
       "</tr>\n",
       "<tr>\n",
       "  <th>Intercept</th>       <td>   83.1271</td> <td>    0.610</td> <td>  136.256</td> <td> 0.000</td> <td>   81.931</td> <td>   84.323</td>\n",
       "</tr>\n",
       "<tr>\n",
       "  <th>Output_Load</th>     <td>   -0.1519</td> <td>    0.011</td> <td>  -13.379</td> <td> 0.000</td> <td>   -0.174</td> <td>   -0.130</td>\n",
       "</tr>\n",
       "<tr>\n",
       "  <th>Temperature</th>     <td>   -0.1909</td> <td>    0.003</td> <td>  -73.522</td> <td> 0.000</td> <td>   -0.196</td> <td>   -0.186</td>\n",
       "</tr>\n",
       "<tr>\n",
       "  <th>Battery_Voltage</th> <td>   -3.7838</td> <td>    0.029</td> <td> -129.495</td> <td> 0.000</td> <td>   -3.841</td> <td>   -3.727</td>\n",
       "</tr>\n",
       "<tr>\n",
       "  <th>Input_Frequency</th> <td>    0.0251</td> <td>    0.000</td> <td>  119.725</td> <td> 0.000</td> <td>    0.025</td> <td>    0.026</td>\n",
       "</tr>\n",
       "</table>"
      ],
      "text/plain": [
       "<class 'statsmodels.iolib.summary.Summary'>\n",
       "\"\"\"\n",
       "                           Logit Regression Results                           \n",
       "==============================================================================\n",
       "Dep. Variable:       Battery_Status_2   No. Observations:              1088732\n",
       "Model:                          Logit   Df Residuals:                  1088727\n",
       "Method:                           MLE   Df Model:                            4\n",
       "Date:                Fri, 03 Feb 2023   Pseudo R-squ.:                  0.3212\n",
       "Time:                        09:28:29   Log-Likelihood:                -48225.\n",
       "converged:                       True   LL-Null:                       -71048.\n",
       "Covariance Type:            nonrobust   LLR p-value:                     0.000\n",
       "===================================================================================\n",
       "                      coef    std err          z      P>|z|      [0.025      0.975]\n",
       "-----------------------------------------------------------------------------------\n",
       "Intercept          83.1271      0.610    136.256      0.000      81.931      84.323\n",
       "Output_Load        -0.1519      0.011    -13.379      0.000      -0.174      -0.130\n",
       "Temperature        -0.1909      0.003    -73.522      0.000      -0.196      -0.186\n",
       "Battery_Voltage    -3.7838      0.029   -129.495      0.000      -3.841      -3.727\n",
       "Input_Frequency     0.0251      0.000    119.725      0.000       0.025       0.026\n",
       "===================================================================================\n",
       "\"\"\""
      ]
     },
     "execution_count": 29,
     "metadata": {},
     "output_type": "execute_result"
    }
   ],
   "source": [
    "result.summary()"
   ]
  },
  {
   "cell_type": "code",
   "execution_count": 34,
   "id": "04290f95",
   "metadata": {},
   "outputs": [
    {
     "data": {
      "text/html": [
       "<table class=\"simpletable\">\n",
       "<caption>Logit Regression Results</caption>\n",
       "<tr>\n",
       "  <th>Dep. Variable:</th>   <td>Battery_Status_2</td> <th>  No. Observations:  </th>   <td>1088732</td> \n",
       "</tr>\n",
       "<tr>\n",
       "  <th>Model:</th>                 <td>Logit</td>      <th>  Df Residuals:      </th>   <td>1088727</td> \n",
       "</tr>\n",
       "<tr>\n",
       "  <th>Method:</th>                 <td>MLE</td>       <th>  Df Model:          </th>   <td>     4</td>  \n",
       "</tr>\n",
       "<tr>\n",
       "  <th>Date:</th>            <td>Fri, 03 Feb 2023</td> <th>  Pseudo R-squ.:     </th>   <td> 1.000</td>  \n",
       "</tr>\n",
       "<tr>\n",
       "  <th>Time:</th>                <td>09:36:42</td>     <th>  Log-Likelihood:    </th> <td>-0.0015211</td>\n",
       "</tr>\n",
       "<tr>\n",
       "  <th>converged:</th>             <td>False</td>      <th>  LL-Null:           </th>  <td> -71048.</td> \n",
       "</tr>\n",
       "<tr>\n",
       "  <th>Covariance Type:</th>     <td>nonrobust</td>    <th>  LLR p-value:       </th>   <td> 0.000</td>  \n",
       "</tr>\n",
       "</table>\n",
       "<table class=\"simpletable\">\n",
       "<tr>\n",
       "         <td></td>            <th>coef</th>     <th>std err</th>      <th>z</th>      <th>P>|z|</th>  <th>[0.025</th>    <th>0.975]</th>  \n",
       "</tr>\n",
       "<tr>\n",
       "  <th>Intercept</th>       <td>  126.6748</td> <td> 1.58e+05</td> <td>    0.001</td> <td> 0.999</td> <td>-3.09e+05</td> <td> 3.09e+05</td>\n",
       "</tr>\n",
       "<tr>\n",
       "  <th>Output_Load</th>     <td>   -0.3785</td> <td>    8.724</td> <td>   -0.043</td> <td> 0.965</td> <td>  -17.478</td> <td>   16.721</td>\n",
       "</tr>\n",
       "<tr>\n",
       "  <th>Capacity</th>        <td>    0.9662</td> <td> 4448.253</td> <td>    0.000</td> <td> 1.000</td> <td>-8717.449</td> <td> 8719.382</td>\n",
       "</tr>\n",
       "<tr>\n",
       "  <th>Battery_Voltage</th> <td>   -7.4134</td> <td> 7561.205</td> <td>   -0.001</td> <td> 0.999</td> <td>-1.48e+04</td> <td> 1.48e+04</td>\n",
       "</tr>\n",
       "<tr>\n",
       "  <th>Input_Frequency</th> <td>   -0.0107</td> <td>   24.148</td> <td>   -0.000</td> <td> 1.000</td> <td>  -47.340</td> <td>   47.319</td>\n",
       "</tr>\n",
       "</table><br/><br/>Complete Separation: The results show that there iscomplete separation.<br/>In this case the Maximum Likelihood Estimator does not exist and the parameters<br/>are not identified."
      ],
      "text/plain": [
       "<class 'statsmodels.iolib.summary.Summary'>\n",
       "\"\"\"\n",
       "                           Logit Regression Results                           \n",
       "==============================================================================\n",
       "Dep. Variable:       Battery_Status_2   No. Observations:              1088732\n",
       "Model:                          Logit   Df Residuals:                  1088727\n",
       "Method:                           MLE   Df Model:                            4\n",
       "Date:                Fri, 03 Feb 2023   Pseudo R-squ.:                   1.000\n",
       "Time:                        09:36:42   Log-Likelihood:             -0.0015211\n",
       "converged:                      False   LL-Null:                       -71048.\n",
       "Covariance Type:            nonrobust   LLR p-value:                     0.000\n",
       "===================================================================================\n",
       "                      coef    std err          z      P>|z|      [0.025      0.975]\n",
       "-----------------------------------------------------------------------------------\n",
       "Intercept         126.6748   1.58e+05      0.001      0.999   -3.09e+05    3.09e+05\n",
       "Output_Load        -0.3785      8.724     -0.043      0.965     -17.478      16.721\n",
       "Capacity            0.9662   4448.253      0.000      1.000   -8717.449    8719.382\n",
       "Battery_Voltage    -7.4134   7561.205     -0.001      0.999   -1.48e+04    1.48e+04\n",
       "Input_Frequency    -0.0107     24.148     -0.000      1.000     -47.340      47.319\n",
       "===================================================================================\n",
       "\n",
       "Complete Separation: The results show that there iscomplete separation.\n",
       "In this case the Maximum Likelihood Estimator does not exist and the parameters\n",
       "are not identified.\n",
       "\"\"\""
      ]
     },
     "execution_count": 34,
     "metadata": {},
     "output_type": "execute_result"
    }
   ],
   "source": [
    "result2.summary()"
   ]
  },
  {
   "cell_type": "markdown",
   "id": "6df5dd84",
   "metadata": {},
   "source": [
    "# Bootstrap"
   ]
  },
  {
   "cell_type": "code",
   "execution_count": 32,
   "id": "1b0ec5c2",
   "metadata": {},
   "outputs": [],
   "source": [
    "data_new_LgR_params = pd.DataFrame(columns=['Intercept',  'Output_Load' + 'Temperature' + 'Battery_Voltage' + 'Input_Frequency' ])\n",
    "for i in range(100):\n",
    "    data_new_LgR_sample = data_new_LgR.sample(len(data_new_LgR), replace=True)\n",
    "    result_sample = smf.logit(formula='Battery_Status_2 ~ Output_Load + Temperature +  Battery_Voltage + Input_Frequency ', data=data_new_LgR_sample).fit(disp=0)\n",
    "    data_new_LgR_params = data_new_LgR_params.append(result_sample.params, ignore_index=True)"
   ]
  },
  {
   "cell_type": "code",
   "execution_count": 35,
   "id": "22e50610",
   "metadata": {},
   "outputs": [
    {
     "data": {
      "text/plain": [
       "(Intercept                                               83.147796\n",
       " Output_LoadTemperatureBattery_VoltageInput_Frequency          NaN\n",
       " Battery_Voltage                                         -3.784391\n",
       " Input_Frequency                                          0.025094\n",
       " Output_Load                                             -0.153022\n",
       " Temperature                                             -0.190897\n",
       " dtype: float64,\n",
       " Intercept                                               0.953147\n",
       " Output_LoadTemperatureBattery_VoltageInput_Frequency         NaN\n",
       " Battery_Voltage                                         0.039324\n",
       " Input_Frequency                                         0.000329\n",
       " Output_Load                                             0.033868\n",
       " Temperature                                             0.001393\n",
       " dtype: float64)"
      ]
     },
     "execution_count": 35,
     "metadata": {},
     "output_type": "execute_result"
    }
   ],
   "source": [
    "# bootstrap parameters and standard error\n",
    "data_new_LgR_params.mean(), data_new_LgR_params.std()"
   ]
  },
  {
   "cell_type": "code",
   "execution_count": 36,
   "id": "c74cfbf5",
   "metadata": {},
   "outputs": [
    {
     "data": {
      "text/plain": [
       "(Intercept          83.127066\n",
       " Output_Load        -0.151933\n",
       " Temperature        -0.190862\n",
       " Battery_Voltage    -3.783816\n",
       " Input_Frequency     0.025098\n",
       " dtype: float64,\n",
       " Intercept          0.610080\n",
       " Output_Load        0.011356\n",
       " Temperature        0.002596\n",
       " Battery_Voltage    0.029220\n",
       " Input_Frequency    0.000210\n",
       " dtype: float64)"
      ]
     },
     "execution_count": 36,
     "metadata": {},
     "output_type": "execute_result"
    }
   ],
   "source": [
    "# model parameters and standard error\n",
    "result.params, result.bse"
   ]
  },
  {
   "cell_type": "markdown",
   "id": "21de1523",
   "metadata": {},
   "source": [
    "# Accuracy"
   ]
  },
  {
   "cell_type": "markdown",
   "id": "243cfe1b",
   "metadata": {},
   "source": [
    "## i) Error without validation set\n",
    "This is an in-sample prediction. Training error in both sklearn and statsmodels. Both are equivalent"
   ]
  },
  {
   "cell_type": "code",
   "execution_count": 37,
   "id": "a20295d2",
   "metadata": {},
   "outputs": [
    {
     "data": {
      "text/plain": [
       "(1.0, 0.9924407475852643)"
      ]
     },
     "execution_count": 37,
     "metadata": {},
     "output_type": "execute_result"
    }
   ],
   "source": [
    "(model.predict(X) == y).mean(),((result.predict(X) > .5) * 1 == y).mean()"
   ]
  },
  {
   "cell_type": "code",
   "execution_count": 38,
   "id": "d9dbf609",
   "metadata": {},
   "outputs": [],
   "source": [
    "#((result.predict(X) > .5) * 1 == y).mean()"
   ]
  },
  {
   "cell_type": "markdown",
   "id": "ac324845",
   "metadata": {},
   "source": [
    "## ii) With validation set"
   ]
  },
  {
   "cell_type": "code",
   "execution_count": 39,
   "id": "08dad679",
   "metadata": {},
   "outputs": [],
   "source": [
    "X_train, X_test, y_train, y_test = train_test_split(X, y)"
   ]
  },
  {
   "cell_type": "markdown",
   "id": "d6abf71f",
   "metadata": {},
   "source": [
    "### Scaling for normalization"
   ]
  },
  {
   "cell_type": "code",
   "execution_count": 40,
   "id": "165983fb",
   "metadata": {},
   "outputs": [
    {
     "data": {
      "text/html": [
       "<style>#sk-container-id-1 {color: black;background-color: white;}#sk-container-id-1 pre{padding: 0;}#sk-container-id-1 div.sk-toggleable {background-color: white;}#sk-container-id-1 label.sk-toggleable__label {cursor: pointer;display: block;width: 100%;margin-bottom: 0;padding: 0.3em;box-sizing: border-box;text-align: center;}#sk-container-id-1 label.sk-toggleable__label-arrow:before {content: \"▸\";float: left;margin-right: 0.25em;color: #696969;}#sk-container-id-1 label.sk-toggleable__label-arrow:hover:before {color: black;}#sk-container-id-1 div.sk-estimator:hover label.sk-toggleable__label-arrow:before {color: black;}#sk-container-id-1 div.sk-toggleable__content {max-height: 0;max-width: 0;overflow: hidden;text-align: left;background-color: #f0f8ff;}#sk-container-id-1 div.sk-toggleable__content pre {margin: 0.2em;color: black;border-radius: 0.25em;background-color: #f0f8ff;}#sk-container-id-1 input.sk-toggleable__control:checked~div.sk-toggleable__content {max-height: 200px;max-width: 100%;overflow: auto;}#sk-container-id-1 input.sk-toggleable__control:checked~label.sk-toggleable__label-arrow:before {content: \"▾\";}#sk-container-id-1 div.sk-estimator input.sk-toggleable__control:checked~label.sk-toggleable__label {background-color: #d4ebff;}#sk-container-id-1 div.sk-label input.sk-toggleable__control:checked~label.sk-toggleable__label {background-color: #d4ebff;}#sk-container-id-1 input.sk-hidden--visually {border: 0;clip: rect(1px 1px 1px 1px);clip: rect(1px, 1px, 1px, 1px);height: 1px;margin: -1px;overflow: hidden;padding: 0;position: absolute;width: 1px;}#sk-container-id-1 div.sk-estimator {font-family: monospace;background-color: #f0f8ff;border: 1px dotted black;border-radius: 0.25em;box-sizing: border-box;margin-bottom: 0.5em;}#sk-container-id-1 div.sk-estimator:hover {background-color: #d4ebff;}#sk-container-id-1 div.sk-parallel-item::after {content: \"\";width: 100%;border-bottom: 1px solid gray;flex-grow: 1;}#sk-container-id-1 div.sk-label:hover label.sk-toggleable__label {background-color: #d4ebff;}#sk-container-id-1 div.sk-serial::before {content: \"\";position: absolute;border-left: 1px solid gray;box-sizing: border-box;top: 0;bottom: 0;left: 50%;z-index: 0;}#sk-container-id-1 div.sk-serial {display: flex;flex-direction: column;align-items: center;background-color: white;padding-right: 0.2em;padding-left: 0.2em;position: relative;}#sk-container-id-1 div.sk-item {position: relative;z-index: 1;}#sk-container-id-1 div.sk-parallel {display: flex;align-items: stretch;justify-content: center;background-color: white;position: relative;}#sk-container-id-1 div.sk-item::before, #sk-container-id-1 div.sk-parallel-item::before {content: \"\";position: absolute;border-left: 1px solid gray;box-sizing: border-box;top: 0;bottom: 0;left: 50%;z-index: -1;}#sk-container-id-1 div.sk-parallel-item {display: flex;flex-direction: column;z-index: 1;position: relative;background-color: white;}#sk-container-id-1 div.sk-parallel-item:first-child::after {align-self: flex-end;width: 50%;}#sk-container-id-1 div.sk-parallel-item:last-child::after {align-self: flex-start;width: 50%;}#sk-container-id-1 div.sk-parallel-item:only-child::after {width: 0;}#sk-container-id-1 div.sk-dashed-wrapped {border: 1px dashed gray;margin: 0 0.4em 0.5em 0.4em;box-sizing: border-box;padding-bottom: 0.4em;background-color: white;}#sk-container-id-1 div.sk-label label {font-family: monospace;font-weight: bold;display: inline-block;line-height: 1.2em;}#sk-container-id-1 div.sk-label-container {text-align: center;}#sk-container-id-1 div.sk-container {/* jupyter's `normalize.less` sets `[hidden] { display: none; }` but bootstrap.min.css set `[hidden] { display: none !important; }` so we also need the `!important` here to be able to override the default hidden behavior on the sphinx rendered scikit-learn.org. See: https://github.com/scikit-learn/scikit-learn/issues/21755 */display: inline-block !important;position: relative;}#sk-container-id-1 div.sk-text-repr-fallback {display: none;}</style><div id=\"sk-container-id-1\" class=\"sk-top-container\"><div class=\"sk-text-repr-fallback\"><pre>StandardScaler()</pre><b>In a Jupyter environment, please rerun this cell to show the HTML representation or trust the notebook. <br />On GitHub, the HTML representation is unable to render, please try loading this page with nbviewer.org.</b></div><div class=\"sk-container\" hidden><div class=\"sk-item\"><div class=\"sk-estimator sk-toggleable\"><input class=\"sk-toggleable__control sk-hidden--visually\" id=\"sk-estimator-id-1\" type=\"checkbox\" checked><label for=\"sk-estimator-id-1\" class=\"sk-toggleable__label sk-toggleable__label-arrow\">StandardScaler</label><div class=\"sk-toggleable__content\"><pre>StandardScaler()</pre></div></div></div></div></div>"
      ],
      "text/plain": [
       "StandardScaler()"
      ]
     },
     "execution_count": 40,
     "metadata": {},
     "output_type": "execute_result"
    }
   ],
   "source": [
    "#fit method will calculate the mean and standard deviation of your data, which will be used later to scale new data.\n",
    "scaler = StandardScaler()\n",
    "scaler.fit(X_train)"
   ]
  },
  {
   "cell_type": "code",
   "execution_count": 41,
   "id": "6387e777",
   "metadata": {},
   "outputs": [],
   "source": [
    "#Once the scaler is fit, you can use the transform method to scale your data.\n",
    "X_train_scaled = scaler.transform(X_train)"
   ]
  },
  {
   "cell_type": "code",
   "execution_count": 42,
   "id": "856fb78f",
   "metadata": {},
   "outputs": [
    {
     "data": {
      "text/plain": [
       "(array([16.82979124]),\n",
       " array([[-0.0099769 ,  3.32972617, -0.29078603,  0.12523898, -0.45331053]]))"
      ]
     },
     "execution_count": 42,
     "metadata": {},
     "output_type": "execute_result"
    }
   ],
   "source": [
    "model = LogisticRegression(C=10, tol=.001)\n",
    "model.fit(X_train_scaled, y_train)\n",
    "model.intercept_, model.coef_"
   ]
  },
  {
   "cell_type": "code",
   "execution_count": 43,
   "id": "561bffdc",
   "metadata": {},
   "outputs": [],
   "source": [
    " #To join the scaled independent variables with the dependent variable, you can use the pandas concat function\n",
    "X_train_scaled = pd.DataFrame(X_train_scaled, columns=X_train.columns)\n",
    "X_train_sm = pd.concat([X_train_scaled, y_train], axis=1)"
   ]
  },
  {
   "cell_type": "markdown",
   "id": "843bfe69",
   "metadata": {},
   "source": [
    "# Alternative Firth Logistic Regression()"
   ]
  },
  {
   "cell_type": "code",
   "execution_count": 44,
   "id": "c278342b",
   "metadata": {},
   "outputs": [
    {
     "name": "stdout",
     "output_type": "stream",
     "text": [
      "                  coef      std err       [0.025      0.975]    p-value\n",
      "---------  -----------  -----------  -----------  ----------  ---------\n",
      "x1         -0.202215     0.204764     -1.26713      0.815576   0.29409\n",
      "x2          0.276219     0.0251901     0.232455     0.510627   0\n",
      "x3          0.769375     0.679611     -6.32006      4.87952    0.231087\n",
      "x4         -0.00761967   0.00435316   -0.0246757    0.020555   0.141483\n",
      "x5         -0.48022      0.098861     -1.01         0.604746   0.128053\n",
      "Intercept  -9.79764     12.8973      -87.6286     131.294      0.197577\n",
      "\n",
      "Log-Likelihood: 11.9914\n",
      "Newton-Raphson iterations: 38\n",
      "\n",
      "None\n"
     ]
    }
   ],
   "source": [
    "# Fit the model\n",
    "model2 = FirthLogisticRegression(max_iter=1000, tol=1e-5)\n",
    "result2 = model2.fit(X_train, y_train)\n",
    "model.intercept_, model.coef_\n",
    "\n",
    "# Print the summary of the model\n",
    "print(result2.summary())"
   ]
  },
  {
   "cell_type": "markdown",
   "id": "201c98ea",
   "metadata": {},
   "source": [
    "# To check the accuracy and validation of model  "
   ]
  },
  {
   "cell_type": "code",
   "execution_count": 47,
   "id": "5dd25f04",
   "metadata": {},
   "outputs": [
    {
     "name": "stderr",
     "output_type": "stream",
     "text": [
      "C:\\Users\\Dila\\anaconda3\\lib\\site-packages\\sklearn\\base.py:443: UserWarning: X has feature names, but LogisticRegression was fitted without feature names\n",
      "  warnings.warn(\n"
     ]
    },
    {
     "data": {
      "text/plain": [
       "(0.9876884302105569, 0.9923066466311269)"
      ]
     },
     "execution_count": 47,
     "metadata": {},
     "output_type": "execute_result"
    }
   ],
   "source": [
    "# to check the difference of prediction\n",
    "# Nearly the same as training set. So not too much over fitting has happened\n",
    "(model.predict(X_test) == y_test).mean(), ((result.predict(X_test) > .5) * 1 == y_test).mean()"
   ]
  },
  {
   "cell_type": "code",
   "execution_count": 48,
   "id": "a8a8ab0f",
   "metadata": {},
   "outputs": [
    {
     "name": "stdout",
     "output_type": "stream",
     "text": [
      "Optimization terminated successfully.\n",
      "         Current function value: 0.043958\n",
      "         Iterations 10\n",
      "1.0 0.9922956246348964\n",
      "Optimization terminated successfully.\n",
      "         Current function value: 0.044277\n",
      "         Iterations 10\n",
      "1.0 0.9924425845846361\n",
      "Optimization terminated successfully.\n",
      "         Current function value: 0.044007\n",
      "         Iterations 10\n",
      "1.0 0.9922001006675656\n"
     ]
    }
   ],
   "source": [
    "# repeat for 3 different validation sets\n",
    "model = LogisticRegression(C=1000, tol=0.0001)\n",
    "\n",
    "for i in range(3):\n",
    "    X_train, X_test, y_train, y_test = train_test_split(X, y)\n",
    "    model.fit(X_train, y_train)\n",
    "    \n",
    "    X_train_sm = X_train.join(y_train)\n",
    "    result = smf.logit(formula='Battery_Status_2 ~ Output_Load + Temperature + Battery_Voltage + Input_Frequency', data=X_train_sm).fit()\n",
    "    print((model.predict(X_test) == y_test).mean(), ((result.predict(X_test) > .5) * 1 == y_test).mean())"
   ]
  },
  {
   "cell_type": "markdown",
   "id": "0c81a602",
   "metadata": {},
   "source": [
    "Error rate looks similar"
   ]
  }
 ],
 "metadata": {
  "kernelspec": {
   "display_name": "Python 3",
   "language": "python",
   "name": "python3"
  },
  "language_info": {
   "codemirror_mode": {
    "name": "ipython",
    "version": 3
   },
   "file_extension": ".py",
   "mimetype": "text/x-python",
   "name": "python",
   "nbconvert_exporter": "python",
   "pygments_lexer": "ipython3",
   "version": "3.8.8"
  }
 },
 "nbformat": 4,
 "nbformat_minor": 5
}
