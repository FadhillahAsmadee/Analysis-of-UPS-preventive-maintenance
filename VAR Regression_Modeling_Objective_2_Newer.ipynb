{
  "cells": [
    {
      "cell_type": "markdown",
      "metadata": {
        "id": "view-in-github",
        "colab_type": "text"
      },
      "source": [
        "<a href=\"https://colab.research.google.com/github/FadhillahAsmadee/Analysis-of-UPS-preventive-maintenance/blob/main/ARIMA_Modeling_Objective_2_Newer.ipynb\" target=\"_parent\"><img src=\"https://colab.research.google.com/assets/colab-badge.svg\" alt=\"Open In Colab\"/></a>"
      ]
    },
    {
      "cell_type": "markdown",
      "metadata": {
        "id": "g9Yd7vZ2ATla"
      },
      "source": [
        "from google.colab import drive\n",
        "drive.mount('/content/drive')"
      ],
      "id": "g9Yd7vZ2ATla"
    },
    {
      "cell_type": "code",
      "execution_count": 1,
      "metadata": {
        "colab": {
          "base_uri": "https://localhost:8080/"
        },
        "id": "feGx09S2WxJt",
        "outputId": "8a04139c-188f-4489-acd4-70d87efd998e"
      },
      "outputs": [
        {
          "output_type": "stream",
          "name": "stdout",
          "text": [
            "Mounted at /content/drive\n"
          ]
        }
      ],
      "source": [
        "from google.colab import drive\n",
        "drive.mount('/content/drive')"
      ],
      "id": "feGx09S2WxJt"
    },
    {
      "cell_type": "code",
      "execution_count": 3,
      "metadata": {
        "id": "3e2928e4"
      },
      "outputs": [],
      "source": [
        "import pandas as pd\n",
        "import numpy as np\n",
        "import matplotlib.pyplot as plt\n",
        "from statsmodels.tsa.arima.model import ARIMA\n",
        "from statsmodels.graphics.tsaplots import plot_acf, plot_pacf\n",
        "from sklearn.metrics import mean_squared_error\n",
        "import statsmodels.api as sm\n"
      ],
      "id": "3e2928e4"
    },
    {
      "cell_type": "code",
      "execution_count": 5,
      "metadata": {
        "id": "rQdQpjr0RaxO"
      },
      "outputs": [],
      "source": [
        "\n",
        "# Load the dataset\n",
        "data = pd.read_csv('/content/drive/MyDrive/testfinal_reduced.csv', parse_dates=['time'], index_col='time')"
      ],
      "id": "rQdQpjr0RaxO"
    },
    {
      "cell_type": "code",
      "execution_count": 7,
      "metadata": {
        "colab": {
          "base_uri": "https://localhost:8080/",
          "height": 364
        },
        "id": "cb11740b",
        "outputId": "2fe537f3-176c-4f5c-f4e7-5234dd065a46"
      },
      "outputs": [
        {
          "output_type": "execute_result",
          "data": {
            "text/plain": [
              "       Base_Config_Num_Device  Battery_Status  Battery_Voltage       Capacity  \\\n",
              "count                100000.0          1207.0    100000.000000  100000.000000   \n",
              "mean                      4.0             2.0        22.006910      96.669250   \n",
              "std                       0.0             0.0         0.149005       3.334079   \n",
              "min                       4.0             2.0        20.000000      55.000000   \n",
              "25%                       4.0             2.0        22.000000      93.000000   \n",
              "50%                       4.0             2.0        22.000000      95.000000   \n",
              "75%                       4.0             2.0        22.000000     100.000000   \n",
              "max                       4.0             2.0        24.000000     100.000000   \n",
              "\n",
              "       Config_Rated_Output_Voltage  Date_Manufacture  Full_Charge_Voltage  \\\n",
              "count                     100000.0               0.0        100000.000000   \n",
              "mean                        2300.0               NaN           857.988000   \n",
              "std                            0.0               NaN           538.365945   \n",
              "min                         2300.0               NaN           360.000000   \n",
              "25%                         2300.0               NaN           360.000000   \n",
              "50%                         2300.0               NaN           360.000000   \n",
              "75%                         2300.0               NaN          1440.000000   \n",
              "max                         2300.0               NaN          1440.000000   \n",
              "\n",
              "       Input_Frequency  Input_Line_Voltage  Input_Max_Line_Voltage  \\\n",
              "count      1178.000000       100000.000000           100000.000000   \n",
              "mean        456.140068         2412.558980             2509.544190   \n",
              "std         139.601119           86.037297               61.491142   \n",
              "min           0.000000            0.000000             2407.000000   \n",
              "25%         499.000000         2397.000000             2452.000000   \n",
              "50%         499.000000         2415.000000             2457.000000   \n",
              "75%         499.000000         2433.000000             2576.000000   \n",
              "max         500.000000         2573.000000             2576.000000   \n",
              "\n",
              "       Input_Min_Line_Voltage  Last_Replacement_Date  Output_Frequency  \\\n",
              "count             1515.000000                    0.0     100000.000000   \n",
              "mean              2248.163696                    NaN        498.449050   \n",
              "std                604.577547                    NaN         16.678988   \n",
              "min                  0.000000                    NaN          0.000000   \n",
              "25%               2388.000000                    NaN        499.000000   \n",
              "50%               2408.000000                    NaN        499.000000   \n",
              "75%               2426.000000                    NaN        499.000000   \n",
              "max               2460.000000                    NaN        500.000000   \n",
              "\n",
              "       Output_Line_Voltage  Output_Load  Output_Status  Remaining_Time  \\\n",
              "count        100000.000000  1178.000000  100000.000000    100000.00000   \n",
              "mean           2298.762290     5.824278       2.008130        15.77772   \n",
              "std               6.354988     3.199754       0.170834       655.20829   \n",
              "min            2287.000000     0.000000       2.000000         0.00000   \n",
              "25%            2297.000000     7.000000       2.000000         0.00000   \n",
              "50%            2300.000000     7.000000       2.000000         0.00000   \n",
              "75%            2300.000000     8.000000       2.000000         0.00000   \n",
              "max            2466.000000     8.000000       6.000000     53991.00000   \n",
              "\n",
              "       Replacement    Temperature  Time_On_Battery  \n",
              "count     100000.0  100000.000000    100000.000000  \n",
              "mean           0.0     281.566100         2.250820  \n",
              "std            0.0      40.322532        84.754814  \n",
              "min            0.0     230.000000         0.000000  \n",
              "25%            0.0     250.000000         0.000000  \n",
              "50%            0.0     250.000000         0.000000  \n",
              "75%            0.0     320.000000         0.000000  \n",
              "max            0.0     400.000000      5095.000000  "
            ],
            "text/html": [
              "\n",
              "  <div id=\"df-5b74479d-238e-47ea-8a23-219fb4aa4786\">\n",
              "    <div class=\"colab-df-container\">\n",
              "      <div>\n",
              "<style scoped>\n",
              "    .dataframe tbody tr th:only-of-type {\n",
              "        vertical-align: middle;\n",
              "    }\n",
              "\n",
              "    .dataframe tbody tr th {\n",
              "        vertical-align: top;\n",
              "    }\n",
              "\n",
              "    .dataframe thead th {\n",
              "        text-align: right;\n",
              "    }\n",
              "</style>\n",
              "<table border=\"1\" class=\"dataframe\">\n",
              "  <thead>\n",
              "    <tr style=\"text-align: right;\">\n",
              "      <th></th>\n",
              "      <th>Base_Config_Num_Device</th>\n",
              "      <th>Battery_Status</th>\n",
              "      <th>Battery_Voltage</th>\n",
              "      <th>Capacity</th>\n",
              "      <th>Config_Rated_Output_Voltage</th>\n",
              "      <th>Date_Manufacture</th>\n",
              "      <th>Full_Charge_Voltage</th>\n",
              "      <th>Input_Frequency</th>\n",
              "      <th>Input_Line_Voltage</th>\n",
              "      <th>Input_Max_Line_Voltage</th>\n",
              "      <th>Input_Min_Line_Voltage</th>\n",
              "      <th>Last_Replacement_Date</th>\n",
              "      <th>Output_Frequency</th>\n",
              "      <th>Output_Line_Voltage</th>\n",
              "      <th>Output_Load</th>\n",
              "      <th>Output_Status</th>\n",
              "      <th>Remaining_Time</th>\n",
              "      <th>Replacement</th>\n",
              "      <th>Temperature</th>\n",
              "      <th>Time_On_Battery</th>\n",
              "    </tr>\n",
              "  </thead>\n",
              "  <tbody>\n",
              "    <tr>\n",
              "      <th>count</th>\n",
              "      <td>100000.0</td>\n",
              "      <td>1207.0</td>\n",
              "      <td>100000.000000</td>\n",
              "      <td>100000.000000</td>\n",
              "      <td>100000.0</td>\n",
              "      <td>0.0</td>\n",
              "      <td>100000.000000</td>\n",
              "      <td>1178.000000</td>\n",
              "      <td>100000.000000</td>\n",
              "      <td>100000.000000</td>\n",
              "      <td>1515.000000</td>\n",
              "      <td>0.0</td>\n",
              "      <td>100000.000000</td>\n",
              "      <td>100000.000000</td>\n",
              "      <td>1178.000000</td>\n",
              "      <td>100000.000000</td>\n",
              "      <td>100000.00000</td>\n",
              "      <td>100000.0</td>\n",
              "      <td>100000.000000</td>\n",
              "      <td>100000.000000</td>\n",
              "    </tr>\n",
              "    <tr>\n",
              "      <th>mean</th>\n",
              "      <td>4.0</td>\n",
              "      <td>2.0</td>\n",
              "      <td>22.006910</td>\n",
              "      <td>96.669250</td>\n",
              "      <td>2300.0</td>\n",
              "      <td>NaN</td>\n",
              "      <td>857.988000</td>\n",
              "      <td>456.140068</td>\n",
              "      <td>2412.558980</td>\n",
              "      <td>2509.544190</td>\n",
              "      <td>2248.163696</td>\n",
              "      <td>NaN</td>\n",
              "      <td>498.449050</td>\n",
              "      <td>2298.762290</td>\n",
              "      <td>5.824278</td>\n",
              "      <td>2.008130</td>\n",
              "      <td>15.77772</td>\n",
              "      <td>0.0</td>\n",
              "      <td>281.566100</td>\n",
              "      <td>2.250820</td>\n",
              "    </tr>\n",
              "    <tr>\n",
              "      <th>std</th>\n",
              "      <td>0.0</td>\n",
              "      <td>0.0</td>\n",
              "      <td>0.149005</td>\n",
              "      <td>3.334079</td>\n",
              "      <td>0.0</td>\n",
              "      <td>NaN</td>\n",
              "      <td>538.365945</td>\n",
              "      <td>139.601119</td>\n",
              "      <td>86.037297</td>\n",
              "      <td>61.491142</td>\n",
              "      <td>604.577547</td>\n",
              "      <td>NaN</td>\n",
              "      <td>16.678988</td>\n",
              "      <td>6.354988</td>\n",
              "      <td>3.199754</td>\n",
              "      <td>0.170834</td>\n",
              "      <td>655.20829</td>\n",
              "      <td>0.0</td>\n",
              "      <td>40.322532</td>\n",
              "      <td>84.754814</td>\n",
              "    </tr>\n",
              "    <tr>\n",
              "      <th>min</th>\n",
              "      <td>4.0</td>\n",
              "      <td>2.0</td>\n",
              "      <td>20.000000</td>\n",
              "      <td>55.000000</td>\n",
              "      <td>2300.0</td>\n",
              "      <td>NaN</td>\n",
              "      <td>360.000000</td>\n",
              "      <td>0.000000</td>\n",
              "      <td>0.000000</td>\n",
              "      <td>2407.000000</td>\n",
              "      <td>0.000000</td>\n",
              "      <td>NaN</td>\n",
              "      <td>0.000000</td>\n",
              "      <td>2287.000000</td>\n",
              "      <td>0.000000</td>\n",
              "      <td>2.000000</td>\n",
              "      <td>0.00000</td>\n",
              "      <td>0.0</td>\n",
              "      <td>230.000000</td>\n",
              "      <td>0.000000</td>\n",
              "    </tr>\n",
              "    <tr>\n",
              "      <th>25%</th>\n",
              "      <td>4.0</td>\n",
              "      <td>2.0</td>\n",
              "      <td>22.000000</td>\n",
              "      <td>93.000000</td>\n",
              "      <td>2300.0</td>\n",
              "      <td>NaN</td>\n",
              "      <td>360.000000</td>\n",
              "      <td>499.000000</td>\n",
              "      <td>2397.000000</td>\n",
              "      <td>2452.000000</td>\n",
              "      <td>2388.000000</td>\n",
              "      <td>NaN</td>\n",
              "      <td>499.000000</td>\n",
              "      <td>2297.000000</td>\n",
              "      <td>7.000000</td>\n",
              "      <td>2.000000</td>\n",
              "      <td>0.00000</td>\n",
              "      <td>0.0</td>\n",
              "      <td>250.000000</td>\n",
              "      <td>0.000000</td>\n",
              "    </tr>\n",
              "    <tr>\n",
              "      <th>50%</th>\n",
              "      <td>4.0</td>\n",
              "      <td>2.0</td>\n",
              "      <td>22.000000</td>\n",
              "      <td>95.000000</td>\n",
              "      <td>2300.0</td>\n",
              "      <td>NaN</td>\n",
              "      <td>360.000000</td>\n",
              "      <td>499.000000</td>\n",
              "      <td>2415.000000</td>\n",
              "      <td>2457.000000</td>\n",
              "      <td>2408.000000</td>\n",
              "      <td>NaN</td>\n",
              "      <td>499.000000</td>\n",
              "      <td>2300.000000</td>\n",
              "      <td>7.000000</td>\n",
              "      <td>2.000000</td>\n",
              "      <td>0.00000</td>\n",
              "      <td>0.0</td>\n",
              "      <td>250.000000</td>\n",
              "      <td>0.000000</td>\n",
              "    </tr>\n",
              "    <tr>\n",
              "      <th>75%</th>\n",
              "      <td>4.0</td>\n",
              "      <td>2.0</td>\n",
              "      <td>22.000000</td>\n",
              "      <td>100.000000</td>\n",
              "      <td>2300.0</td>\n",
              "      <td>NaN</td>\n",
              "      <td>1440.000000</td>\n",
              "      <td>499.000000</td>\n",
              "      <td>2433.000000</td>\n",
              "      <td>2576.000000</td>\n",
              "      <td>2426.000000</td>\n",
              "      <td>NaN</td>\n",
              "      <td>499.000000</td>\n",
              "      <td>2300.000000</td>\n",
              "      <td>8.000000</td>\n",
              "      <td>2.000000</td>\n",
              "      <td>0.00000</td>\n",
              "      <td>0.0</td>\n",
              "      <td>320.000000</td>\n",
              "      <td>0.000000</td>\n",
              "    </tr>\n",
              "    <tr>\n",
              "      <th>max</th>\n",
              "      <td>4.0</td>\n",
              "      <td>2.0</td>\n",
              "      <td>24.000000</td>\n",
              "      <td>100.000000</td>\n",
              "      <td>2300.0</td>\n",
              "      <td>NaN</td>\n",
              "      <td>1440.000000</td>\n",
              "      <td>500.000000</td>\n",
              "      <td>2573.000000</td>\n",
              "      <td>2576.000000</td>\n",
              "      <td>2460.000000</td>\n",
              "      <td>NaN</td>\n",
              "      <td>500.000000</td>\n",
              "      <td>2466.000000</td>\n",
              "      <td>8.000000</td>\n",
              "      <td>6.000000</td>\n",
              "      <td>53991.00000</td>\n",
              "      <td>0.0</td>\n",
              "      <td>400.000000</td>\n",
              "      <td>5095.000000</td>\n",
              "    </tr>\n",
              "  </tbody>\n",
              "</table>\n",
              "</div>\n",
              "      <button class=\"colab-df-convert\" onclick=\"convertToInteractive('df-5b74479d-238e-47ea-8a23-219fb4aa4786')\"\n",
              "              title=\"Convert this dataframe to an interactive table.\"\n",
              "              style=\"display:none;\">\n",
              "        \n",
              "  <svg xmlns=\"http://www.w3.org/2000/svg\" height=\"24px\"viewBox=\"0 0 24 24\"\n",
              "       width=\"24px\">\n",
              "    <path d=\"M0 0h24v24H0V0z\" fill=\"none\"/>\n",
              "    <path d=\"M18.56 5.44l.94 2.06.94-2.06 2.06-.94-2.06-.94-.94-2.06-.94 2.06-2.06.94zm-11 1L8.5 8.5l.94-2.06 2.06-.94-2.06-.94L8.5 2.5l-.94 2.06-2.06.94zm10 10l.94 2.06.94-2.06 2.06-.94-2.06-.94-.94-2.06-.94 2.06-2.06.94z\"/><path d=\"M17.41 7.96l-1.37-1.37c-.4-.4-.92-.59-1.43-.59-.52 0-1.04.2-1.43.59L10.3 9.45l-7.72 7.72c-.78.78-.78 2.05 0 2.83L4 21.41c.39.39.9.59 1.41.59.51 0 1.02-.2 1.41-.59l7.78-7.78 2.81-2.81c.8-.78.8-2.07 0-2.86zM5.41 20L4 18.59l7.72-7.72 1.47 1.35L5.41 20z\"/>\n",
              "  </svg>\n",
              "      </button>\n",
              "      \n",
              "  <style>\n",
              "    .colab-df-container {\n",
              "      display:flex;\n",
              "      flex-wrap:wrap;\n",
              "      gap: 12px;\n",
              "    }\n",
              "\n",
              "    .colab-df-convert {\n",
              "      background-color: #E8F0FE;\n",
              "      border: none;\n",
              "      border-radius: 50%;\n",
              "      cursor: pointer;\n",
              "      display: none;\n",
              "      fill: #1967D2;\n",
              "      height: 32px;\n",
              "      padding: 0 0 0 0;\n",
              "      width: 32px;\n",
              "    }\n",
              "\n",
              "    .colab-df-convert:hover {\n",
              "      background-color: #E2EBFA;\n",
              "      box-shadow: 0px 1px 2px rgba(60, 64, 67, 0.3), 0px 1px 3px 1px rgba(60, 64, 67, 0.15);\n",
              "      fill: #174EA6;\n",
              "    }\n",
              "\n",
              "    [theme=dark] .colab-df-convert {\n",
              "      background-color: #3B4455;\n",
              "      fill: #D2E3FC;\n",
              "    }\n",
              "\n",
              "    [theme=dark] .colab-df-convert:hover {\n",
              "      background-color: #434B5C;\n",
              "      box-shadow: 0px 1px 3px 1px rgba(0, 0, 0, 0.15);\n",
              "      filter: drop-shadow(0px 1px 2px rgba(0, 0, 0, 0.3));\n",
              "      fill: #FFFFFF;\n",
              "    }\n",
              "  </style>\n",
              "\n",
              "      <script>\n",
              "        const buttonEl =\n",
              "          document.querySelector('#df-5b74479d-238e-47ea-8a23-219fb4aa4786 button.colab-df-convert');\n",
              "        buttonEl.style.display =\n",
              "          google.colab.kernel.accessAllowed ? 'block' : 'none';\n",
              "\n",
              "        async function convertToInteractive(key) {\n",
              "          const element = document.querySelector('#df-5b74479d-238e-47ea-8a23-219fb4aa4786');\n",
              "          const dataTable =\n",
              "            await google.colab.kernel.invokeFunction('convertToInteractive',\n",
              "                                                     [key], {});\n",
              "          if (!dataTable) return;\n",
              "\n",
              "          const docLinkHtml = 'Like what you see? Visit the ' +\n",
              "            '<a target=\"_blank\" href=https://colab.research.google.com/notebooks/data_table.ipynb>data table notebook</a>'\n",
              "            + ' to learn more about interactive tables.';\n",
              "          element.innerHTML = '';\n",
              "          dataTable['output_type'] = 'display_data';\n",
              "          await google.colab.output.renderOutput(dataTable, element);\n",
              "          const docLink = document.createElement('div');\n",
              "          docLink.innerHTML = docLinkHtml;\n",
              "          element.appendChild(docLink);\n",
              "        }\n",
              "      </script>\n",
              "    </div>\n",
              "  </div>\n",
              "  "
            ]
          },
          "metadata": {},
          "execution_count": 7
        }
      ],
      "source": [
        "data.describe()"
      ],
      "id": "cb11740b"
    },
    {
      "cell_type": "markdown",
      "metadata": {
        "id": "e983c014"
      },
      "source": [
        "# Data Cleansing"
      ],
      "id": "e983c014"
    },
    {
      "cell_type": "code",
      "execution_count": 8,
      "metadata": {
        "id": "b2c322eb"
      },
      "outputs": [],
      "source": [
        "data_new=data.drop(['name','Last_Replacement_Date','Date_Manufacture','Config_Rated_Output_Voltage','Replacement','Base_Config_Num_Device','Battery_Status','Input_Max_Line_Voltage','Input_Min_Line_Voltage','host','Output_Status','Remaining_Time','Time_On_Battery','Output_Frequency','Input_Line_Voltage'], axis=1)"
      ],
      "id": "b2c322eb"
    },
    {
      "cell_type": "code",
      "source": [
        "# Format the index column as datetime\n",
        "data_new.index = pd.to_datetime(data_new.index, format='%Y-%m-%dT%H:%M:%S.%fZ')\n",
        "\n",
        "# Format the index column as a string\n",
        "data_new.index = data_new.index.strftime('%Y-%m-%d %H:%M:%S')"
      ],
      "metadata": {
        "id": "YNZpG8fk_UuA"
      },
      "id": "YNZpG8fk_UuA",
      "execution_count": 9,
      "outputs": []
    },
    {
      "cell_type": "code",
      "execution_count": 10,
      "metadata": {
        "colab": {
          "base_uri": "https://localhost:8080/",
          "height": 238
        },
        "id": "5cd847fa",
        "outputId": "6ffd9fd7-7397-4c52-cb40-916d85beac9e"
      },
      "outputs": [
        {
          "output_type": "execute_result",
          "data": {
            "text/plain": [
              "                     Battery_Voltage  Capacity  Full_Charge_Voltage  \\\n",
              "time                                                                  \n",
              "2022-12-26 02:00:59               22       100                 1440   \n",
              "2023-01-01 13:27:35               22        93                  360   \n",
              "2022-12-25 03:11:24               22       100                 1440   \n",
              "2023-01-12 05:12:32               22        95                  360   \n",
              "2022-12-20 12:21:19               22        95                  360   \n",
              "\n",
              "                     Input_Frequency  Output_Line_Voltage  Output_Load  \\\n",
              "time                                                                     \n",
              "2022-12-26 02:00:59              NaN                 2301          NaN   \n",
              "2023-01-01 13:27:35              NaN                 2300          NaN   \n",
              "2022-12-25 03:11:24              NaN                 2293          NaN   \n",
              "2023-01-12 05:12:32              NaN                 2300          NaN   \n",
              "2022-12-20 12:21:19              NaN                 2300          NaN   \n",
              "\n",
              "                     Temperature  \n",
              "time                              \n",
              "2022-12-26 02:00:59          350  \n",
              "2023-01-01 13:27:35          250  \n",
              "2022-12-25 03:11:24          330  \n",
              "2023-01-12 05:12:32          250  \n",
              "2022-12-20 12:21:19          250  "
            ],
            "text/html": [
              "\n",
              "  <div id=\"df-7913ae2a-1425-4c90-bea4-4e161871721e\">\n",
              "    <div class=\"colab-df-container\">\n",
              "      <div>\n",
              "<style scoped>\n",
              "    .dataframe tbody tr th:only-of-type {\n",
              "        vertical-align: middle;\n",
              "    }\n",
              "\n",
              "    .dataframe tbody tr th {\n",
              "        vertical-align: top;\n",
              "    }\n",
              "\n",
              "    .dataframe thead th {\n",
              "        text-align: right;\n",
              "    }\n",
              "</style>\n",
              "<table border=\"1\" class=\"dataframe\">\n",
              "  <thead>\n",
              "    <tr style=\"text-align: right;\">\n",
              "      <th></th>\n",
              "      <th>Battery_Voltage</th>\n",
              "      <th>Capacity</th>\n",
              "      <th>Full_Charge_Voltage</th>\n",
              "      <th>Input_Frequency</th>\n",
              "      <th>Output_Line_Voltage</th>\n",
              "      <th>Output_Load</th>\n",
              "      <th>Temperature</th>\n",
              "    </tr>\n",
              "    <tr>\n",
              "      <th>time</th>\n",
              "      <th></th>\n",
              "      <th></th>\n",
              "      <th></th>\n",
              "      <th></th>\n",
              "      <th></th>\n",
              "      <th></th>\n",
              "      <th></th>\n",
              "    </tr>\n",
              "  </thead>\n",
              "  <tbody>\n",
              "    <tr>\n",
              "      <th>2022-12-26 02:00:59</th>\n",
              "      <td>22</td>\n",
              "      <td>100</td>\n",
              "      <td>1440</td>\n",
              "      <td>NaN</td>\n",
              "      <td>2301</td>\n",
              "      <td>NaN</td>\n",
              "      <td>350</td>\n",
              "    </tr>\n",
              "    <tr>\n",
              "      <th>2023-01-01 13:27:35</th>\n",
              "      <td>22</td>\n",
              "      <td>93</td>\n",
              "      <td>360</td>\n",
              "      <td>NaN</td>\n",
              "      <td>2300</td>\n",
              "      <td>NaN</td>\n",
              "      <td>250</td>\n",
              "    </tr>\n",
              "    <tr>\n",
              "      <th>2022-12-25 03:11:24</th>\n",
              "      <td>22</td>\n",
              "      <td>100</td>\n",
              "      <td>1440</td>\n",
              "      <td>NaN</td>\n",
              "      <td>2293</td>\n",
              "      <td>NaN</td>\n",
              "      <td>330</td>\n",
              "    </tr>\n",
              "    <tr>\n",
              "      <th>2023-01-12 05:12:32</th>\n",
              "      <td>22</td>\n",
              "      <td>95</td>\n",
              "      <td>360</td>\n",
              "      <td>NaN</td>\n",
              "      <td>2300</td>\n",
              "      <td>NaN</td>\n",
              "      <td>250</td>\n",
              "    </tr>\n",
              "    <tr>\n",
              "      <th>2022-12-20 12:21:19</th>\n",
              "      <td>22</td>\n",
              "      <td>95</td>\n",
              "      <td>360</td>\n",
              "      <td>NaN</td>\n",
              "      <td>2300</td>\n",
              "      <td>NaN</td>\n",
              "      <td>250</td>\n",
              "    </tr>\n",
              "  </tbody>\n",
              "</table>\n",
              "</div>\n",
              "      <button class=\"colab-df-convert\" onclick=\"convertToInteractive('df-7913ae2a-1425-4c90-bea4-4e161871721e')\"\n",
              "              title=\"Convert this dataframe to an interactive table.\"\n",
              "              style=\"display:none;\">\n",
              "        \n",
              "  <svg xmlns=\"http://www.w3.org/2000/svg\" height=\"24px\"viewBox=\"0 0 24 24\"\n",
              "       width=\"24px\">\n",
              "    <path d=\"M0 0h24v24H0V0z\" fill=\"none\"/>\n",
              "    <path d=\"M18.56 5.44l.94 2.06.94-2.06 2.06-.94-2.06-.94-.94-2.06-.94 2.06-2.06.94zm-11 1L8.5 8.5l.94-2.06 2.06-.94-2.06-.94L8.5 2.5l-.94 2.06-2.06.94zm10 10l.94 2.06.94-2.06 2.06-.94-2.06-.94-.94-2.06-.94 2.06-2.06.94z\"/><path d=\"M17.41 7.96l-1.37-1.37c-.4-.4-.92-.59-1.43-.59-.52 0-1.04.2-1.43.59L10.3 9.45l-7.72 7.72c-.78.78-.78 2.05 0 2.83L4 21.41c.39.39.9.59 1.41.59.51 0 1.02-.2 1.41-.59l7.78-7.78 2.81-2.81c.8-.78.8-2.07 0-2.86zM5.41 20L4 18.59l7.72-7.72 1.47 1.35L5.41 20z\"/>\n",
              "  </svg>\n",
              "      </button>\n",
              "      \n",
              "  <style>\n",
              "    .colab-df-container {\n",
              "      display:flex;\n",
              "      flex-wrap:wrap;\n",
              "      gap: 12px;\n",
              "    }\n",
              "\n",
              "    .colab-df-convert {\n",
              "      background-color: #E8F0FE;\n",
              "      border: none;\n",
              "      border-radius: 50%;\n",
              "      cursor: pointer;\n",
              "      display: none;\n",
              "      fill: #1967D2;\n",
              "      height: 32px;\n",
              "      padding: 0 0 0 0;\n",
              "      width: 32px;\n",
              "    }\n",
              "\n",
              "    .colab-df-convert:hover {\n",
              "      background-color: #E2EBFA;\n",
              "      box-shadow: 0px 1px 2px rgba(60, 64, 67, 0.3), 0px 1px 3px 1px rgba(60, 64, 67, 0.15);\n",
              "      fill: #174EA6;\n",
              "    }\n",
              "\n",
              "    [theme=dark] .colab-df-convert {\n",
              "      background-color: #3B4455;\n",
              "      fill: #D2E3FC;\n",
              "    }\n",
              "\n",
              "    [theme=dark] .colab-df-convert:hover {\n",
              "      background-color: #434B5C;\n",
              "      box-shadow: 0px 1px 3px 1px rgba(0, 0, 0, 0.15);\n",
              "      filter: drop-shadow(0px 1px 2px rgba(0, 0, 0, 0.3));\n",
              "      fill: #FFFFFF;\n",
              "    }\n",
              "  </style>\n",
              "\n",
              "      <script>\n",
              "        const buttonEl =\n",
              "          document.querySelector('#df-7913ae2a-1425-4c90-bea4-4e161871721e button.colab-df-convert');\n",
              "        buttonEl.style.display =\n",
              "          google.colab.kernel.accessAllowed ? 'block' : 'none';\n",
              "\n",
              "        async function convertToInteractive(key) {\n",
              "          const element = document.querySelector('#df-7913ae2a-1425-4c90-bea4-4e161871721e');\n",
              "          const dataTable =\n",
              "            await google.colab.kernel.invokeFunction('convertToInteractive',\n",
              "                                                     [key], {});\n",
              "          if (!dataTable) return;\n",
              "\n",
              "          const docLinkHtml = 'Like what you see? Visit the ' +\n",
              "            '<a target=\"_blank\" href=https://colab.research.google.com/notebooks/data_table.ipynb>data table notebook</a>'\n",
              "            + ' to learn more about interactive tables.';\n",
              "          element.innerHTML = '';\n",
              "          dataTable['output_type'] = 'display_data';\n",
              "          await google.colab.output.renderOutput(dataTable, element);\n",
              "          const docLink = document.createElement('div');\n",
              "          docLink.innerHTML = docLinkHtml;\n",
              "          element.appendChild(docLink);\n",
              "        }\n",
              "      </script>\n",
              "    </div>\n",
              "  </div>\n",
              "  "
            ]
          },
          "metadata": {},
          "execution_count": 10
        }
      ],
      "source": [
        "data_new.head()"
      ],
      "id": "5cd847fa"
    },
    {
      "cell_type": "code",
      "execution_count": 11,
      "metadata": {
        "colab": {
          "base_uri": "https://localhost:8080/"
        },
        "id": "9f1d0f15",
        "outputId": "f18a7378-76c2-4b28-e8f2-c023774a0007"
      },
      "outputs": [
        {
          "output_type": "execute_result",
          "data": {
            "text/plain": [
              "Battery_Voltage            NaN\n",
              "Capacity                   NaN\n",
              "Full_Charge_Voltage        NaN\n",
              "Input_Frequency        98822.0\n",
              "Output_Line_Voltage        NaN\n",
              "Output_Load            98822.0\n",
              "Temperature                NaN\n",
              "dtype: float64"
            ]
          },
          "metadata": {},
          "execution_count": 11
        }
      ],
      "source": [
        "data_new.isna().sum().where(lambda x: x>0)"
      ],
      "id": "9f1d0f15"
    },
    {
      "cell_type": "code",
      "execution_count": 12,
      "metadata": {
        "id": "6788abea"
      },
      "outputs": [],
      "source": [
        "# impute the missing values with mean\n",
        "data_new['Input_Frequency'] = data_new['Input_Frequency'].fillna(data_new['Input_Frequency'].mean())\n",
        "data_new['Output_Load'] = data_new['Output_Load'].fillna(data_new['Output_Load'].mean())"
      ],
      "id": "6788abea"
    },
    {
      "cell_type": "code",
      "execution_count": 13,
      "metadata": {
        "id": "aae7fafc"
      },
      "outputs": [],
      "source": [
        "# to standardize the data\n",
        "data_new['Temperature'] = (data_new['Temperature'] * 0.10).round(2)\n",
        "data_new['Full_Charge_Voltage'] = (data_new['Full_Charge_Voltage'] * 0.10).round(2)\n",
        "data_new['Output_Line_Voltage'] = (data_new['Output_Line_Voltage'] * 0.10).round(2)\n",
        "\n",
        "#data_new['Input_Max_Line_Voltage'] = (data_new['Input_Max_Line_Voltage'] * 0.10).round(2)\n",
        "#data_new['Input_Min_Line_Voltage'] = (data_new['Input_Min_Line_Voltage'] * 0.10).round(2)\n",
        "#data_new['Input_Line_Voltage'] = (data_new['Input_Line_Voltage'] * 0.10).round(2)"
      ],
      "id": "aae7fafc"
    },
    {
      "cell_type": "code",
      "execution_count": 14,
      "metadata": {
        "colab": {
          "base_uri": "https://localhost:8080/"
        },
        "id": "7988ef1c",
        "outputId": "87f211d9-a0c9-4d38-d53e-9081cb4d825c"
      },
      "outputs": [
        {
          "output_type": "execute_result",
          "data": {
            "text/plain": [
              "Index(['Battery_Voltage', 'Capacity', 'Full_Charge_Voltage', 'Input_Frequency',\n",
              "       'Output_Line_Voltage', 'Output_Load', 'Temperature'],\n",
              "      dtype='object')"
            ]
          },
          "metadata": {},
          "execution_count": 14
        }
      ],
      "source": [
        "data_new.columns"
      ],
      "id": "7988ef1c"
    },
    {
      "cell_type": "markdown",
      "metadata": {
        "id": "aaa1b1ae"
      },
      "source": [
        "# Check assumptions"
      ],
      "id": "aaa1b1ae"
    },
    {
      "cell_type": "code",
      "source": [
        "# Check linearity assumption\n",
        "fig, axes = plt.subplots(nrows=1, ncols=len(data_new.columns), figsize=(20, 5))\n",
        "for i, col in enumerate(data_new.columns):\n",
        "    axes[i].scatter(data_new[col], data_new['Capacity'])\n",
        "    axes[i].set_xlabel(col)\n",
        "    axes[i].set_ylabel('Capacity')\n",
        "plt.show()"
      ],
      "metadata": {
        "colab": {
          "base_uri": "https://localhost:8080/",
          "height": 335
        },
        "id": "beb1rnAQ_Q3B",
        "outputId": "f2b84342-b9ea-48c3-8215-2c052bf4de8f"
      },
      "id": "beb1rnAQ_Q3B",
      "execution_count": null,
      "outputs": [
        {
          "output_type": "display_data",
          "data": {
            "text/plain": [
              "<Figure size 1440x360 with 9 Axes>"
            ],
            "image/png": "[encoded data removed]"
          },
          "metadata": {
            "needs_background": "light"
          }
        }
      ]
    },
    {
      "cell_type": "code",
      "source": [
        "# Check stationarity assumption\n",
        "#fig, axes = plt.subplots(nrows=len(data_new.columns), ncols=1, figsize=(10, 10))\n",
        "#for i, col in enumerate(data_new.columns):\n",
        " #   sm.graphics.tsa.plot_acf(data_new[col], ax=axes[i], title=col)\n",
        "#plt.show()"
      ],
      "metadata": {
        "id": "-XsitNR8_TJm"
      },
      "id": "-XsitNR8_TJm",
      "execution_count": null,
      "outputs": []
    },
    {
      "cell_type": "code",
      "source": [
        "# Check autocorrelation assumption\n",
        "fig, ax = plt.subplots(figsize=(10, 5))\n",
        "sm.graphics.tsa.plot_acf(data_new['Capacity'], ax=ax, title='Capacity')\n",
        "plt.show()"
      ],
      "metadata": {
        "colab": {
          "base_uri": "https://localhost:8080/",
          "height": 336
        },
        "id": "Kkr3xYHPPDFS",
        "outputId": "b04fd65b-93c2-434a-cc2c-15baba85c968"
      },
      "id": "Kkr3xYHPPDFS",
      "execution_count": null,
      "outputs": [
        {
          "output_type": "display_data",
          "data": {
            "text/plain": [
              "<Figure size 720x360 with 1 Axes>"
            ],
            "image/png": "[encoded data removed]"
          },
          "metadata": {
            "needs_background": "light"
          }
        }
      ]
    },
    {
      "cell_type": "markdown",
      "source": [
        "Check Assumptions 2.0"
      ],
      "metadata": {
        "id": "hQfD9q6VfEKY"
      },
      "id": "hQfD9q6VfEKY"
    },
    {
      "cell_type": "code",
      "source": [
        "data_new.columns"
      ],
      "metadata": {
        "colab": {
          "base_uri": "https://localhost:8080/"
        },
        "id": "6lI4zuE4fTIf",
        "outputId": "d2aa8127-a1e3-4040-eebe-5af0759b65ca"
      },
      "id": "6lI4zuE4fTIf",
      "execution_count": 15,
      "outputs": [
        {
          "output_type": "execute_result",
          "data": {
            "text/plain": [
              "Index(['Battery_Voltage', 'Capacity', 'Full_Charge_Voltage', 'Input_Frequency',\n",
              "       'Output_Line_Voltage', 'Output_Load', 'Temperature'],\n",
              "      dtype='object')"
            ]
          },
          "metadata": {},
          "execution_count": 15
        }
      ]
    },
    {
      "cell_type": "code",
      "source": [
        "from statsmodels.tsa.stattools import adfuller\n",
        "result = adfuller(data_new['Temperature'])\n",
        "print('ADF Statistic: %f' % result[0])\n",
        "print('p-value: %f' % result[1])"
      ],
      "metadata": {
        "colab": {
          "base_uri": "https://localhost:8080/"
        },
        "id": "IBmJYgurfacg",
        "outputId": "43fbc89b-2487-40c8-a375-bb73f6798daa"
      },
      "id": "IBmJYgurfacg",
      "execution_count": 16,
      "outputs": [
        {
          "output_type": "stream",
          "name": "stdout",
          "text": [
            "ADF Statistic: -315.740557\n",
            "p-value: 0.000000\n"
          ]
        }
      ]
    },
    {
      "cell_type": "code",
      "source": [
        "result = adfuller(data_new['Output_Line_Voltage'])\n",
        "print('ADF Statistic: %f' % result[0])\n",
        "print('p-value: %f' % result[1])"
      ],
      "metadata": {
        "colab": {
          "base_uri": "https://localhost:8080/"
        },
        "id": "FBmkt7isfaaO",
        "outputId": "e0ac1f82-6d67-4e78-ebd8-0b29d9d7b119"
      },
      "id": "FBmkt7isfaaO",
      "execution_count": 17,
      "outputs": [
        {
          "output_type": "stream",
          "name": "stdout",
          "text": [
            "ADF Statistic: -316.664372\n",
            "p-value: 0.000000\n"
          ]
        }
      ]
    },
    {
      "cell_type": "code",
      "source": [
        "result = adfuller(data_new['Output_Load'])\n",
        "print('ADF Statistic: %f' % result[0])\n",
        "print('p-value: %f' % result[1])"
      ],
      "metadata": {
        "colab": {
          "base_uri": "https://localhost:8080/"
        },
        "id": "cwJyKMqUfaVK",
        "outputId": "1d3417ad-1ea3-4f83-cafb-c664cb4161af"
      },
      "id": "cwJyKMqUfaVK",
      "execution_count": 18,
      "outputs": [
        {
          "output_type": "stream",
          "name": "stdout",
          "text": [
            "ADF Statistic: -159.177320\n",
            "p-value: 0.000000\n"
          ]
        }
      ]
    },
    {
      "cell_type": "code",
      "source": [
        "model = sm.tsa.VAR(data_new)\n",
        "results = model.fit()\n",
        "residuals = results.resid\n",
        "for col in residuals.columns:\n",
        "    print(\"Normality test of residuals for\", col, \":\\n\", sm.stats.acorr_ljungbox(residuals[col], lags=[20], boxpierce=True))\n"
      ],
      "metadata": {
        "colab": {
          "base_uri": "https://localhost:8080/"
        },
        "id": "Pb4ukbFTjnUg",
        "outputId": "4d3d6aae-dec3-4627-9ff0-5c2e92b024e0"
      },
      "id": "Pb4ukbFTjnUg",
      "execution_count": 23,
      "outputs": [
        {
          "output_type": "stream",
          "name": "stderr",
          "text": [
            "/usr/local/lib/python3.8/dist-packages/statsmodels/tsa/base/tsa_model.py:471: ValueWarning: A date index has been provided, but it has no associated frequency information and so will be ignored when e.g. forecasting.\n",
            "  self._init_dates(dates, freq)\n",
            "/usr/local/lib/python3.8/dist-packages/statsmodels/tsa/base/tsa_model.py:471: ValueWarning: A date index has been provided, but it is not monotonic and so will be ignored when e.g. forecasting.\n",
            "  self._init_dates(dates, freq)\n"
          ]
        },
        {
          "output_type": "stream",
          "name": "stdout",
          "text": [
            "Normality test of residuals for Battery_Voltage :\n",
            "       lb_stat  lb_pvalue    bp_stat  bp_pvalue\n",
            "20  22.320389   0.323382  22.317448   0.323536\n",
            "Normality test of residuals for Capacity :\n",
            "       lb_stat  lb_pvalue    bp_stat  bp_pvalue\n",
            "20  30.338047   0.064558  30.334276   0.064615\n",
            "Normality test of residuals for Full_Charge_Voltage :\n",
            "       lb_stat  lb_pvalue    bp_stat  bp_pvalue\n",
            "20  25.593181   0.179672  25.590096    0.17978\n",
            "Normality test of residuals for Input_Frequency :\n",
            "       lb_stat  lb_pvalue    bp_stat  bp_pvalue\n",
            "20  32.013026    0.04316  32.008992   0.043203\n",
            "Normality test of residuals for Output_Line_Voltage :\n",
            "      lb_stat  lb_pvalue   bp_stat  bp_pvalue\n",
            "20  8.768286   0.985439  8.767599   0.985446\n",
            "Normality test of residuals for Output_Load :\n",
            "       lb_stat  lb_pvalue   bp_stat  bp_pvalue\n",
            "20  23.899709   0.246801  23.89688   0.246926\n",
            "Normality test of residuals for Temperature :\n",
            "       lb_stat  lb_pvalue    bp_stat  bp_pvalue\n",
            "20  14.126795   0.824009  14.124975   0.824103\n"
          ]
        }
      ]
    },
    {
      "cell_type": "code",
      "source": [
        "# create VAR model with all variables\n",
        "model = sm.tsa.VAR(data_new)"
      ],
      "metadata": {
        "colab": {
          "base_uri": "https://localhost:8080/"
        },
        "id": "0PyaVRXMkR86",
        "outputId": "ac03e48e-b9c2-4f09-9cfc-2546f5b62188"
      },
      "id": "0PyaVRXMkR86",
      "execution_count": 24,
      "outputs": [
        {
          "output_type": "stream",
          "name": "stderr",
          "text": [
            "/usr/local/lib/python3.8/dist-packages/statsmodels/tsa/base/tsa_model.py:471: ValueWarning: A date index has been provided, but it has no associated frequency information and so will be ignored when e.g. forecasting.\n",
            "  self._init_dates(dates, freq)\n",
            "/usr/local/lib/python3.8/dist-packages/statsmodels/tsa/base/tsa_model.py:471: ValueWarning: A date index has been provided, but it is not monotonic and so will be ignored when e.g. forecasting.\n",
            "  self._init_dates(dates, freq)\n"
          ]
        }
      ]
    },
    {
      "cell_type": "code",
      "source": [
        "# fit the model\n",
        "results = model.fit()"
      ],
      "metadata": {
        "id": "WdPSd7IjkR6s"
      },
      "id": "WdPSd7IjkR6s",
      "execution_count": 25,
      "outputs": []
    },
    {
      "cell_type": "code",
      "source": [
        "# print the summary of the model\n",
        "print(results.summary())"
      ],
      "metadata": {
        "colab": {
          "base_uri": "https://localhost:8080/"
        },
        "id": "RXwmXg8kkR4U",
        "outputId": "4e89c80f-7d31-4572-92f8-282ef75d0bc5"
      },
      "id": "RXwmXg8kkR4U",
      "execution_count": 26,
      "outputs": [
        {
          "output_type": "stream",
          "name": "stdout",
          "text": [
            "  Summary of Regression Results   \n",
            "==================================\n",
            "Model:                         VAR\n",
            "Method:                        OLS\n",
            "Date:           Fri, 03, Mar, 2023\n",
            "Time:                     03:44:12\n",
            "--------------------------------------------------------------------\n",
            "No. of Equations:         7.00000    BIC:                    7.51423\n",
            "Nobs:                     99999.0    HQIC:                   7.51052\n",
            "Log likelihood:      -1.36863e+06    FPE:                    1824.21\n",
            "AIC:                      7.50890    Det(Omega_mle):         1823.19\n",
            "--------------------------------------------------------------------\n",
            "Results for equation Battery_Voltage\n",
            "=========================================================================================\n",
            "                            coefficient       std. error           t-stat            prob\n",
            "-----------------------------------------------------------------------------------------\n",
            "const                         22.132388         0.196130          112.845           0.000\n",
            "L1.Battery_Voltage            -0.003066         0.003874           -0.791           0.429\n",
            "L1.Capacity                   -0.000644         0.000504           -1.277           0.201\n",
            "L1.Full_Charge_Voltage         0.000023         0.000032            0.706           0.480\n",
            "L1.Input_Frequency            -0.000010         0.000055           -0.177           0.860\n",
            "L1.Output_Line_Voltage         0.000006         0.000766            0.008           0.994\n",
            "L1.Output_Load                -0.000371         0.001364           -0.272           0.786\n",
            "L1.Temperature                 0.000265         0.000221            1.198           0.231\n",
            "=========================================================================================\n",
            "\n",
            "Results for equation Capacity\n",
            "=========================================================================================\n",
            "                            coefficient       std. error           t-stat            prob\n",
            "-----------------------------------------------------------------------------------------\n",
            "const                         92.465854         4.388517           21.070           0.000\n",
            "L1.Battery_Voltage             0.016642         0.086672            0.192           0.848\n",
            "L1.Capacity                    0.009688         0.011281            0.859           0.390\n",
            "L1.Full_Charge_Voltage        -0.000517         0.000726           -0.712           0.476\n",
            "L1.Input_Frequency             0.000327         0.001226            0.267           0.790\n",
            "L1.Output_Line_Voltage         0.013836         0.017133            0.808           0.419\n",
            "L1.Output_Load                -0.067932         0.030518           -2.226           0.026\n",
            "L1.Temperature                 0.000380         0.004954            0.077           0.939\n",
            "=========================================================================================\n",
            "\n",
            "Results for equation Full_Charge_Voltage\n",
            "=========================================================================================\n",
            "                            coefficient       std. error           t-stat            prob\n",
            "-----------------------------------------------------------------------------------------\n",
            "const                         16.139840        70.863616            0.228           0.820\n",
            "L1.Battery_Voltage             0.684619         1.399533            0.489           0.625\n",
            "L1.Capacity                    0.172431         0.182161            0.947           0.344\n",
            "L1.Full_Charge_Voltage        -0.009782         0.011725           -0.834           0.404\n",
            "L1.Input_Frequency             0.002352         0.019790            0.119           0.905\n",
            "L1.Output_Line_Voltage         0.181447         0.276653            0.656           0.512\n",
            "L1.Output_Load                -0.799054         0.492784           -1.622           0.105\n",
            "L1.Temperature                 0.022483         0.080000            0.281           0.779\n",
            "=========================================================================================\n",
            "\n",
            "Results for equation Input_Frequency\n",
            "=========================================================================================\n",
            "                            coefficient       std. error           t-stat            prob\n",
            "-----------------------------------------------------------------------------------------\n",
            "const                        455.288896        19.935794           22.838           0.000\n",
            "L1.Battery_Voltage            -0.429113         0.393725           -1.090           0.276\n",
            "L1.Capacity                    0.004717         0.051247            0.092           0.927\n",
            "L1.Full_Charge_Voltage         0.001235         0.003299            0.374           0.708\n",
            "L1.Input_Frequency            -0.001874         0.005568           -0.337           0.736\n",
            "L1.Output_Line_Voltage         0.051436         0.077830            0.661           0.509\n",
            "L1.Output_Load                -0.142397         0.138633           -1.027           0.304\n",
            "L1.Temperature                -0.014453         0.022506           -0.642           0.521\n",
            "=========================================================================================\n",
            "\n",
            "Results for equation Output_Line_Voltage\n",
            "=========================================================================================\n",
            "                            coefficient       std. error           t-stat            prob\n",
            "-----------------------------------------------------------------------------------------\n",
            "const                        230.719714         0.836505          275.814           0.000\n",
            "L1.Battery_Voltage            -0.017676         0.016521           -1.070           0.285\n",
            "L1.Capacity                   -0.001390         0.002150           -0.646           0.518\n",
            "L1.Full_Charge_Voltage         0.000013         0.000138            0.096           0.924\n",
            "L1.Input_Frequency             0.000186         0.000234            0.796           0.426\n",
            "L1.Output_Line_Voltage        -0.002001         0.003266           -0.613           0.540\n",
            "L1.Output_Load                 0.007253         0.005817            1.247           0.212\n",
            "L1.Temperature                 0.000412         0.000944            0.436           0.663\n",
            "=========================================================================================\n",
            "\n",
            "Results for equation Output_Load\n",
            "=========================================================================================\n",
            "                            coefficient       std. error           t-stat            prob\n",
            "-----------------------------------------------------------------------------------------\n",
            "const                          6.231625         0.456944           13.638           0.000\n",
            "L1.Battery_Voltage             0.004122         0.009024            0.457           0.648\n",
            "L1.Capacity                    0.000338         0.001175            0.287           0.774\n",
            "L1.Full_Charge_Voltage        -0.000010         0.000076           -0.129           0.897\n",
            "L1.Input_Frequency             0.000002         0.000128            0.017           0.986\n",
            "L1.Output_Line_Voltage        -0.002175         0.001784           -1.219           0.223\n",
            "L1.Output_Load                -0.003867         0.003178           -1.217           0.224\n",
            "L1.Temperature                -0.000301         0.000516           -0.583           0.560\n",
            "=========================================================================================\n",
            "\n",
            "Results for equation Temperature\n",
            "=========================================================================================\n",
            "                            coefficient       std. error           t-stat            prob\n",
            "-----------------------------------------------------------------------------------------\n",
            "const                         23.949222         5.307539            4.512           0.000\n",
            "L1.Battery_Voltage             0.042474         0.104822            0.405           0.685\n",
            "L1.Capacity                    0.002766         0.013644            0.203           0.839\n",
            "L1.Full_Charge_Voltage        -0.000563         0.000878           -0.641           0.521\n",
            "L1.Input_Frequency             0.000754         0.001482            0.508           0.611\n",
            "L1.Output_Line_Voltage         0.012310         0.020721            0.594           0.552\n",
            "L1.Output_Load                -0.052005         0.036909           -1.409           0.159\n",
            "L1.Temperature                 0.006493         0.005992            1.084           0.279\n",
            "=========================================================================================\n",
            "\n",
            "Correlation matrix of residuals\n",
            "                       Battery_Voltage  Capacity  Full_Charge_Voltage  Input_Frequency  Output_Line_Voltage  Output_Load  Temperature\n",
            "Battery_Voltage               1.000000  0.214598             0.050189         0.564373            -0.014801    -0.093766     0.064657\n",
            "Capacity                      0.214598  1.000000             0.897465         0.339465            -0.190919    -0.015069     0.763228\n",
            "Full_Charge_Voltage           0.050189  0.897465             1.000000         0.000005            -0.215238    -0.000029     0.846310\n",
            "Input_Frequency               0.564373  0.339465             0.000005         1.000000             0.000952    -0.037354     0.009587\n",
            "Output_Line_Voltage          -0.014801 -0.190919            -0.215238         0.000952             1.000000     0.009927    -0.249194\n",
            "Output_Load                  -0.093766 -0.015069            -0.000029        -0.037354             0.009927     1.000000    -0.002761\n",
            "Temperature                   0.064657  0.763228             0.846310         0.009587            -0.249194    -0.002761     1.000000\n",
            "\n",
            "\n",
            "\n"
          ]
        }
      ]
    },
    {
      "cell_type": "code",
      "source": [
        "# forecast the next 5 values\n",
        "forecast = results.forecast(data_new.values[-results.k_ar:], 5)\n",
        "forecast = pd.DataFrame(forecast, index=data_new.index[-5:], columns=data_new.columns)"
      ],
      "metadata": {
        "id": "JWS49QDVkR16"
      },
      "id": "JWS49QDVkR16",
      "execution_count": 27,
      "outputs": []
    },
    {
      "cell_type": "code",
      "source": [
        "# plot the forecasts\n",
        "forecast.plot()"
      ],
      "metadata": {
        "colab": {
          "base_uri": "https://localhost:8080/",
          "height": 296
        },
        "id": "iBaa9crEkRpb",
        "outputId": "fd4ca88b-8f4a-468f-9f13-c27e9531ec73"
      },
      "id": "iBaa9crEkRpb",
      "execution_count": 28,
      "outputs": [
        {
          "output_type": "execute_result",
          "data": {
            "text/plain": [
              "<AxesSubplot:xlabel='time'>"
            ]
          },
          "metadata": {},
          "execution_count": 28
        },
        {
          "output_type": "display_data",
          "data": {
            "text/plain": [
              "<Figure size 432x288 with 1 Axes>"
            ],
            "image/png": "[encoded data removed]"
          },
          "metadata": {
            "needs_background": "light"
          }
        }
      ]
    }
  ],
  "metadata": {
    "colab": {
      "provenance": [],
      "include_colab_link": true
    },
    "kernelspec": {
      "display_name": "Python 3",
      "language": "python",
      "name": "python3"
    }
  },
  "nbformat": 4,
  "nbformat_minor": 5
}
