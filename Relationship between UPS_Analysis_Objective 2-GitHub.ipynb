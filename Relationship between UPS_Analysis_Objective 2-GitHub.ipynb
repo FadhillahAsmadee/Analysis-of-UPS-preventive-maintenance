{
 "cells": [
  {
   "cell_type": "code",
   "execution_count": 1,
   "id": "d40e5bdf",
   "metadata": {},
   "outputs": [],
   "source": [
    "import pandas as pd\n",
    "import numpy as np\n",
    "from sklearn.linear_model import LinearRegression\n",
    "import matplotlib.pyplot as plt\n",
    "import seaborn as sns\n",
    "from sklearn import datasets\n",
    "import statsmodels.api as sm\n",
    "from sklearn.cross_decomposition import CCA\n",
    "from datetime import datetime\n",
    "from statsmodels.stats.outliers_influence import variance_inflation_factor\n",
    "%matplotlib inline"
   ]
  },
  {
   "cell_type": "code",
   "execution_count": 2,
   "id": "cb6fdfb8",
   "metadata": {},
   "outputs": [],
   "source": [
    "data = pd.read_csv(\"C:/Python/Capstone Project/ANOVA/testfinal.csv\")"
   ]
  },
  {
   "cell_type": "code",
   "execution_count": 4,
   "id": "ffeb89a9",
   "metadata": {},
   "outputs": [
    {
     "data": {
      "text/plain": [
       "0          0.0\n",
       "1          0.0\n",
       "2          0.0\n",
       "3          0.0\n",
       "4          0.0\n",
       "          ... \n",
       "1088727    2.0\n",
       "1088728    2.0\n",
       "1088729    2.0\n",
       "1088730    2.0\n",
       "1088731    2.0\n",
       "Name: Battery_Status, Length: 1088732, dtype: float64"
      ]
     },
     "execution_count": 4,
     "metadata": {},
     "output_type": "execute_result"
    }
   ],
   "source": [
    "#replace null values in 'Battery status' var to 0 before convert to dummy variables\n",
    "data['Battery_Status'].fillna(value=0)"
   ]
  },
  {
   "cell_type": "code",
   "execution_count": 5,
   "id": "5ba9711e",
   "metadata": {},
   "outputs": [],
   "source": [
    "data = pd.get_dummies(data, columns=['host','Battery_Status','Output_Status'])"
   ]
  },
  {
   "cell_type": "code",
   "execution_count": 6,
   "id": "c7c43a81",
   "metadata": {},
   "outputs": [
    {
     "data": {
      "text/html": [
       "<div>\n",
       "<style scoped>\n",
       "    .dataframe tbody tr th:only-of-type {\n",
       "        vertical-align: middle;\n",
       "    }\n",
       "\n",
       "    .dataframe tbody tr th {\n",
       "        vertical-align: top;\n",
       "    }\n",
       "\n",
       "    .dataframe thead th {\n",
       "        text-align: right;\n",
       "    }\n",
       "</style>\n",
       "<table border=\"1\" class=\"dataframe\">\n",
       "  <thead>\n",
       "    <tr style=\"text-align: right;\">\n",
       "      <th></th>\n",
       "      <th>Base_Config_Num_Device</th>\n",
       "      <th>Battery_Voltage</th>\n",
       "      <th>Capacity</th>\n",
       "      <th>Config_Rated_Output_Voltage</th>\n",
       "      <th>Date_Manufacture</th>\n",
       "      <th>Full_Charge_Voltage</th>\n",
       "      <th>Input_Frequency</th>\n",
       "      <th>Input_Line_Voltage</th>\n",
       "      <th>Input_Max_Line_Voltage</th>\n",
       "      <th>Input_Min_Line_Voltage</th>\n",
       "      <th>...</th>\n",
       "      <th>Remaining_Time</th>\n",
       "      <th>Replacement</th>\n",
       "      <th>Temperature</th>\n",
       "      <th>Time_On_Battery</th>\n",
       "      <th>host_10.0.0.53</th>\n",
       "      <th>host_10.0.0.8</th>\n",
       "      <th>Battery_Status_2.0</th>\n",
       "      <th>Output_Status_2</th>\n",
       "      <th>Output_Status_3</th>\n",
       "      <th>Output_Status_6</th>\n",
       "    </tr>\n",
       "  </thead>\n",
       "  <tbody>\n",
       "    <tr>\n",
       "      <th>count</th>\n",
       "      <td>1088732.0</td>\n",
       "      <td>1.088732e+06</td>\n",
       "      <td>1.088732e+06</td>\n",
       "      <td>1088732.0</td>\n",
       "      <td>0.0</td>\n",
       "      <td>1.088732e+06</td>\n",
       "      <td>12761.000000</td>\n",
       "      <td>1.088732e+06</td>\n",
       "      <td>1.088732e+06</td>\n",
       "      <td>16479.000000</td>\n",
       "      <td>...</td>\n",
       "      <td>1.088732e+06</td>\n",
       "      <td>1088732.0</td>\n",
       "      <td>1.088732e+06</td>\n",
       "      <td>1.088732e+06</td>\n",
       "      <td>1.088732e+06</td>\n",
       "      <td>1.088732e+06</td>\n",
       "      <td>1.088732e+06</td>\n",
       "      <td>1.088732e+06</td>\n",
       "      <td>1.088732e+06</td>\n",
       "      <td>1.088732e+06</td>\n",
       "    </tr>\n",
       "    <tr>\n",
       "      <th>mean</th>\n",
       "      <td>4.0</td>\n",
       "      <td>2.200726e+01</td>\n",
       "      <td>9.667899e+01</td>\n",
       "      <td>2300.0</td>\n",
       "      <td>NaN</td>\n",
       "      <td>8.597316e+02</td>\n",
       "      <td>460.931275</td>\n",
       "      <td>2.412694e+03</td>\n",
       "      <td>2.509750e+03</td>\n",
       "      <td>2267.597730</td>\n",
       "      <td>...</td>\n",
       "      <td>1.490202e+01</td>\n",
       "      <td>0.0</td>\n",
       "      <td>2.816456e+02</td>\n",
       "      <td>2.098949e+00</td>\n",
       "      <td>5.361375e-01</td>\n",
       "      <td>4.638625e-01</td>\n",
       "      <td>1.205806e-02</td>\n",
       "      <td>9.972555e-01</td>\n",
       "      <td>1.003920e-03</td>\n",
       "      <td>1.740557e-03</td>\n",
       "    </tr>\n",
       "    <tr>\n",
       "      <th>std</th>\n",
       "      <td>0.0</td>\n",
       "      <td>1.484557e-01</td>\n",
       "      <td>3.319450e+00</td>\n",
       "      <td>0.0</td>\n",
       "      <td>NaN</td>\n",
       "      <td>5.384967e+02</td>\n",
       "      <td>132.399408</td>\n",
       "      <td>8.562087e+01</td>\n",
       "      <td>6.154385e+01</td>\n",
       "      <td>570.589194</td>\n",
       "      <td>...</td>\n",
       "      <td>6.928519e+02</td>\n",
       "      <td>0.0</td>\n",
       "      <td>4.029250e+01</td>\n",
       "      <td>8.346569e+01</td>\n",
       "      <td>4.986926e-01</td>\n",
       "      <td>4.986926e-01</td>\n",
       "      <td>1.091452e-01</td>\n",
       "      <td>5.231584e-02</td>\n",
       "      <td>3.166881e-02</td>\n",
       "      <td>4.168368e-02</td>\n",
       "    </tr>\n",
       "    <tr>\n",
       "      <th>min</th>\n",
       "      <td>4.0</td>\n",
       "      <td>2.000000e+01</td>\n",
       "      <td>5.500000e+01</td>\n",
       "      <td>2300.0</td>\n",
       "      <td>NaN</td>\n",
       "      <td>3.600000e+02</td>\n",
       "      <td>0.000000</td>\n",
       "      <td>0.000000e+00</td>\n",
       "      <td>0.000000e+00</td>\n",
       "      <td>0.000000</td>\n",
       "      <td>...</td>\n",
       "      <td>0.000000e+00</td>\n",
       "      <td>0.0</td>\n",
       "      <td>2.200000e+02</td>\n",
       "      <td>0.000000e+00</td>\n",
       "      <td>0.000000e+00</td>\n",
       "      <td>0.000000e+00</td>\n",
       "      <td>0.000000e+00</td>\n",
       "      <td>0.000000e+00</td>\n",
       "      <td>0.000000e+00</td>\n",
       "      <td>0.000000e+00</td>\n",
       "    </tr>\n",
       "    <tr>\n",
       "      <th>25%</th>\n",
       "      <td>4.0</td>\n",
       "      <td>2.200000e+01</td>\n",
       "      <td>9.300000e+01</td>\n",
       "      <td>2300.0</td>\n",
       "      <td>NaN</td>\n",
       "      <td>3.600000e+02</td>\n",
       "      <td>499.000000</td>\n",
       "      <td>2.397000e+03</td>\n",
       "      <td>2.452000e+03</td>\n",
       "      <td>2393.000000</td>\n",
       "      <td>...</td>\n",
       "      <td>0.000000e+00</td>\n",
       "      <td>0.0</td>\n",
       "      <td>2.500000e+02</td>\n",
       "      <td>0.000000e+00</td>\n",
       "      <td>0.000000e+00</td>\n",
       "      <td>0.000000e+00</td>\n",
       "      <td>0.000000e+00</td>\n",
       "      <td>1.000000e+00</td>\n",
       "      <td>0.000000e+00</td>\n",
       "      <td>0.000000e+00</td>\n",
       "    </tr>\n",
       "    <tr>\n",
       "      <th>50%</th>\n",
       "      <td>4.0</td>\n",
       "      <td>2.200000e+01</td>\n",
       "      <td>9.500000e+01</td>\n",
       "      <td>2300.0</td>\n",
       "      <td>NaN</td>\n",
       "      <td>3.600000e+02</td>\n",
       "      <td>499.000000</td>\n",
       "      <td>2.415000e+03</td>\n",
       "      <td>2.457000e+03</td>\n",
       "      <td>2408.000000</td>\n",
       "      <td>...</td>\n",
       "      <td>0.000000e+00</td>\n",
       "      <td>0.0</td>\n",
       "      <td>2.500000e+02</td>\n",
       "      <td>0.000000e+00</td>\n",
       "      <td>1.000000e+00</td>\n",
       "      <td>0.000000e+00</td>\n",
       "      <td>0.000000e+00</td>\n",
       "      <td>1.000000e+00</td>\n",
       "      <td>0.000000e+00</td>\n",
       "      <td>0.000000e+00</td>\n",
       "    </tr>\n",
       "    <tr>\n",
       "      <th>75%</th>\n",
       "      <td>4.0</td>\n",
       "      <td>2.200000e+01</td>\n",
       "      <td>1.000000e+02</td>\n",
       "      <td>2300.0</td>\n",
       "      <td>NaN</td>\n",
       "      <td>1.440000e+03</td>\n",
       "      <td>499.000000</td>\n",
       "      <td>2.433000e+03</td>\n",
       "      <td>2.576000e+03</td>\n",
       "      <td>2426.000000</td>\n",
       "      <td>...</td>\n",
       "      <td>0.000000e+00</td>\n",
       "      <td>0.0</td>\n",
       "      <td>3.200000e+02</td>\n",
       "      <td>0.000000e+00</td>\n",
       "      <td>1.000000e+00</td>\n",
       "      <td>1.000000e+00</td>\n",
       "      <td>0.000000e+00</td>\n",
       "      <td>1.000000e+00</td>\n",
       "      <td>0.000000e+00</td>\n",
       "      <td>0.000000e+00</td>\n",
       "    </tr>\n",
       "    <tr>\n",
       "      <th>max</th>\n",
       "      <td>4.0</td>\n",
       "      <td>2.400000e+01</td>\n",
       "      <td>1.000000e+02</td>\n",
       "      <td>2300.0</td>\n",
       "      <td>NaN</td>\n",
       "      <td>1.440000e+03</td>\n",
       "      <td>500.000000</td>\n",
       "      <td>2.573000e+03</td>\n",
       "      <td>2.576000e+03</td>\n",
       "      <td>2464.000000</td>\n",
       "      <td>...</td>\n",
       "      <td>1.200000e+05</td>\n",
       "      <td>0.0</td>\n",
       "      <td>4.000000e+02</td>\n",
       "      <td>5.135000e+03</td>\n",
       "      <td>1.000000e+00</td>\n",
       "      <td>1.000000e+00</td>\n",
       "      <td>1.000000e+00</td>\n",
       "      <td>1.000000e+00</td>\n",
       "      <td>1.000000e+00</td>\n",
       "      <td>1.000000e+00</td>\n",
       "    </tr>\n",
       "  </tbody>\n",
       "</table>\n",
       "<p>8 rows × 24 columns</p>\n",
       "</div>"
      ],
      "text/plain": [
       "       Base_Config_Num_Device  Battery_Voltage      Capacity  \\\n",
       "count               1088732.0     1.088732e+06  1.088732e+06   \n",
       "mean                      4.0     2.200726e+01  9.667899e+01   \n",
       "std                       0.0     1.484557e-01  3.319450e+00   \n",
       "min                       4.0     2.000000e+01  5.500000e+01   \n",
       "25%                       4.0     2.200000e+01  9.300000e+01   \n",
       "50%                       4.0     2.200000e+01  9.500000e+01   \n",
       "75%                       4.0     2.200000e+01  1.000000e+02   \n",
       "max                       4.0     2.400000e+01  1.000000e+02   \n",
       "\n",
       "       Config_Rated_Output_Voltage  Date_Manufacture  Full_Charge_Voltage  \\\n",
       "count                    1088732.0               0.0         1.088732e+06   \n",
       "mean                        2300.0               NaN         8.597316e+02   \n",
       "std                            0.0               NaN         5.384967e+02   \n",
       "min                         2300.0               NaN         3.600000e+02   \n",
       "25%                         2300.0               NaN         3.600000e+02   \n",
       "50%                         2300.0               NaN         3.600000e+02   \n",
       "75%                         2300.0               NaN         1.440000e+03   \n",
       "max                         2300.0               NaN         1.440000e+03   \n",
       "\n",
       "       Input_Frequency  Input_Line_Voltage  Input_Max_Line_Voltage  \\\n",
       "count     12761.000000        1.088732e+06            1.088732e+06   \n",
       "mean        460.931275        2.412694e+03            2.509750e+03   \n",
       "std         132.399408        8.562087e+01            6.154385e+01   \n",
       "min           0.000000        0.000000e+00            0.000000e+00   \n",
       "25%         499.000000        2.397000e+03            2.452000e+03   \n",
       "50%         499.000000        2.415000e+03            2.457000e+03   \n",
       "75%         499.000000        2.433000e+03            2.576000e+03   \n",
       "max         500.000000        2.573000e+03            2.576000e+03   \n",
       "\n",
       "       Input_Min_Line_Voltage  ...  Remaining_Time  Replacement   Temperature  \\\n",
       "count            16479.000000  ...    1.088732e+06    1088732.0  1.088732e+06   \n",
       "mean              2267.597730  ...    1.490202e+01          0.0  2.816456e+02   \n",
       "std                570.589194  ...    6.928519e+02          0.0  4.029250e+01   \n",
       "min                  0.000000  ...    0.000000e+00          0.0  2.200000e+02   \n",
       "25%               2393.000000  ...    0.000000e+00          0.0  2.500000e+02   \n",
       "50%               2408.000000  ...    0.000000e+00          0.0  2.500000e+02   \n",
       "75%               2426.000000  ...    0.000000e+00          0.0  3.200000e+02   \n",
       "max               2464.000000  ...    1.200000e+05          0.0  4.000000e+02   \n",
       "\n",
       "       Time_On_Battery  host_10.0.0.53  host_10.0.0.8  Battery_Status_2.0  \\\n",
       "count     1.088732e+06    1.088732e+06   1.088732e+06        1.088732e+06   \n",
       "mean      2.098949e+00    5.361375e-01   4.638625e-01        1.205806e-02   \n",
       "std       8.346569e+01    4.986926e-01   4.986926e-01        1.091452e-01   \n",
       "min       0.000000e+00    0.000000e+00   0.000000e+00        0.000000e+00   \n",
       "25%       0.000000e+00    0.000000e+00   0.000000e+00        0.000000e+00   \n",
       "50%       0.000000e+00    1.000000e+00   0.000000e+00        0.000000e+00   \n",
       "75%       0.000000e+00    1.000000e+00   1.000000e+00        0.000000e+00   \n",
       "max       5.135000e+03    1.000000e+00   1.000000e+00        1.000000e+00   \n",
       "\n",
       "       Output_Status_2  Output_Status_3  Output_Status_6  \n",
       "count     1.088732e+06     1.088732e+06     1.088732e+06  \n",
       "mean      9.972555e-01     1.003920e-03     1.740557e-03  \n",
       "std       5.231584e-02     3.166881e-02     4.168368e-02  \n",
       "min       0.000000e+00     0.000000e+00     0.000000e+00  \n",
       "25%       1.000000e+00     0.000000e+00     0.000000e+00  \n",
       "50%       1.000000e+00     0.000000e+00     0.000000e+00  \n",
       "75%       1.000000e+00     0.000000e+00     0.000000e+00  \n",
       "max       1.000000e+00     1.000000e+00     1.000000e+00  \n",
       "\n",
       "[8 rows x 24 columns]"
      ]
     },
     "execution_count": 6,
     "metadata": {},
     "output_type": "execute_result"
    }
   ],
   "source": [
    "data.describe()"
   ]
  },
  {
   "cell_type": "markdown",
   "id": "2d3b6ae9",
   "metadata": {},
   "source": [
    "## Data Cleaning"
   ]
  },
  {
   "cell_type": "code",
   "execution_count": 7,
   "id": "3cbaacb1",
   "metadata": {},
   "outputs": [],
   "source": [
    "#drop unnecessary columns\n",
    "data_new=data.drop(['name','Last_Replacement_Date','Date_Manufacture','Replacement'], axis=1)"
   ]
  },
  {
   "cell_type": "code",
   "execution_count": 9,
   "id": "bdee2103",
   "metadata": {},
   "outputs": [],
   "source": [
    "# Convert the time column to datetime\n",
    "data_new['time'] = pd.to_datetime(data_new['time'], format='%Y-%m-%dT%H:%M:%S.%fZ')\n",
    "\n",
    "# Format the time column as a string\n",
    "data_new['time'] = data_new['time'].dt.strftime('%Y-%m-%d %H:%M:%S')"
   ]
  },
  {
   "cell_type": "code",
   "execution_count": 10,
   "id": "f884a89c",
   "metadata": {},
   "outputs": [
    {
     "data": {
      "text/plain": [
       "time                                 NaN\n",
       "Base_Config_Num_Device               NaN\n",
       "Battery_Voltage                      NaN\n",
       "Capacity                             NaN\n",
       "Config_Rated_Output_Voltage          NaN\n",
       "Full_Charge_Voltage                  NaN\n",
       "Input_Frequency                1075971.0\n",
       "Input_Line_Voltage                   NaN\n",
       "Input_Max_Line_Voltage               NaN\n",
       "Input_Min_Line_Voltage         1072253.0\n",
       "Output_Frequency                     NaN\n",
       "Output_Line_Voltage                  NaN\n",
       "Output_Load                    1075982.0\n",
       "Remaining_Time                       NaN\n",
       "Temperature                          NaN\n",
       "Time_On_Battery                      NaN\n",
       "host_10.0.0.53                       NaN\n",
       "host_10.0.0.8                        NaN\n",
       "Battery_Status_2.0                   NaN\n",
       "Output_Status_2                      NaN\n",
       "Output_Status_3                      NaN\n",
       "Output_Status_6                      NaN\n",
       "dtype: float64"
      ]
     },
     "execution_count": 10,
     "metadata": {},
     "output_type": "execute_result"
    }
   ],
   "source": [
    "#to check missing values\n",
    "#.dropna()\n",
    "data_new.isna().sum().where(lambda x: x>0)"
   ]
  },
  {
   "cell_type": "markdown",
   "id": "004b4e30",
   "metadata": {},
   "source": [
    "### Data tweak"
   ]
  },
  {
   "cell_type": "code",
   "execution_count": 11,
   "id": "68063256",
   "metadata": {},
   "outputs": [],
   "source": [
    "# Data imputation to create outliers, temperature spike \n",
    "# and low battery capacity\n",
    "data_new.loc[data_new['Temperature'] == 22, 'Temperature'] = 60\n",
    "data_new.loc[data_new['Capacity'] == 55, 'Capacity'] = 10"
   ]
  },
  {
   "cell_type": "code",
   "execution_count": 13,
   "id": "4f90fe71",
   "metadata": {},
   "outputs": [],
   "source": [
    "# battery_status data tweaked\n",
    "data_new['Battery_Status_2.0'] = data_new['Battery_Status_2.0'].replace({0:1, 1:0})\n",
    "# battery_status and capacity tweak data \n",
    "data_new.loc[data_new['Battery_Status_2.0'] == 0, 'Capacity'] =10"
   ]
  },
  {
   "cell_type": "code",
   "execution_count": 16,
   "id": "e7abd628",
   "metadata": {},
   "outputs": [
    {
     "data": {
      "text/plain": [
       "1    1075604\n",
       "0      13128\n",
       "Name: Battery_Status_2.0, dtype: int64"
      ]
     },
     "execution_count": 16,
     "metadata": {},
     "output_type": "execute_result"
    }
   ],
   "source": [
    "# change the value of the battery from 0 to 1 and 1 to 0 \n",
    "# means 1= normal change to 0=low battery and vice versa\n",
    "data_new['Battery_Status_2.0'].value_counts()as"
   ]
  },
  {
   "cell_type": "code",
   "execution_count": 17,
   "id": "8b4ab6b9",
   "metadata": {},
   "outputs": [],
   "source": [
    "# impute the missing values with mean\n",
    "data_new['Battery_Voltage'] = data_new['Battery_Voltage'].fillna(data_new['Battery_Voltage'].mean())\n",
    "data_new['Input_Frequency'] = data_new['Input_Frequency'].fillna(data_new['Input_Frequency'].mean())\n",
    "data_new['Output_Load'] = data_new['Output_Load'].fillna(data_new['Output_Load'].mean())\n",
    "data_new['Input_Min_Line_Voltage'] = data_new['Input_Min_Line_Voltage'].fillna(data_new['Input_Min_Line_Voltage'].mean())"
   ]
  },
  {
   "cell_type": "code",
   "execution_count": 18,
   "id": "82380394",
   "metadata": {},
   "outputs": [],
   "source": [
    "# to standardize the data\n",
    "data_new['Temperature'] = (data_new['Temperature'] * 0.10).round(2)\n",
    "data_new['Input_Line_Voltage'] = (data_new['Input_Line_Voltage'] * 0.10).round(2)\n",
    "data_new['Full_Charge_Voltage'] = (data_new['Full_Charge_Voltage'] * 0.10).round(2)\n",
    "data_new['Config_Rated_Output_Voltage'] = (data_new['Config_Rated_Output_Voltage'] * 0.10).round(2)\n",
    "data_new['Input_Max_Line_Voltage'] = (data_new['Input_Max_Line_Voltage'] * 0.10).round(2)\n",
    "data_new['Input_Min_Line_Voltage'] = (data_new['Input_Min_Line_Voltage'] * 0.10).round(2)"
   ]
  },
  {
   "cell_type": "markdown",
   "id": "2770d1a5",
   "metadata": {},
   "source": [
    "# Outlier - Box Plot"
   ]
  },
  {
   "cell_type": "code",
   "execution_count": 33,
   "id": "c7577158",
   "metadata": {},
   "outputs": [
    {
     "name": "stderr",
     "output_type": "stream",
     "text": [
      "C:\\Users\\Dila\\anaconda3\\lib\\site-packages\\seaborn\\_decorators.py:36: FutureWarning: Pass the following variable as a keyword arg: x. From version 0.12, the only valid positional argument will be `data`, and passing other arguments without an explicit keyword will result in an error or misinterpretation.\n",
      "  warnings.warn(\n",
      "C:\\Users\\Dila\\anaconda3\\lib\\site-packages\\seaborn\\_decorators.py:36: FutureWarning: Pass the following variable as a keyword arg: x. From version 0.12, the only valid positional argument will be `data`, and passing other arguments without an explicit keyword will result in an error or misinterpretation.\n",
      "  warnings.warn(\n",
      "C:\\Users\\Dila\\anaconda3\\lib\\site-packages\\seaborn\\_decorators.py:36: FutureWarning: Pass the following variable as a keyword arg: x. From version 0.12, the only valid positional argument will be `data`, and passing other arguments without an explicit keyword will result in an error or misinterpretation.\n",
      "  warnings.warn(\n",
      "C:\\Users\\Dila\\anaconda3\\lib\\site-packages\\seaborn\\_decorators.py:36: FutureWarning: Pass the following variable as a keyword arg: x. From version 0.12, the only valid positional argument will be `data`, and passing other arguments without an explicit keyword will result in an error or misinterpretation.\n",
      "  warnings.warn(\n",
      "C:\\Users\\Dila\\anaconda3\\lib\\site-packages\\seaborn\\_decorators.py:36: FutureWarning: Pass the following variable as a keyword arg: x. From version 0.12, the only valid positional argument will be `data`, and passing other arguments without an explicit keyword will result in an error or misinterpretation.\n",
      "  warnings.warn(\n",
      "C:\\Users\\Dila\\anaconda3\\lib\\site-packages\\seaborn\\_decorators.py:36: FutureWarning: Pass the following variable as a keyword arg: x. From version 0.12, the only valid positional argument will be `data`, and passing other arguments without an explicit keyword will result in an error or misinterpretation.\n",
      "  warnings.warn(\n",
      "C:\\Users\\Dila\\anaconda3\\lib\\site-packages\\seaborn\\_decorators.py:36: FutureWarning: Pass the following variable as a keyword arg: x. From version 0.12, the only valid positional argument will be `data`, and passing other arguments without an explicit keyword will result in an error or misinterpretation.\n",
      "  warnings.warn(\n",
      "C:\\Users\\Dila\\anaconda3\\lib\\site-packages\\seaborn\\_decorators.py:36: FutureWarning: Pass the following variable as a keyword arg: x. From version 0.12, the only valid positional argument will be `data`, and passing other arguments without an explicit keyword will result in an error or misinterpretation.\n",
      "  warnings.warn(\n",
      "C:\\Users\\Dila\\anaconda3\\lib\\site-packages\\seaborn\\_decorators.py:36: FutureWarning: Pass the following variable as a keyword arg: x. From version 0.12, the only valid positional argument will be `data`, and passing other arguments without an explicit keyword will result in an error or misinterpretation.\n",
      "  warnings.warn(\n",
      "C:\\Users\\Dila\\anaconda3\\lib\\site-packages\\seaborn\\_decorators.py:36: FutureWarning: Pass the following variable as a keyword arg: x. From version 0.12, the only valid positional argument will be `data`, and passing other arguments without an explicit keyword will result in an error or misinterpretation.\n",
      "  warnings.warn(\n",
      "C:\\Users\\Dila\\anaconda3\\lib\\site-packages\\seaborn\\_decorators.py:36: FutureWarning: Pass the following variable as a keyword arg: x. From version 0.12, the only valid positional argument will be `data`, and passing other arguments without an explicit keyword will result in an error or misinterpretation.\n",
      "  warnings.warn(\n",
      "C:\\Users\\Dila\\anaconda3\\lib\\site-packages\\seaborn\\_decorators.py:36: FutureWarning: Pass the following variable as a keyword arg: x. From version 0.12, the only valid positional argument will be `data`, and passing other arguments without an explicit keyword will result in an error or misinterpretation.\n",
      "  warnings.warn(\n",
      "C:\\Users\\Dila\\anaconda3\\lib\\site-packages\\seaborn\\_decorators.py:36: FutureWarning: Pass the following variable as a keyword arg: x. From version 0.12, the only valid positional argument will be `data`, and passing other arguments without an explicit keyword will result in an error or misinterpretation.\n",
      "  warnings.warn(\n",
      "C:\\Users\\Dila\\anaconda3\\lib\\site-packages\\seaborn\\_decorators.py:36: FutureWarning: Pass the following variable as a keyword arg: x. From version 0.12, the only valid positional argument will be `data`, and passing other arguments without an explicit keyword will result in an error or misinterpretation.\n",
      "  warnings.warn(\n",
      "C:\\Users\\Dila\\anaconda3\\lib\\site-packages\\seaborn\\_decorators.py:36: FutureWarning: Pass the following variable as a keyword arg: x. From version 0.12, the only valid positional argument will be `data`, and passing other arguments without an explicit keyword will result in an error or misinterpretation.\n",
      "  warnings.warn(\n"
     ]
    },
    {
     "data": {
      "image/png": "[encoded data removed]",
      "text/plain": [
       "<Figure size 1152x2016 with 15 Axes>"
      ]
     },
     "metadata": {},
     "output_type": "display_data"
    }
   ],
   "source": [
    "#Columns from `data_new.describe()` I want to examine\n",
    "\n",
    "features = ['Base_Config_Num_Device', 'Battery_Voltage', 'Capacity', 'Config_Rated_Output_Voltage', 'Full_Charge_Voltage', 'Input_Frequency', 'Input_Line_Voltage', 'Input_Max_Line_Voltage', 'Input_Min_Line_Voltage', 'Output_Frequency','Output_Line_Voltage','Output_Load','Remaining_Time','Temperature','Time_On_Battery']\n",
    "\n",
    "\n",
    "#Creating a boxplot and a histogram for outlier detection\n",
    "\n",
    "n = 1\n",
    "\n",
    "sns.set_style('darkgrid')\n",
    "sns.set(font_scale = 1.2)\n",
    "plt.figure(figsize = (16, 28))\n",
    "\n",
    "for feature in features:\n",
    "    plt.subplot(15,2,n)\n",
    "    sns.boxplot(data_new[feature], palette = 'autumn').set(xlabel = None)\n",
    "    plt.title(f'{feature} boxplot')\n",
    "    n = n + 1\n",
    "    \n",
    "    plt.tight_layout()"
   ]
  },
  {
   "cell_type": "markdown",
   "id": "8d506c98",
   "metadata": {},
   "source": [
    "# Multiple Linear Regression"
   ]
  },
  {
   "cell_type": "code",
   "execution_count": 46,
   "id": "5dc1bbec",
   "metadata": {},
   "outputs": [],
   "source": [
    "# drop one level of the categorical variable that equal to 0\n",
    "\n",
    "if 'host_10.0.0.53' in data_new.columns:\n",
    "    data_new_MLR = data_new[data_new['host_10.0.0.53'] != 0]\n",
    "if 'host_10.0.0.8' in data_new.columns:\n",
    "    data_new_MLR = data_new[data_new['host_10.0.0.8'] != 0]\n",
    "if 'Battery_Status_2.0' in data_new.columns:\n",
    "    data_new_MLR = data_new[data_new['Battery_Status_2.0'] != 0]\n",
    "if 'Output_Status_2' in data_new.columns:\n",
    "    data_new_MLR = data_new[data_new['Output_Status_2'] != 0]\n",
    "if 'Output_Status_3' in data_new.columns:\n",
    "    data_new_MLR = data_new[data_new['Output_Status_3'] != 0]\n",
    "if 'Output_Status_6' in data_new.columns:\n",
    "    data_new_MLR = data_new[data_new['Output_Status_6'] != 0]"
   ]
  },
  {
   "cell_type": "code",
   "execution_count": 47,
   "id": "0a7c47f5",
   "metadata": {},
   "outputs": [
    {
     "data": {
      "text/html": [
       "<div>\n",
       "<style scoped>\n",
       "    .dataframe tbody tr th:only-of-type {\n",
       "        vertical-align: middle;\n",
       "    }\n",
       "\n",
       "    .dataframe tbody tr th {\n",
       "        vertical-align: top;\n",
       "    }\n",
       "\n",
       "    .dataframe thead th {\n",
       "        text-align: right;\n",
       "    }\n",
       "</style>\n",
       "<table border=\"1\" class=\"dataframe\">\n",
       "  <thead>\n",
       "    <tr style=\"text-align: right;\">\n",
       "      <th></th>\n",
       "      <th>Base_Config_Num_Device</th>\n",
       "      <th>Battery_Voltage</th>\n",
       "      <th>Capacity</th>\n",
       "      <th>Config_Rated_Output_Voltage</th>\n",
       "      <th>Full_Charge_Voltage</th>\n",
       "      <th>Input_Frequency</th>\n",
       "      <th>Input_Line_Voltage</th>\n",
       "      <th>Input_Max_Line_Voltage</th>\n",
       "      <th>Input_Min_Line_Voltage</th>\n",
       "      <th>Output_Frequency</th>\n",
       "      <th>...</th>\n",
       "      <th>Output_Load</th>\n",
       "      <th>Remaining_Time</th>\n",
       "      <th>Temperature</th>\n",
       "      <th>Time_On_Battery</th>\n",
       "      <th>host_10.0.0.53</th>\n",
       "      <th>host_10.0.0.8</th>\n",
       "      <th>Battery_Status_2.0</th>\n",
       "      <th>Output_Status_2</th>\n",
       "      <th>Output_Status_3</th>\n",
       "      <th>Output_Status_6</th>\n",
       "    </tr>\n",
       "  </thead>\n",
       "  <tbody>\n",
       "    <tr>\n",
       "      <th>count</th>\n",
       "      <td>1895.0</td>\n",
       "      <td>1895.0</td>\n",
       "      <td>1895.000000</td>\n",
       "      <td>1895.0</td>\n",
       "      <td>1895.000000</td>\n",
       "      <td>1.895000e+03</td>\n",
       "      <td>1895.000000</td>\n",
       "      <td>1895.000000</td>\n",
       "      <td>1.895000e+03</td>\n",
       "      <td>1895.000000</td>\n",
       "      <td>...</td>\n",
       "      <td>1.895000e+03</td>\n",
       "      <td>1895.0</td>\n",
       "      <td>1895.000000</td>\n",
       "      <td>1895.0</td>\n",
       "      <td>1895.000000</td>\n",
       "      <td>1895.000000</td>\n",
       "      <td>1895.0</td>\n",
       "      <td>1895.0</td>\n",
       "      <td>1895.0</td>\n",
       "      <td>1895.0</td>\n",
       "    </tr>\n",
       "    <tr>\n",
       "      <th>mean</th>\n",
       "      <td>4.0</td>\n",
       "      <td>22.0</td>\n",
       "      <td>99.672823</td>\n",
       "      <td>230.0</td>\n",
       "      <td>136.932982</td>\n",
       "      <td>4.609313e+02</td>\n",
       "      <td>243.920950</td>\n",
       "      <td>256.539683</td>\n",
       "      <td>2.267600e+02</td>\n",
       "      <td>499.483377</td>\n",
       "      <td>...</td>\n",
       "      <td>5.923451e+00</td>\n",
       "      <td>0.0</td>\n",
       "      <td>24.340897</td>\n",
       "      <td>0.0</td>\n",
       "      <td>0.065435</td>\n",
       "      <td>0.934565</td>\n",
       "      <td>1.0</td>\n",
       "      <td>0.0</td>\n",
       "      <td>0.0</td>\n",
       "      <td>1.0</td>\n",
       "    </tr>\n",
       "    <tr>\n",
       "      <th>std</th>\n",
       "      <td>0.0</td>\n",
       "      <td>0.0</td>\n",
       "      <td>1.236789</td>\n",
       "      <td>0.0</td>\n",
       "      <td>26.714637</td>\n",
       "      <td>5.401550e-12</td>\n",
       "      <td>1.376956</td>\n",
       "      <td>4.016995</td>\n",
       "      <td>5.771130e-12</td>\n",
       "      <td>0.507196</td>\n",
       "      <td>...</td>\n",
       "      <td>1.616911e-13</td>\n",
       "      <td>0.0</td>\n",
       "      <td>0.639174</td>\n",
       "      <td>0.0</td>\n",
       "      <td>0.247358</td>\n",
       "      <td>0.247358</td>\n",
       "      <td>0.0</td>\n",
       "      <td>0.0</td>\n",
       "      <td>0.0</td>\n",
       "      <td>0.0</td>\n",
       "    </tr>\n",
       "    <tr>\n",
       "      <th>min</th>\n",
       "      <td>4.0</td>\n",
       "      <td>22.0</td>\n",
       "      <td>95.000000</td>\n",
       "      <td>230.0</td>\n",
       "      <td>36.000000</td>\n",
       "      <td>4.609313e+02</td>\n",
       "      <td>238.700000</td>\n",
       "      <td>240.400000</td>\n",
       "      <td>2.267600e+02</td>\n",
       "      <td>498.000000</td>\n",
       "      <td>...</td>\n",
       "      <td>5.923451e+00</td>\n",
       "      <td>0.0</td>\n",
       "      <td>23.000000</td>\n",
       "      <td>0.0</td>\n",
       "      <td>0.000000</td>\n",
       "      <td>0.000000</td>\n",
       "      <td>1.0</td>\n",
       "      <td>0.0</td>\n",
       "      <td>0.0</td>\n",
       "      <td>1.0</td>\n",
       "    </tr>\n",
       "    <tr>\n",
       "      <th>25%</th>\n",
       "      <td>4.0</td>\n",
       "      <td>22.0</td>\n",
       "      <td>100.000000</td>\n",
       "      <td>230.0</td>\n",
       "      <td>144.000000</td>\n",
       "      <td>4.609313e+02</td>\n",
       "      <td>243.000000</td>\n",
       "      <td>257.600000</td>\n",
       "      <td>2.267600e+02</td>\n",
       "      <td>499.000000</td>\n",
       "      <td>...</td>\n",
       "      <td>5.923451e+00</td>\n",
       "      <td>0.0</td>\n",
       "      <td>24.000000</td>\n",
       "      <td>0.0</td>\n",
       "      <td>0.000000</td>\n",
       "      <td>1.000000</td>\n",
       "      <td>1.0</td>\n",
       "      <td>0.0</td>\n",
       "      <td>0.0</td>\n",
       "      <td>1.0</td>\n",
       "    </tr>\n",
       "    <tr>\n",
       "      <th>50%</th>\n",
       "      <td>4.0</td>\n",
       "      <td>22.0</td>\n",
       "      <td>100.000000</td>\n",
       "      <td>230.0</td>\n",
       "      <td>144.000000</td>\n",
       "      <td>4.609313e+02</td>\n",
       "      <td>244.300000</td>\n",
       "      <td>257.600000</td>\n",
       "      <td>2.267600e+02</td>\n",
       "      <td>499.000000</td>\n",
       "      <td>...</td>\n",
       "      <td>5.923451e+00</td>\n",
       "      <td>0.0</td>\n",
       "      <td>24.000000</td>\n",
       "      <td>0.0</td>\n",
       "      <td>0.000000</td>\n",
       "      <td>1.000000</td>\n",
       "      <td>1.0</td>\n",
       "      <td>0.0</td>\n",
       "      <td>0.0</td>\n",
       "      <td>1.0</td>\n",
       "    </tr>\n",
       "    <tr>\n",
       "      <th>75%</th>\n",
       "      <td>4.0</td>\n",
       "      <td>22.0</td>\n",
       "      <td>100.000000</td>\n",
       "      <td>230.0</td>\n",
       "      <td>144.000000</td>\n",
       "      <td>4.609313e+02</td>\n",
       "      <td>245.000000</td>\n",
       "      <td>257.600000</td>\n",
       "      <td>2.267600e+02</td>\n",
       "      <td>500.000000</td>\n",
       "      <td>...</td>\n",
       "      <td>5.923451e+00</td>\n",
       "      <td>0.0</td>\n",
       "      <td>25.000000</td>\n",
       "      <td>0.0</td>\n",
       "      <td>0.000000</td>\n",
       "      <td>1.000000</td>\n",
       "      <td>1.0</td>\n",
       "      <td>0.0</td>\n",
       "      <td>0.0</td>\n",
       "      <td>1.0</td>\n",
       "    </tr>\n",
       "    <tr>\n",
       "      <th>max</th>\n",
       "      <td>4.0</td>\n",
       "      <td>22.0</td>\n",
       "      <td>100.000000</td>\n",
       "      <td>230.0</td>\n",
       "      <td>144.000000</td>\n",
       "      <td>4.609313e+02</td>\n",
       "      <td>247.300000</td>\n",
       "      <td>257.600000</td>\n",
       "      <td>2.267600e+02</td>\n",
       "      <td>500.000000</td>\n",
       "      <td>...</td>\n",
       "      <td>5.923451e+00</td>\n",
       "      <td>0.0</td>\n",
       "      <td>27.000000</td>\n",
       "      <td>0.0</td>\n",
       "      <td>1.000000</td>\n",
       "      <td>1.000000</td>\n",
       "      <td>1.0</td>\n",
       "      <td>0.0</td>\n",
       "      <td>0.0</td>\n",
       "      <td>1.0</td>\n",
       "    </tr>\n",
       "  </tbody>\n",
       "</table>\n",
       "<p>8 rows × 21 columns</p>\n",
       "</div>"
      ],
      "text/plain": [
       "       Base_Config_Num_Device  Battery_Voltage     Capacity  \\\n",
       "count                  1895.0           1895.0  1895.000000   \n",
       "mean                      4.0             22.0    99.672823   \n",
       "std                       0.0              0.0     1.236789   \n",
       "min                       4.0             22.0    95.000000   \n",
       "25%                       4.0             22.0   100.000000   \n",
       "50%                       4.0             22.0   100.000000   \n",
       "75%                       4.0             22.0   100.000000   \n",
       "max                       4.0             22.0   100.000000   \n",
       "\n",
       "       Config_Rated_Output_Voltage  Full_Charge_Voltage  Input_Frequency  \\\n",
       "count                       1895.0          1895.000000     1.895000e+03   \n",
       "mean                         230.0           136.932982     4.609313e+02   \n",
       "std                            0.0            26.714637     5.401550e-12   \n",
       "min                          230.0            36.000000     4.609313e+02   \n",
       "25%                          230.0           144.000000     4.609313e+02   \n",
       "50%                          230.0           144.000000     4.609313e+02   \n",
       "75%                          230.0           144.000000     4.609313e+02   \n",
       "max                          230.0           144.000000     4.609313e+02   \n",
       "\n",
       "       Input_Line_Voltage  Input_Max_Line_Voltage  Input_Min_Line_Voltage  \\\n",
       "count         1895.000000             1895.000000            1.895000e+03   \n",
       "mean           243.920950              256.539683            2.267600e+02   \n",
       "std              1.376956                4.016995            5.771130e-12   \n",
       "min            238.700000              240.400000            2.267600e+02   \n",
       "25%            243.000000              257.600000            2.267600e+02   \n",
       "50%            244.300000              257.600000            2.267600e+02   \n",
       "75%            245.000000              257.600000            2.267600e+02   \n",
       "max            247.300000              257.600000            2.267600e+02   \n",
       "\n",
       "       Output_Frequency  ...   Output_Load  Remaining_Time  Temperature  \\\n",
       "count       1895.000000  ...  1.895000e+03          1895.0  1895.000000   \n",
       "mean         499.483377  ...  5.923451e+00             0.0    24.340897   \n",
       "std            0.507196  ...  1.616911e-13             0.0     0.639174   \n",
       "min          498.000000  ...  5.923451e+00             0.0    23.000000   \n",
       "25%          499.000000  ...  5.923451e+00             0.0    24.000000   \n",
       "50%          499.000000  ...  5.923451e+00             0.0    24.000000   \n",
       "75%          500.000000  ...  5.923451e+00             0.0    25.000000   \n",
       "max          500.000000  ...  5.923451e+00             0.0    27.000000   \n",
       "\n",
       "       Time_On_Battery  host_10.0.0.53  host_10.0.0.8  Battery_Status_2.0  \\\n",
       "count           1895.0     1895.000000    1895.000000              1895.0   \n",
       "mean               0.0        0.065435       0.934565                 1.0   \n",
       "std                0.0        0.247358       0.247358                 0.0   \n",
       "min                0.0        0.000000       0.000000                 1.0   \n",
       "25%                0.0        0.000000       1.000000                 1.0   \n",
       "50%                0.0        0.000000       1.000000                 1.0   \n",
       "75%                0.0        0.000000       1.000000                 1.0   \n",
       "max                0.0        1.000000       1.000000                 1.0   \n",
       "\n",
       "       Output_Status_2  Output_Status_3  Output_Status_6  \n",
       "count           1895.0           1895.0           1895.0  \n",
       "mean               0.0              0.0              1.0  \n",
       "std                0.0              0.0              0.0  \n",
       "min                0.0              0.0              1.0  \n",
       "25%                0.0              0.0              1.0  \n",
       "50%                0.0              0.0              1.0  \n",
       "75%                0.0              0.0              1.0  \n",
       "max                0.0              0.0              1.0  \n",
       "\n",
       "[8 rows x 21 columns]"
      ]
     },
     "execution_count": 47,
     "metadata": {},
     "output_type": "execute_result"
    }
   ],
   "source": [
    "data_new_MLR.describe()"
   ]
  },
  {
   "cell_type": "markdown",
   "id": "e70b2655",
   "metadata": {},
   "source": [
    "## DV : Temperature\n",
    "### * DV : Dependent Variable"
   ]
  },
  {
   "cell_type": "code",
   "execution_count": 52,
   "id": "2417bd03",
   "metadata": {},
   "outputs": [
    {
     "data": {
      "image/png": "[encoded data removed]",
      "text/plain": [
       "<Figure size 432x288 with 1 Axes>"
      ]
     },
     "metadata": {},
     "output_type": "display_data"
    }
   ],
   "source": [
    "#drop variables 'Config_Rated_Output_Voltage', 'Base_Config_Num_Device'\n",
    "\n",
    "# Specify the predictor variables (including the dummy variables)\n",
    "predictors= data_new_MLR[['host_10.0.0.53', 'host_10.0.0.8', 'Battery_Status_2.0', \n",
    "                       'Output_Status_2','Output_Status_3','Output_Status_6',\n",
    "                       'Battery_Voltage', 'Capacity', 'Full_Charge_Voltage', \n",
    "                       'Input_Frequency','Input_Line_Voltage','Output_Frequency', 'Output_Line_Voltage',\n",
    "                       'Output_Load']]\n",
    "\n",
    "# Specify the dependent variable\n",
    "dependent_var = data_new_MLR['Temperature']\n",
    "\n",
    "\n",
    "# Create the linear regression model\n",
    "model = LinearRegression().fit(predictors, dependent_var)\n",
    "\n",
    "# Calculate the model's residuals\n",
    "residuals = dependent_var - model.predict(predictors)\n",
    "\n",
    "# Scatter plot of residuals vs predictors\n",
    "#sns.pairplot(pd.DataFrame(predictors_dropTemperature, columns=predictors_dropTemperature.columns), diag_kind=\"kde\")\n",
    "#plt.show()\n",
    "\n",
    "# Scatter plot of residuals vs fitted values\n",
    "plt.scatter(model.predict(predictors), residuals)\n",
    "plt.xlabel('Fitted values')\n",
    "plt.ylabel('Residuals')\n",
    "plt.show()\n"
   ]
  },
  {
   "cell_type": "markdown",
   "id": "e1004161",
   "metadata": {},
   "source": [
    "the residuals randomly scattered around zero, with no clear pattern thus the relationship is linear."
   ]
  },
  {
   "cell_type": "markdown",
   "id": "86bc3169",
   "metadata": {},
   "source": [
    "## Create numerical predictors only"
   ]
  },
  {
   "cell_type": "code",
   "execution_count": 57,
   "id": "bb32d6d7",
   "metadata": {},
   "outputs": [],
   "source": [
    "predictors_numerical= predictors[['Battery_Voltage', 'Capacity','Full_Charge_Voltage','Input_Frequency','Input_Line_Voltage',\n",
    "                        'Output_Frequency', 'Output_Line_Voltage',\n",
    "                       'Output_Load']]"
   ]
  },
  {
   "cell_type": "markdown",
   "id": "a2659fad",
   "metadata": {},
   "source": [
    "## To check assumptions"
   ]
  },
  {
   "cell_type": "code",
   "execution_count": 58,
   "id": "87052467",
   "metadata": {},
   "outputs": [
    {
     "name": "stdout",
     "output_type": "stream",
     "text": [
      "Durbin-Watson statistic:  0.37278423665697413\n"
     ]
    }
   ],
   "source": [
    "dw_stat = sm.stats.stattools.durbin_watson(residuals)\n",
    "print(\"Durbin-Watson statistic: \", dw_stat)"
   ]
  },
  {
   "cell_type": "code",
   "execution_count": 59,
   "id": "ad7a2348",
   "metadata": {
    "scrolled": true
   },
   "outputs": [
    {
     "data": {
      "image/png": "[encoded data removed]",
      "text/plain": [
       "<Figure size 432x288 with 1 Axes>"
      ]
     },
     "metadata": {},
     "output_type": "display_data"
    }
   ],
   "source": [
    "sm.qqplot(residuals, line='s')\n",
    "plt.show()"
   ]
  },
  {
   "cell_type": "code",
   "execution_count": 60,
   "id": "8ecd1f03",
   "metadata": {},
   "outputs": [
    {
     "data": {
      "text/plain": [
       "Index(['Battery_Voltage', 'Capacity', 'Full_Charge_Voltage', 'Input_Frequency',\n",
       "       'Input_Line_Voltage', 'Output_Frequency', 'Output_Line_Voltage',\n",
       "       'Output_Load'],\n",
       "      dtype='object')"
      ]
     },
     "execution_count": 60,
     "metadata": {},
     "output_type": "execute_result"
    }
   ],
   "source": [
    "predictors_numerical.columns"
   ]
  },
  {
   "cell_type": "code",
   "execution_count": 61,
   "id": "2db31504",
   "metadata": {
    "scrolled": true
   },
   "outputs": [
    {
     "name": "stdout",
     "output_type": "stream",
     "text": [
      "Variance Inflation Factors:  [0.0, inf, inf, 7.050621658063723e-09, 357.9541151425894, 2.0857433799692466, 0.46076940093609636, 8.382504171679231e-10]\n"
     ]
    },
    {
     "name": "stderr",
     "output_type": "stream",
     "text": [
      "C:\\Users\\Dila\\anaconda3\\lib\\site-packages\\statsmodels\\regression\\linear_model.py:1715: RuntimeWarning: divide by zero encountered in double_scalars\n",
      "  return 1 - self.ssr/self.centered_tss\n",
      "C:\\Users\\Dila\\anaconda3\\lib\\site-packages\\statsmodels\\stats\\outliers_influence.py:193: RuntimeWarning: divide by zero encountered in double_scalars\n",
      "  vif = 1. / (1. - r_squared_i)\n"
     ]
    }
   ],
   "source": [
    "# No multicollinearity assumption\n",
    "vif = [variance_inflation_factor(predictors_numerical.values, i) for i in range(predictors_numerical.shape[1])]\n",
    "print(\"Variance Inflation Factors: \", vif)"
   ]
  },
  {
   "cell_type": "markdown",
   "id": "f2d7757b",
   "metadata": {},
   "source": [
    "## Model Summary - DV : Temperature"
   ]
  },
  {
   "cell_type": "code",
   "execution_count": 62,
   "id": "f00813f7",
   "metadata": {
    "scrolled": false
   },
   "outputs": [
    {
     "name": "stdout",
     "output_type": "stream",
     "text": [
      "                            OLS Regression Results                            \n",
      "==============================================================================\n",
      "Dep. Variable:            Temperature   R-squared:                       0.109\n",
      "Model:                            OLS   Adj. R-squared:                  0.107\n",
      "Method:                 Least Squares   F-statistic:                     57.58\n",
      "Date:                Thu, 02 Feb 2023   Prob (F-statistic):           6.70e-46\n",
      "Time:                        22:38:17   Log-Likelihood:                -1731.3\n",
      "No. Observations:                1895   AIC:                             3473.\n",
      "Df Residuals:                    1890   BIC:                             3500.\n",
      "Df Model:                           4                                         \n",
      "Covariance Type:            nonrobust                                         \n",
      "=======================================================================================\n",
      "                          coef    std err          t      P>|t|      [0.025      0.975]\n",
      "---------------------------------------------------------------------------------------\n",
      "host_10.0.0.53          0.0005      0.000      4.222      0.000       0.000       0.001\n",
      "host_10.0.0.8          -0.0001   3.02e-05     -4.852      0.000      -0.000   -8.72e-05\n",
      "Battery_Status_2.0      0.0003   7.72e-05      3.952      0.000       0.000       0.000\n",
      "Output_Status_2     -4.216e-17   2.09e-17     -2.018      0.044   -8.31e-17   -1.18e-18\n",
      "Output_Status_3      1.393e-17   5.94e-18      2.344      0.019    2.27e-18    2.56e-17\n",
      "Output_Status_6         0.0003   7.72e-05      3.952      0.000       0.000       0.000\n",
      "Battery_Voltage         0.0067      0.002      3.952      0.000       0.003       0.010\n",
      "Capacity                0.0283      0.007      3.931      0.000       0.014       0.042\n",
      "Full_Charge_Voltage    -0.0048      0.001     -6.260      0.000      -0.006      -0.003\n",
      "Input_Frequency         0.1407      0.036      3.952      0.000       0.071       0.210\n",
      "Input_Line_Voltage      0.0868      0.191      0.455      0.649      -0.287       0.461\n",
      "Output_Frequency       -0.0405      0.040     -1.023      0.306      -0.118       0.037\n",
      "Output_Line_Voltage    -0.0180      0.019     -0.937      0.349      -0.056       0.020\n",
      "Output_Load             0.0018      0.000      3.952      0.000       0.001       0.003\n",
      "==============================================================================\n",
      "Omnibus:                       98.429   Durbin-Watson:                   0.373\n",
      "Prob(Omnibus):                  0.000   Jarque-Bera (JB):              155.580\n",
      "Skew:                           0.431   Prob(JB):                     1.65e-34\n",
      "Kurtosis:                       4.108   Cond. No.                     1.15e+50\n",
      "==============================================================================\n",
      "\n",
      "Notes:\n",
      "[1] Standard Errors assume that the covariance matrix of the errors is correctly specified.\n",
      "[2] The smallest eigenvalue is 9.38e-91. This might indicate that there are\n",
      "strong multicollinearity problems or that the design matrix is singular.\n"
     ]
    }
   ],
   "source": [
    "# to perform multiple linear regression for variable 'Temperature'\n",
    "\n",
    "# Add a constant term to the predictor variables (required for statsmodels)\n",
    "predictors = sm.add_constant(predictors)\n",
    "\n",
    "# Specify the dependent variable\n",
    "dependent_var = data_new_MLR['Temperature']\n",
    "\n",
    "# Create the linear regression model\n",
    "model = sm.OLS(dependent_var, predictors).fit()\n",
    "\n",
    "# Print the summary of the model\n",
    "print(model.summary())"
   ]
  },
  {
   "cell_type": "code",
   "execution_count": 63,
   "id": "ca57d30d",
   "metadata": {},
   "outputs": [
    {
     "name": "stdout",
     "output_type": "stream",
     "text": [
      "                            OLS Regression Results                            \n",
      "==============================================================================\n",
      "Dep. Variable:               Capacity   R-squared:                       1.000\n",
      "Model:                            OLS   Adj. R-squared:                  1.000\n",
      "Method:                 Least Squares   F-statistic:                 1.342e+22\n",
      "Date:                Thu, 02 Feb 2023   Prob (F-statistic):               0.00\n",
      "Time:                        22:38:17   Log-Likelihood:                 39562.\n",
      "No. Observations:                1895   AIC:                        -7.911e+04\n",
      "Df Residuals:                    1889   BIC:                        -7.908e+04\n",
      "Df Model:                           5                                         \n",
      "Covariance Type:            nonrobust                                         \n",
      "=======================================================================================\n",
      "                          coef    std err          t      P>|t|      [0.025      0.975]\n",
      "---------------------------------------------------------------------------------------\n",
      "host_10.0.0.53          0.0002   3.74e-14   4.17e+09      0.000       0.000       0.000\n",
      "host_10.0.0.8           0.0003   9.76e-15    2.9e+10      0.000       0.000       0.000\n",
      "Battery_Status_2.0      0.0004   2.78e-14   1.58e+10      0.000       0.000       0.000\n",
      "Output_Status_2      1.675e-18   4.54e-27   3.69e+08      0.000    1.68e-18    1.68e-18\n",
      "Output_Status_3      3.032e-17    4.4e-27   6.89e+09      0.000    3.03e-17    3.03e-17\n",
      "Output_Status_6         0.0004   2.78e-14   1.58e+10      0.000       0.000       0.000\n",
      "Battery_Voltage         0.0096   6.11e-13   1.58e+10      0.000       0.010       0.010\n",
      "Temperature         -4.423e-13   7.91e-12     -0.056      0.955    -1.6e-11    1.51e-11\n",
      "Full_Charge_Voltage     0.0463   2.28e-13   2.03e+11      0.000       0.046       0.046\n",
      "Input_Frequency         0.2020   1.28e-11   1.58e+10      0.000       0.202       0.202\n",
      "Input_Line_Voltage   1.101e-13   6.56e-11      0.002      0.999   -1.29e-10    1.29e-10\n",
      "Output_Frequency    -6.515e-13   1.36e-11     -0.048      0.962   -2.73e-11     2.6e-11\n",
      "Output_Line_Voltage  5.329e-15   6.59e-12      0.001      0.999   -1.29e-11    1.29e-11\n",
      "Output_Load             0.0026   1.64e-13   1.58e+10      0.000       0.003       0.003\n",
      "==============================================================================\n",
      "Omnibus:                      323.931   Durbin-Watson:                   0.000\n",
      "Prob(Omnibus):                  0.000   Jarque-Bera (JB):              802.066\n",
      "Skew:                          -0.935   Prob(JB):                    6.82e-175\n",
      "Kurtosis:                       5.581   Cond. No.                     1.03e+50\n",
      "==============================================================================\n",
      "\n",
      "Notes:\n",
      "[1] Standard Errors assume that the covariance matrix of the errors is correctly specified.\n",
      "[2] The smallest eigenvalue is 1.16e-90. This might indicate that there are\n",
      "strong multicollinearity problems or that the design matrix is singular.\n"
     ]
    }
   ],
   "source": [
    "# to perform multiple linear regression for variable 'Capacity'\n",
    "# Add a constant term to the predictor variables (required for statsmodels)\n",
    "# Specify the predictor variables (including the dummy variables)\n",
    "predictors_dropCapacity = data_new_MLR[['host_10.0.0.53', 'host_10.0.0.8', 'Battery_Status_2.0', \n",
    "                       'Output_Status_2','Output_Status_3','Output_Status_6',\n",
    "                       'Battery_Voltage', 'Temperature', 'Full_Charge_Voltage', \n",
    "                       'Input_Frequency','Input_Line_Voltage','Output_Frequency', 'Output_Line_Voltage',\n",
    "                       'Output_Load']]\n",
    "predictors_dropCapacity = sm.add_constant(predictors_dropCapacity)\n",
    "\n",
    "# Specify the dependent variable\n",
    "dependent_var = data_new_MLR['Capacity']\n",
    "\n",
    "# Create the linear regression model\n",
    "model = sm.OLS(dependent_var, predictors_dropCapacity).fit()\n",
    "\n",
    "# Print the summary of the model\n",
    "print(model.summary())"
   ]
  },
  {
   "cell_type": "code",
   "execution_count": 64,
   "id": "21b57dbd",
   "metadata": {},
   "outputs": [
    {
     "name": "stdout",
     "output_type": "stream",
     "text": [
      "                            OLS Regression Results                            \n",
      "==============================================================================\n",
      "Dep. Variable:        Input_Frequency   R-squared:                -2947183.994\n",
      "Model:                            OLS   Adj. R-squared:           -2954984.907\n",
      "Method:                 Least Squares   F-statistic:                    -377.8\n",
      "Date:                Thu, 02 Feb 2023   Prob (F-statistic):               1.00\n",
      "Time:                        22:38:17   Log-Likelihood:                 38910.\n",
      "No. Observations:                1895   AIC:                        -7.781e+04\n",
      "Df Residuals:                    1889   BIC:                        -7.777e+04\n",
      "Df Model:                           5                                         \n",
      "Covariance Type:            nonrobust                                         \n",
      "=======================================================================================\n",
      "                          coef    std err          t      P>|t|      [0.025      0.975]\n",
      "---------------------------------------------------------------------------------------\n",
      "host_10.0.0.53          0.0687   1.24e-12   5.52e+10      0.000       0.069       0.069\n",
      "host_10.0.0.8          -0.0187   3.38e-13  -5.52e+10      0.000      -0.019      -0.019\n",
      "Battery_Status_2.0      0.0500   9.05e-13   5.52e+10      0.000       0.050       0.050\n",
      "Output_Status_2      2.985e-16   6.05e-27   4.94e+10      0.000    2.98e-16    2.98e-16\n",
      "Output_Status_3      5.079e-16   9.85e-27   5.16e+10      0.000    5.08e-16    5.08e-16\n",
      "Output_Status_6         0.0500   9.05e-13   5.52e+10      0.000       0.050       0.050\n",
      "Battery_Voltage         1.1004   1.99e-11   5.52e+10      0.000       1.100       1.100\n",
      "Temperature         -1.767e-12   1.12e-11     -0.158      0.874   -2.37e-11    2.01e-11\n",
      "Full_Charge_Voltage    -0.2149   3.94e-12  -5.45e+10      0.000      -0.215      -0.215\n",
      "Capacity                4.6583   8.43e-11   5.52e+10      0.000       4.658       4.658\n",
      "Input_Line_Voltage   4.974e-13   9.26e-11      0.005      0.996   -1.81e-10    1.82e-10\n",
      "Output_Frequency    -3.155e-12   1.92e-11     -0.164      0.869   -4.08e-11    3.45e-11\n",
      "Output_Line_Voltage  5.063e-14    9.3e-12      0.005      0.996   -1.82e-11    1.83e-11\n",
      "Output_Load             0.2963   5.36e-12   5.52e+10      0.000       0.296       0.296\n",
      "==============================================================================\n",
      "Omnibus:                     1319.790   Durbin-Watson:                   0.000\n",
      "Prob(Omnibus):                  0.000   Jarque-Bera (JB):            11568.818\n",
      "Skew:                          -3.424   Prob(JB):                         0.00\n",
      "Kurtosis:                      12.981   Cond. No.                     3.30e+49\n",
      "==============================================================================\n",
      "\n",
      "Notes:\n",
      "[1] Standard Errors assume that the covariance matrix of the errors is correctly specified.\n",
      "[2] The smallest eigenvalue is 1.09e-89. This might indicate that there are\n",
      "strong multicollinearity problems or that the design matrix is singular.\n"
     ]
    }
   ],
   "source": [
    "# to perform multiple linear regression for variable 'Input_Frequency'\n",
    "# Add a constant term to the predictor variables (required for statsmodels)\n",
    "# Specify the predictor variables (including the dummy variables)\n",
    "predictors_dropInputFrequency = data_new_MLR[['host_10.0.0.53', 'host_10.0.0.8', 'Battery_Status_2.0', \n",
    "                       'Output_Status_2','Output_Status_3','Output_Status_6',\n",
    "                       'Battery_Voltage', 'Temperature', 'Full_Charge_Voltage', \n",
    "                       'Capacity','Input_Line_Voltage','Output_Frequency', 'Output_Line_Voltage',\n",
    "                       'Output_Load']]\n",
    "predictors_dropInputFrequency = sm.add_constant(predictors_dropInputFrequency)\n",
    "\n",
    "# Specify the dependent variable\n",
    "dependent_var = data_new_MLR['Input_Frequency']\n",
    "\n",
    "# Create the linear regression model\n",
    "model = sm.OLS(dependent_var, predictors_dropInputFrequency).fit()\n",
    "\n",
    "# Print the summary of the model\n",
    "print(model.summary())"
   ]
  },
  {
   "cell_type": "code",
   "execution_count": 65,
   "id": "e50198db",
   "metadata": {},
   "outputs": [
    {
     "name": "stderr",
     "output_type": "stream",
     "text": [
      "C:\\Users\\Dila\\anaconda3\\lib\\site-packages\\statsmodels\\regression\\linear_model.py:1715: RuntimeWarning: divide by zero encountered in double_scalars\n",
      "  return 1 - self.ssr/self.centered_tss\n"
     ]
    },
    {
     "name": "stdout",
     "output_type": "stream",
     "text": [
      "                            OLS Regression Results                            \n",
      "==============================================================================\n",
      "Dep. Variable:        Battery_Voltage   R-squared:                        -inf\n",
      "Model:                            OLS   Adj. R-squared:                   -inf\n",
      "Method:                 Least Squares   F-statistic:                    -377.8\n",
      "Date:                Thu, 02 Feb 2023   Prob (F-statistic):               1.00\n",
      "Time:                        22:38:17   Log-Likelihood:                 45451.\n",
      "No. Observations:                1895   AIC:                        -9.089e+04\n",
      "Df Residuals:                    1889   BIC:                        -9.086e+04\n",
      "Df Model:                           5                                         \n",
      "Covariance Type:            nonrobust                                         \n",
      "=======================================================================================\n",
      "                          coef    std err          t      P>|t|      [0.025      0.975]\n",
      "---------------------------------------------------------------------------------------\n",
      "host_10.0.0.53          0.0001   1.66e-15   8.24e+10      0.000       0.000       0.000\n",
      "host_10.0.0.8       -3.711e-05   4.68e-16  -7.93e+10      0.000   -3.71e-05   -3.71e-05\n",
      "Battery_Status_2.0   9.946e-05    1.2e-15   8.32e+10      0.000    9.95e-05    9.95e-05\n",
      "Output_Status_2      5.475e-18   3.17e-28   1.73e+10      0.000    5.48e-18    5.48e-18\n",
      "Output_Status_3     -1.029e-17   3.76e-28  -2.74e+10      0.000   -1.03e-17   -1.03e-17\n",
      "Output_Status_6      9.946e-05    1.2e-15   8.32e+10      0.000    9.95e-05    9.95e-05\n",
      "Input_Frequency         0.0458   5.51e-13   8.32e+10      0.000       0.046       0.046\n",
      "Temperature         -9.448e-14   3.54e-13     -0.267      0.789   -7.88e-13    5.99e-13\n",
      "Full_Charge_Voltage    -0.0004    1.2e-14  -3.57e+10      0.000      -0.000      -0.000\n",
      "Capacity                0.0093   1.11e-13   8.32e+10      0.000       0.009       0.009\n",
      "Input_Line_Voltage   2.665e-15   2.93e-12      0.001      0.999   -5.75e-12    5.76e-12\n",
      "Output_Frequency    -2.609e-14   6.08e-13     -0.043      0.966   -1.22e-12    1.17e-12\n",
      "Output_Line_Voltage  -1.11e-16   2.95e-13     -0.000      1.000   -5.78e-13    5.78e-13\n",
      "Output_Load             0.0006   7.08e-15   8.32e+10      0.000       0.001       0.001\n",
      "==============================================================================\n",
      "Omnibus:                      194.721   Durbin-Watson:                   0.000\n",
      "Prob(Omnibus):                  0.000   Jarque-Bera (JB):              346.549\n",
      "Skew:                          -0.692   Prob(JB):                     5.60e-76\n",
      "Kurtosis:                       4.573   Cond. No.                     2.46e+48\n",
      "==============================================================================\n",
      "\n",
      "Notes:\n",
      "[1] Standard Errors assume that the covariance matrix of the errors is correctly specified.\n",
      "[2] The smallest eigenvalue is 2.04e-87. This might indicate that there are\n",
      "strong multicollinearity problems or that the design matrix is singular.\n"
     ]
    }
   ],
   "source": [
    "# to perform multiple linear regression for variable 'Battery_Voltage'\n",
    "# Add a constant term to the predictor variables (required for statsmodels)\n",
    "# Specify the predictor variables (including the dummy variables)\n",
    "predictors_dropBattery_Voltage = data_new_MLR[['host_10.0.0.53', 'host_10.0.0.8', 'Battery_Status_2.0', \n",
    "                       'Output_Status_2','Output_Status_3','Output_Status_6',\n",
    "                       'Input_Frequency', 'Temperature', 'Full_Charge_Voltage', \n",
    "                       'Capacity','Input_Line_Voltage','Output_Frequency', 'Output_Line_Voltage',\n",
    "                       'Output_Load']]\n",
    "predictors_dropBattery_Voltage = sm.add_constant(predictors_dropBattery_Voltage)\n",
    "\n",
    "# Specify the dependent variable\n",
    "dependent_var = data_new_MLR['Battery_Voltage']\n",
    "\n",
    "# Create the linear regression model\n",
    "model = sm.OLS(dependent_var, predictors_dropBattery_Voltage).fit()\n",
    "\n",
    "# Print the summary of the model\n",
    "print(model.summary())"
   ]
  },
  {
   "cell_type": "code",
   "execution_count": 66,
   "id": "940cf46c",
   "metadata": {},
   "outputs": [
    {
     "name": "stdout",
     "output_type": "stream",
     "text": [
      "                            OLS Regression Results                            \n",
      "==============================================================================\n",
      "Dep. Variable:       Output_Frequency   R-squared:                       0.521\n",
      "Model:                            OLS   Adj. R-squared:                  0.520\n",
      "Method:                 Least Squares   F-statistic:                     513.6\n",
      "Date:                Thu, 02 Feb 2023   Prob (F-statistic):          5.81e-300\n",
      "Time:                        22:38:17   Log-Likelihood:                -704.89\n",
      "No. Observations:                1895   AIC:                             1420.\n",
      "Df Residuals:                    1890   BIC:                             1448.\n",
      "Df Model:                           4                                         \n",
      "Covariance Type:            nonrobust                                         \n",
      "=======================================================================================\n",
      "                          coef    std err          t      P>|t|      [0.025      0.975]\n",
      "---------------------------------------------------------------------------------------\n",
      "host_10.0.0.53          0.0027   1.03e-05    259.681      0.000       0.003       0.003\n",
      "host_10.0.0.8          -0.0008   3.38e-06   -222.640      0.000      -0.001      -0.001\n",
      "Battery_Status_2.0      0.0019   8.39e-06    229.715      0.000       0.002       0.002\n",
      "Output_Status_2     -4.898e-18   7.66e-19     -6.394      0.000    -6.4e-18    -3.4e-18\n",
      "Output_Status_3      -1.31e-17    1.5e-18     -8.755      0.000    -1.6e-17   -1.02e-17\n",
      "Output_Status_6         0.0019   8.39e-06    229.715      0.000       0.002       0.002\n",
      "Input_Frequency         0.8883      0.004    229.715      0.000       0.881       0.896\n",
      "Temperature            -0.0137      0.013     -1.023      0.306      -0.040       0.013\n",
      "Full_Charge_Voltage    -0.0120      0.000    -33.459      0.000      -0.013      -0.011\n",
      "Capacity                0.1793      0.001    227.045      0.000       0.178       0.181\n",
      "Input_Line_Voltage      0.0943      0.111      0.850      0.396      -0.123       0.312\n",
      "Battery_Voltage         0.0424      0.000    229.715      0.000       0.042       0.043\n",
      "Output_Line_Voltage     0.0206      0.011      1.845      0.065      -0.001       0.042\n",
      "Output_Load             0.0114   4.97e-05    229.715      0.000       0.011       0.012\n",
      "==============================================================================\n",
      "Omnibus:                        2.387   Durbin-Watson:                   0.247\n",
      "Prob(Omnibus):                  0.303   Jarque-Bera (JB):                2.494\n",
      "Skew:                           0.001   Prob(JB):                        0.287\n",
      "Kurtosis:                       3.178   Cond. No.                     9.02e+48\n",
      "==============================================================================\n",
      "\n",
      "Notes:\n",
      "[1] Standard Errors assume that the covariance matrix of the errors is correctly specified.\n",
      "[2] The smallest eigenvalue is 1.45e-88. This might indicate that there are\n",
      "strong multicollinearity problems or that the design matrix is singular.\n"
     ]
    }
   ],
   "source": [
    "# to perform multiple linear regression for variable 'Output_Frequency'\n",
    "# Add a constant term to the predictor variables (required for statsmodels)\n",
    "# Specify the predictor variables (including the dummy variables)\n",
    "predictors_dropOutput_Frequency = data_new_MLR[['host_10.0.0.53', 'host_10.0.0.8', 'Battery_Status_2.0', \n",
    "                       'Output_Status_2','Output_Status_3','Output_Status_6',\n",
    "                       'Input_Frequency', 'Temperature', 'Full_Charge_Voltage', \n",
    "                       'Capacity','Input_Line_Voltage','Battery_Voltage', 'Output_Line_Voltage',\n",
    "                       'Output_Load']]\n",
    "predictors_dropOutput_Frequency = sm.add_constant(predictors_dropOutput_Frequency)\n",
    "\n",
    "# Specify the dependent variable\n",
    "dependent_var = data_new_MLR['Output_Frequency']\n",
    "\n",
    "# Create the linear regression model\n",
    "model = sm.OLS(dependent_var, predictors_dropOutput_Frequency).fit()\n",
    "\n",
    "# Print the summary of the model\n",
    "print(model.summary())"
   ]
  },
  {
   "cell_type": "markdown",
   "id": "db43fff1",
   "metadata": {},
   "source": [
    "# Separate two groups of datasets from 'Test' dataset , UPS 1 and UPS 2"
   ]
  },
  {
   "cell_type": "code",
   "execution_count": 74,
   "id": "5be2a36a",
   "metadata": {},
   "outputs": [
    {
     "name": "stdout",
     "output_type": "stream",
     "text": [
      "                        time  Base_Config_Num_Device  Battery_Voltage  \\\n",
      "0        2022-12-16 08:25:41                       4               22   \n",
      "2        2022-12-16 08:25:46                       4               22   \n",
      "4        2022-12-16 08:25:51                       4               22   \n",
      "6        2022-12-16 08:25:56                       4               22   \n",
      "8        2022-12-16 08:26:01                       4               22   \n",
      "...                      ...                     ...              ...   \n",
      "1086929  2023-01-21 03:09:33                       4               22   \n",
      "1086954  2023-01-21 03:12:03                       4               22   \n",
      "1086988  2023-01-21 03:15:33                       4               22   \n",
      "1087028  2023-01-21 03:19:33                       4               22   \n",
      "1087033  2023-01-21 03:20:03                       4               22   \n",
      "\n",
      "         Capacity  Config_Rated_Output_Voltage  Full_Charge_Voltage  \\\n",
      "0              95                        230.0                 36.0   \n",
      "2              95                        230.0                 36.0   \n",
      "4              95                        230.0                 36.0   \n",
      "6              95                        230.0                 36.0   \n",
      "8              95                        230.0                 36.0   \n",
      "...           ...                          ...                  ...   \n",
      "1086929       100                        230.0                144.0   \n",
      "1086954       100                        230.0                144.0   \n",
      "1086988       100                        230.0                144.0   \n",
      "1087028       100                        230.0                144.0   \n",
      "1087033       100                        230.0                144.0   \n",
      "\n",
      "         Input_Frequency  Input_Line_Voltage  Input_Max_Line_Voltage  \\\n",
      "0             460.931275               237.8                   245.2   \n",
      "2             460.931275               237.8                   245.2   \n",
      "4             460.931275               237.8                   245.2   \n",
      "6             460.931275               237.8                   245.2   \n",
      "8             460.931275               237.8                   245.2   \n",
      "...                  ...                 ...                     ...   \n",
      "1086929       499.000000               243.9                   257.6   \n",
      "1086954       499.000000               243.6                   257.6   \n",
      "1086988       499.000000               243.3                   257.6   \n",
      "1087028       499.000000               244.4                   257.6   \n",
      "1087033       499.000000               243.8                   257.6   \n",
      "\n",
      "         Input_Min_Line_Voltage  ...  Output_Load  Remaining_Time  \\\n",
      "0                        226.76  ...     5.923451               0   \n",
      "2                        226.76  ...     5.923451               0   \n",
      "4                        226.76  ...     5.923451               0   \n",
      "6                        226.76  ...     5.923451               0   \n",
      "8                        226.76  ...     5.923451               0   \n",
      "...                         ...  ...          ...             ...   \n",
      "1086929                  240.80  ...     0.000000               0   \n",
      "1086954                  240.80  ...     0.000000               0   \n",
      "1086988                  240.80  ...     7.000000               0   \n",
      "1087028                  240.80  ...     8.000000               0   \n",
      "1087033                  240.80  ...     0.000000               0   \n",
      "\n",
      "         Temperature  Time_On_Battery  host_10.0.0.53  host_10.0.0.8  \\\n",
      "0               25.0                0               1              0   \n",
      "2               25.0                0               1              0   \n",
      "4               25.0                0               1              0   \n",
      "6               25.0                0               1              0   \n",
      "8               25.0                0               1              0   \n",
      "...              ...              ...             ...            ...   \n",
      "1086929         33.0                0               1              0   \n",
      "1086954         33.0                0               1              0   \n",
      "1086988         33.0                0               1              0   \n",
      "1087028         33.0                0               1              0   \n",
      "1087033         33.0                0               1              0   \n",
      "\n",
      "         Battery_Status_2.0  Output_Status_2  Output_Status_3  Output_Status_6  \n",
      "0                         1                1                0                0  \n",
      "2                         1                1                0                0  \n",
      "4                         1                1                0                0  \n",
      "6                         1                1                0                0  \n",
      "8                         1                1                0                0  \n",
      "...                     ...              ...              ...              ...  \n",
      "1086929                   0                1                0                0  \n",
      "1086954                   0                1                0                0  \n",
      "1086988                   0                1                0                0  \n",
      "1087028                   0                1                0                0  \n",
      "1087033                   0                1                0                0  \n",
      "\n",
      "[583710 rows x 22 columns]\n"
     ]
    }
   ],
   "source": [
    "# select rows where host_10.0.0.53 = 1\n",
    "UPS1= data_new.loc[data_new['host_10.0.0.53'] == 1]\n",
    "print(UPS1)"
   ]
  },
  {
   "cell_type": "code",
   "execution_count": 75,
   "id": "67fd6a67",
   "metadata": {},
   "outputs": [],
   "source": [
    "#sliced rows of UPS1 dataframe to 505022\n",
    "UPS1_new= UPS1.head(505022)"
   ]
  },
  {
   "cell_type": "code",
   "execution_count": 76,
   "id": "805ea3c4",
   "metadata": {},
   "outputs": [
    {
     "name": "stdout",
     "output_type": "stream",
     "text": [
      "                        time  Base_Config_Num_Device  Battery_Voltage  \\\n",
      "1        2022-12-16 08:25:42                       4               22   \n",
      "3        2022-12-16 08:25:48                       4               22   \n",
      "5        2022-12-16 08:25:54                       4               22   \n",
      "7        2022-12-16 08:26:00                       4               22   \n",
      "12       2022-12-16 08:26:12                       4               22   \n",
      "...                      ...                     ...              ...   \n",
      "1088727  2023-01-21 06:11:21                       4               22   \n",
      "1088728  2023-01-21 06:11:27                       4               22   \n",
      "1088729  2023-01-21 06:11:33                       4               22   \n",
      "1088730  2023-01-21 06:11:39                       4               22   \n",
      "1088731  2023-01-21 06:11:45                       4               22   \n",
      "\n",
      "         Capacity  Config_Rated_Output_Voltage  Full_Charge_Voltage  \\\n",
      "1             100                        230.0                144.0   \n",
      "3             100                        230.0                144.0   \n",
      "5             100                        230.0                144.0   \n",
      "7             100                        230.0                144.0   \n",
      "12            100                        230.0                144.0   \n",
      "...           ...                          ...                  ...   \n",
      "1088727       100                        230.0                144.0   \n",
      "1088728       100                        230.0                144.0   \n",
      "1088729       100                        230.0                144.0   \n",
      "1088730       100                        230.0                144.0   \n",
      "1088731       100                        230.0                144.0   \n",
      "\n",
      "         Input_Frequency  Input_Line_Voltage  Input_Max_Line_Voltage  \\\n",
      "1             460.931275               241.5                   257.6   \n",
      "3             460.931275               241.4                   257.6   \n",
      "5             460.931275               242.7                   257.6   \n",
      "7             460.931275               241.5                   257.6   \n",
      "12            460.931275               243.2                   257.6   \n",
      "...                  ...                 ...                     ...   \n",
      "1088727       499.000000               243.9                   257.6   \n",
      "1088728       499.000000               244.8                   257.6   \n",
      "1088729       499.000000               243.7                   257.6   \n",
      "1088730       499.000000               244.7                   257.6   \n",
      "1088731       499.000000               244.4                   257.6   \n",
      "\n",
      "         Input_Min_Line_Voltage  ...  Output_Load  Remaining_Time  \\\n",
      "1                        226.76  ...     5.923451               0   \n",
      "3                        226.76  ...     5.923451               0   \n",
      "5                        226.76  ...     5.923451               0   \n",
      "7                        226.76  ...     5.923451               0   \n",
      "12                       226.76  ...     5.923451               0   \n",
      "...                         ...  ...          ...             ...   \n",
      "1088727                  241.80  ...     0.000000               0   \n",
      "1088728                  241.80  ...     0.000000               0   \n",
      "1088729                  241.80  ...     7.000000               0   \n",
      "1088730                  241.80  ...     8.000000               0   \n",
      "1088731                  241.80  ...     8.000000               0   \n",
      "\n",
      "         Temperature  Time_On_Battery  host_10.0.0.53  host_10.0.0.8  \\\n",
      "1               26.0                0               0              1   \n",
      "3               27.0                0               0              1   \n",
      "5               26.0                0               0              1   \n",
      "7               27.0                0               0              1   \n",
      "12              27.0                0               0              1   \n",
      "...              ...              ...             ...            ...   \n",
      "1088727         33.0                0               0              1   \n",
      "1088728         33.0                0               0              1   \n",
      "1088729         33.0                0               0              1   \n",
      "1088730         33.0                0               0              1   \n",
      "1088731         34.0                0               0              1   \n",
      "\n",
      "         Battery_Status_2.0  Output_Status_2  Output_Status_3  Output_Status_6  \n",
      "1                         1                1                0                0  \n",
      "3                         1                1                0                0  \n",
      "5                         1                1                0                0  \n",
      "7                         1                1                0                0  \n",
      "12                        1                1                0                0  \n",
      "...                     ...              ...              ...              ...  \n",
      "1088727                   0                1                0                0  \n",
      "1088728                   0                1                0                0  \n",
      "1088729                   0                1                0                0  \n",
      "1088730                   0                1                0                0  \n",
      "1088731                   0                1                0                0  \n",
      "\n",
      "[505022 rows x 22 columns]\n"
     ]
    }
   ],
   "source": [
    "# select rows where host_10.0.0.8 = 1\n",
    "UPS2= data_new.loc[data_new['host_10.0.0.8'] == 1]\n",
    "print(UPS2)"
   ]
  },
  {
   "cell_type": "code",
   "execution_count": 77,
   "id": "645f68dd",
   "metadata": {},
   "outputs": [],
   "source": [
    "#drop object, categorical vars column from UPS1_newer and UPS2_new\n",
    "#to perform correlation only for numerical attributes\n",
    "\n",
    "#data_new=data.drop(['name','Last_Replacement_Date','Date_Manufacture'], axis=1)\n",
    "UPS1_newer=UPS1_new.drop(['time','host_10.0.0.53','host_10.0.0.8','Battery_Status_2.0','Output_Status_2','Output_Status_3','Output_Status_6'], axis=1)\n",
    "UPS2_new= UPS2.drop(['time','host_10.0.0.53','host_10.0.0.8','Battery_Status_2.0','Output_Status_2','Output_Status_3','Output_Status_6'], axis=1)"
   ]
  },
  {
   "cell_type": "code",
   "execution_count": 78,
   "id": "c6923276",
   "metadata": {},
   "outputs": [
    {
     "data": {
      "text/html": [
       "<div>\n",
       "<style scoped>\n",
       "    .dataframe tbody tr th:only-of-type {\n",
       "        vertical-align: middle;\n",
       "    }\n",
       "\n",
       "    .dataframe tbody tr th {\n",
       "        vertical-align: top;\n",
       "    }\n",
       "\n",
       "    .dataframe thead th {\n",
       "        text-align: right;\n",
       "    }\n",
       "</style>\n",
       "<table border=\"1\" class=\"dataframe\">\n",
       "  <thead>\n",
       "    <tr style=\"text-align: right;\">\n",
       "      <th></th>\n",
       "      <th>Base_Config_Num_Device</th>\n",
       "      <th>Battery_Voltage</th>\n",
       "      <th>Capacity</th>\n",
       "      <th>Config_Rated_Output_Voltage</th>\n",
       "      <th>Full_Charge_Voltage</th>\n",
       "      <th>Input_Frequency</th>\n",
       "      <th>Input_Line_Voltage</th>\n",
       "      <th>Input_Max_Line_Voltage</th>\n",
       "      <th>Input_Min_Line_Voltage</th>\n",
       "      <th>Output_Frequency</th>\n",
       "      <th>Output_Line_Voltage</th>\n",
       "      <th>Output_Load</th>\n",
       "      <th>Remaining_Time</th>\n",
       "      <th>Temperature</th>\n",
       "      <th>Time_On_Battery</th>\n",
       "    </tr>\n",
       "  </thead>\n",
       "  <tbody>\n",
       "    <tr>\n",
       "      <th>count</th>\n",
       "      <td>505022.0</td>\n",
       "      <td>505022.000000</td>\n",
       "      <td>505022.000000</td>\n",
       "      <td>505022.0</td>\n",
       "      <td>505022.000000</td>\n",
       "      <td>5.050220e+05</td>\n",
       "      <td>505022.000000</td>\n",
       "      <td>505022.000000</td>\n",
       "      <td>5.050220e+05</td>\n",
       "      <td>505022.000000</td>\n",
       "      <td>505022.000000</td>\n",
       "      <td>5.050220e+05</td>\n",
       "      <td>505022.000000</td>\n",
       "      <td>505022.000000</td>\n",
       "      <td>505022.000000</td>\n",
       "    </tr>\n",
       "    <tr>\n",
       "      <th>mean</th>\n",
       "      <td>4.0</td>\n",
       "      <td>21.999931</td>\n",
       "      <td>94.060508</td>\n",
       "      <td>230.0</td>\n",
       "      <td>37.509154</td>\n",
       "      <td>4.609313e+02</td>\n",
       "      <td>239.993672</td>\n",
       "      <td>245.414489</td>\n",
       "      <td>2.267600e+02</td>\n",
       "      <td>498.907315</td>\n",
       "      <td>2299.960119</td>\n",
       "      <td>5.923451e+00</td>\n",
       "      <td>1.276372</td>\n",
       "      <td>25.086343</td>\n",
       "      <td>0.011920</td>\n",
       "    </tr>\n",
       "    <tr>\n",
       "      <th>std</th>\n",
       "      <td>0.0</td>\n",
       "      <td>0.012507</td>\n",
       "      <td>1.234099</td>\n",
       "      <td>0.0</td>\n",
       "      <td>12.677200</td>\n",
       "      <td>1.722414e-09</td>\n",
       "      <td>2.305700</td>\n",
       "      <td>1.502861</td>\n",
       "      <td>1.821237e-09</td>\n",
       "      <td>3.175394</td>\n",
       "      <td>4.911463</td>\n",
       "      <td>4.648997e-11</td>\n",
       "      <td>315.598150</td>\n",
       "      <td>0.808904</td>\n",
       "      <td>2.286082</td>\n",
       "    </tr>\n",
       "    <tr>\n",
       "      <th>min</th>\n",
       "      <td>4.0</td>\n",
       "      <td>20.000000</td>\n",
       "      <td>57.000000</td>\n",
       "      <td>230.0</td>\n",
       "      <td>36.000000</td>\n",
       "      <td>4.609313e+02</td>\n",
       "      <td>0.000000</td>\n",
       "      <td>0.000000</td>\n",
       "      <td>2.267600e+02</td>\n",
       "      <td>0.000000</td>\n",
       "      <td>0.000000</td>\n",
       "      <td>5.923451e+00</td>\n",
       "      <td>0.000000</td>\n",
       "      <td>23.000000</td>\n",
       "      <td>0.000000</td>\n",
       "    </tr>\n",
       "    <tr>\n",
       "      <th>25%</th>\n",
       "      <td>4.0</td>\n",
       "      <td>22.000000</td>\n",
       "      <td>93.000000</td>\n",
       "      <td>230.0</td>\n",
       "      <td>36.000000</td>\n",
       "      <td>4.609313e+02</td>\n",
       "      <td>238.900000</td>\n",
       "      <td>245.200000</td>\n",
       "      <td>2.267600e+02</td>\n",
       "      <td>499.000000</td>\n",
       "      <td>2300.000000</td>\n",
       "      <td>5.923451e+00</td>\n",
       "      <td>0.000000</td>\n",
       "      <td>25.000000</td>\n",
       "      <td>0.000000</td>\n",
       "    </tr>\n",
       "    <tr>\n",
       "      <th>50%</th>\n",
       "      <td>4.0</td>\n",
       "      <td>22.000000</td>\n",
       "      <td>93.000000</td>\n",
       "      <td>230.0</td>\n",
       "      <td>36.000000</td>\n",
       "      <td>4.609313e+02</td>\n",
       "      <td>239.900000</td>\n",
       "      <td>245.200000</td>\n",
       "      <td>2.267600e+02</td>\n",
       "      <td>499.000000</td>\n",
       "      <td>2300.000000</td>\n",
       "      <td>5.923451e+00</td>\n",
       "      <td>0.000000</td>\n",
       "      <td>25.000000</td>\n",
       "      <td>0.000000</td>\n",
       "    </tr>\n",
       "    <tr>\n",
       "      <th>75%</th>\n",
       "      <td>4.0</td>\n",
       "      <td>22.000000</td>\n",
       "      <td>95.000000</td>\n",
       "      <td>230.0</td>\n",
       "      <td>36.000000</td>\n",
       "      <td>4.609313e+02</td>\n",
       "      <td>241.200000</td>\n",
       "      <td>245.200000</td>\n",
       "      <td>2.267600e+02</td>\n",
       "      <td>499.000000</td>\n",
       "      <td>2300.000000</td>\n",
       "      <td>5.923451e+00</td>\n",
       "      <td>0.000000</td>\n",
       "      <td>25.000000</td>\n",
       "      <td>0.000000</td>\n",
       "    </tr>\n",
       "    <tr>\n",
       "      <th>max</th>\n",
       "      <td>4.0</td>\n",
       "      <td>23.000000</td>\n",
       "      <td>100.000000</td>\n",
       "      <td>230.0</td>\n",
       "      <td>144.000000</td>\n",
       "      <td>4.609313e+02</td>\n",
       "      <td>249.700000</td>\n",
       "      <td>257.600000</td>\n",
       "      <td>2.267600e+02</td>\n",
       "      <td>500.000000</td>\n",
       "      <td>2417.000000</td>\n",
       "      <td>5.923451e+00</td>\n",
       "      <td>120000.000000</td>\n",
       "      <td>39.000000</td>\n",
       "      <td>703.000000</td>\n",
       "    </tr>\n",
       "  </tbody>\n",
       "</table>\n",
       "</div>"
      ],
      "text/plain": [
       "       Base_Config_Num_Device  Battery_Voltage       Capacity  \\\n",
       "count                505022.0    505022.000000  505022.000000   \n",
       "mean                      4.0        21.999931      94.060508   \n",
       "std                       0.0         0.012507       1.234099   \n",
       "min                       4.0        20.000000      57.000000   \n",
       "25%                       4.0        22.000000      93.000000   \n",
       "50%                       4.0        22.000000      93.000000   \n",
       "75%                       4.0        22.000000      95.000000   \n",
       "max                       4.0        23.000000     100.000000   \n",
       "\n",
       "       Config_Rated_Output_Voltage  Full_Charge_Voltage  Input_Frequency  \\\n",
       "count                     505022.0        505022.000000     5.050220e+05   \n",
       "mean                         230.0            37.509154     4.609313e+02   \n",
       "std                            0.0            12.677200     1.722414e-09   \n",
       "min                          230.0            36.000000     4.609313e+02   \n",
       "25%                          230.0            36.000000     4.609313e+02   \n",
       "50%                          230.0            36.000000     4.609313e+02   \n",
       "75%                          230.0            36.000000     4.609313e+02   \n",
       "max                          230.0           144.000000     4.609313e+02   \n",
       "\n",
       "       Input_Line_Voltage  Input_Max_Line_Voltage  Input_Min_Line_Voltage  \\\n",
       "count       505022.000000           505022.000000            5.050220e+05   \n",
       "mean           239.993672              245.414489            2.267600e+02   \n",
       "std              2.305700                1.502861            1.821237e-09   \n",
       "min              0.000000                0.000000            2.267600e+02   \n",
       "25%            238.900000              245.200000            2.267600e+02   \n",
       "50%            239.900000              245.200000            2.267600e+02   \n",
       "75%            241.200000              245.200000            2.267600e+02   \n",
       "max            249.700000              257.600000            2.267600e+02   \n",
       "\n",
       "       Output_Frequency  Output_Line_Voltage   Output_Load  Remaining_Time  \\\n",
       "count     505022.000000        505022.000000  5.050220e+05   505022.000000   \n",
       "mean         498.907315          2299.960119  5.923451e+00        1.276372   \n",
       "std            3.175394             4.911463  4.648997e-11      315.598150   \n",
       "min            0.000000             0.000000  5.923451e+00        0.000000   \n",
       "25%          499.000000          2300.000000  5.923451e+00        0.000000   \n",
       "50%          499.000000          2300.000000  5.923451e+00        0.000000   \n",
       "75%          499.000000          2300.000000  5.923451e+00        0.000000   \n",
       "max          500.000000          2417.000000  5.923451e+00   120000.000000   \n",
       "\n",
       "         Temperature  Time_On_Battery  \n",
       "count  505022.000000    505022.000000  \n",
       "mean       25.086343         0.011920  \n",
       "std         0.808904         2.286082  \n",
       "min        23.000000         0.000000  \n",
       "25%        25.000000         0.000000  \n",
       "50%        25.000000         0.000000  \n",
       "75%        25.000000         0.000000  \n",
       "max        39.000000       703.000000  "
      ]
     },
     "execution_count": 78,
     "metadata": {},
     "output_type": "execute_result"
    }
   ],
   "source": [
    "UPS1_newer.describe()"
   ]
  },
  {
   "cell_type": "markdown",
   "id": "d563ef38",
   "metadata": {},
   "source": [
    "## One-way ANOVA"
   ]
  },
  {
   "cell_type": "code",
   "execution_count": 79,
   "id": "83025553",
   "metadata": {},
   "outputs": [
    {
     "data": {
      "text/plain": [
       "Index(['Base_Config_Num_Device', 'Battery_Voltage', 'Capacity',\n",
       "       'Config_Rated_Output_Voltage', 'Full_Charge_Voltage', 'Input_Frequency',\n",
       "       'Input_Line_Voltage', 'Input_Max_Line_Voltage',\n",
       "       'Input_Min_Line_Voltage', 'Output_Frequency', 'Output_Line_Voltage',\n",
       "       'Output_Load', 'Remaining_Time', 'Temperature', 'Time_On_Battery'],\n",
       "      dtype='object')"
      ]
     },
     "execution_count": 79,
     "metadata": {},
     "output_type": "execute_result"
    }
   ],
   "source": [
    "UPS1_newer.columns"
   ]
  },
  {
   "cell_type": "code",
   "execution_count": 80,
   "id": "f3fcd7d9",
   "metadata": {},
   "outputs": [
    {
     "data": {
      "text/plain": [
       "Index(['Base_Config_Num_Device', 'Battery_Voltage', 'Capacity',\n",
       "       'Config_Rated_Output_Voltage', 'Full_Charge_Voltage', 'Input_Frequency',\n",
       "       'Input_Line_Voltage', 'Input_Max_Line_Voltage',\n",
       "       'Input_Min_Line_Voltage', 'Output_Frequency', 'Output_Line_Voltage',\n",
       "       'Output_Load', 'Remaining_Time', 'Temperature', 'Time_On_Battery'],\n",
       "      dtype='object')"
      ]
     },
     "execution_count": 80,
     "metadata": {},
     "output_type": "execute_result"
    }
   ],
   "source": [
    "UPS2_new.columns"
   ]
  },
  {
   "cell_type": "code",
   "execution_count": 81,
   "id": "f30ae6f2",
   "metadata": {},
   "outputs": [
    {
     "name": "stdout",
     "output_type": "stream",
     "text": [
      "F-value:  32455.933734365117\n",
      "p-value:  0.0\n"
     ]
    }
   ],
   "source": [
    "from scipy import stats\n",
    "import pandas as pd\n",
    "\n",
    "# Select the variable of interest (e.g. Output_Line_Voltage) \n",
    "# from each dataframe\n",
    "ups1_voltage = UPS1_newer[\"Output_Line_Voltage\"]\n",
    "ups2_voltage = UPS2_new[\"Output_Line_Voltage\"]\n",
    "\n",
    "# Perform the ANOVA test\n",
    "stat, p = stats.f_oneway(ups1_voltage, ups2_voltage)\n",
    "print(\"F-value: \", stat)\n",
    "print(\"p-value: \", p)\n"
   ]
  },
  {
   "cell_type": "code",
   "execution_count": 82,
   "id": "0a003820",
   "metadata": {},
   "outputs": [
    {
     "name": "stdout",
     "output_type": "stream",
     "text": [
      "F-value:  1988672.8239773226\n",
      "p-value:  0.0\n"
     ]
    }
   ],
   "source": [
    "# Select the variable of interest (e.g. Temperature) from each dataframe\n",
    "ups1_temperature = UPS1_newer[\"Temperature\"]\n",
    "ups2_temperature = UPS2_new[\"Temperature\"]\n",
    "\n",
    "# Perform the ANOVA test\n",
    "stat, p = stats.f_oneway(ups1_temperature, ups2_temperature)\n",
    "print(\"F-value: \", stat)\n",
    "print(\"p-value: \", p)"
   ]
  },
  {
   "cell_type": "code",
   "execution_count": 83,
   "id": "c0102df9",
   "metadata": {},
   "outputs": [
    {
     "name": "stdout",
     "output_type": "stream",
     "text": [
      "F-value:  2636726.8534199107\n",
      "p-value:  0.0\n"
     ]
    }
   ],
   "source": [
    "# Select the variable of interest (e.g. Capacity) from each dataframe\n",
    "ups1_capacity = UPS1_newer[\"Capacity\"]\n",
    "ups2_capacity = UPS2_new[\"Capacity\"]\n",
    "\n",
    "# Perform the ANOVA test\n",
    "stat, p = stats.f_oneway(ups1_capacity, ups2_capacity)\n",
    "print(\"F-value: \", stat)\n",
    "print(\"p-value: \", p)"
   ]
  },
  {
   "cell_type": "code",
   "execution_count": 84,
   "id": "b950693c",
   "metadata": {},
   "outputs": [
    {
     "name": "stdout",
     "output_type": "stream",
     "text": [
      "F-value:  2647.0702038167383\n",
      "p-value:  0.0\n"
     ]
    }
   ],
   "source": [
    "# Select the variable of interest (e.g. Battery_Voltage) from each dataframe\n",
    "ups1_Battery_Voltage = UPS1_newer[\"Battery_Voltage\"]\n",
    "ups2_Battery_Voltage = UPS2_new[\"Battery_Voltage\"]\n",
    "\n",
    "# Perform the ANOVA test\n",
    "stat, p = stats.f_oneway(ups1_Battery_Voltage, ups2_Battery_Voltage)\n",
    "print(\"F-value: \", stat)\n",
    "print(\"p-value: \", p)"
   ]
  },
  {
   "cell_type": "code",
   "execution_count": 85,
   "id": "1c99708b",
   "metadata": {},
   "outputs": [
    {
     "name": "stdout",
     "output_type": "stream",
     "text": [
      "F-value:  0.013816103692199126\n",
      "p-value:  0.9064306478278158\n"
     ]
    }
   ],
   "source": [
    "# Select the variable of interest (e.g. Input_Frequency) from each dataframe\n",
    "ups1_Input_Frequency = UPS1_newer[\"Input_Frequency\"]\n",
    "ups2_Input_Frequency = UPS2_new[\"Input_Frequency\"]\n",
    "\n",
    "# Perform the ANOVA test\n",
    "stat, p = stats.f_oneway(ups1_Input_Frequency, ups2_Input_Frequency)\n",
    "print(\"F-value: \", stat)\n",
    "print(\"p-value: \", p)"
   ]
  },
  {
   "cell_type": "code",
   "execution_count": 86,
   "id": "b8932bdf",
   "metadata": {},
   "outputs": [
    {
     "name": "stdout",
     "output_type": "stream",
     "text": [
      "F-value:  24760.930302307854\n",
      "p-value:  0.0\n"
     ]
    }
   ],
   "source": [
    "# Select the variable of interest (e.g. Input_Line_Voltage) from each dataframe\n",
    "ups1_Input_Line_Voltage = UPS1_newer[\"Input_Line_Voltage\"]\n",
    "ups2_Input_Line_Voltage = UPS2_new[\"Input_Line_Voltage\"]\n",
    "\n",
    "# Perform the ANOVA test\n",
    "stat, p = stats.f_oneway(ups1_Input_Line_Voltage, ups2_Input_Line_Voltage)\n",
    "print(\"F-value: \", stat)\n",
    "print(\"p-value: \", p)"
   ]
  },
  {
   "cell_type": "code",
   "execution_count": 87,
   "id": "670b8f2b",
   "metadata": {},
   "outputs": [
    {
     "name": "stdout",
     "output_type": "stream",
     "text": [
      "F-value:  777.6413053133681\n",
      "p-value:  4.554786164576047e-171\n"
     ]
    }
   ],
   "source": [
    "# Select the variable of interest (e.g. Output_Frequency) from each dataframe\n",
    "ups1_Output_Frequency = UPS1_newer[\"Output_Frequency\"]\n",
    "ups2_Output_Frequency = UPS2_new[\"Output_Frequency\"]\n",
    "\n",
    "# Perform the ANOVA test\n",
    "stat, p = stats.f_oneway(ups1_Output_Frequency, ups2_Output_Frequency)\n",
    "print(\"F-value: \", stat)\n",
    "print(\"p-value: \", p)"
   ]
  },
  {
   "cell_type": "code",
   "execution_count": 88,
   "id": "b2208be8",
   "metadata": {},
   "outputs": [
    {
     "name": "stdout",
     "output_type": "stream",
     "text": [
      "F-value:  1.523427072610354e-06\n",
      "p-value:  0.9990152080352328\n"
     ]
    }
   ],
   "source": [
    "# Select the variable of interest (e.g. Output_Load) from each dataframe\n",
    "ups1_Output_Load = UPS1_newer[\"Output_Load\"]\n",
    "ups2_Output_Load = UPS2_new[\"Output_Load\"]\n",
    "\n",
    "# Perform the ANOVA test\n",
    "stat, p = stats.f_oneway(ups1_Output_Load, ups2_Output_Load)\n",
    "print(\"F-value: \", stat)\n",
    "print(\"p-value: \", p)"
   ]
  },
  {
   "cell_type": "code",
   "execution_count": 89,
   "id": "557c8bfe",
   "metadata": {},
   "outputs": [
    {
     "name": "stdout",
     "output_type": "stream",
     "text": [
      "F-value:  429.909065426994\n",
      "p-value:  1.78087681325874e-95\n"
     ]
    }
   ],
   "source": [
    "# Select the variable of interest (e.g. Remaining_Time) from each dataframe\n",
    "ups1_Remaining_Time = UPS1_newer[\"Remaining_Time\"]\n",
    "ups2_Remaining_Time = UPS2_new[\"Remaining_Time\"]\n",
    "\n",
    "# Perform the ANOVA test\n",
    "stat, p = stats.f_oneway(ups1_Remaining_Time, ups2_Remaining_Time)\n",
    "print(\"F-value: \", stat)\n",
    "print(\"p-value: \", p)\n"
   ]
  },
  {
   "cell_type": "code",
   "execution_count": 90,
   "id": "a3a4d2ac",
   "metadata": {},
   "outputs": [],
   "source": [
    "#However, this code only performs the ANOVA test, \n",
    "#it doesn't fit any model. After the ANOVA test,\n",
    "#you can use the results of the test (the F-value and p-value) to make inferences about the data. For example, \n",
    "#if the p-value is less than 0.05, you can conclude that there is a significant difference between the means of the two groups."
   ]
  },
  {
   "cell_type": "markdown",
   "id": "1fe7e73c",
   "metadata": {},
   "source": [
    "## Correlation matrix"
   ]
  },
  {
   "cell_type": "code",
   "execution_count": 109,
   "id": "542b3444",
   "metadata": {},
   "outputs": [],
   "source": [
    "#drop dummy variables , only left numerical variables in dataset\n",
    "data_newer=data_new.drop(['time','host_10.0.0.53','host_10.0.0.8','Battery_Status_2.0','Output_Status_2','Output_Status_3','Output_Status_6'], axis=1)"
   ]
  },
  {
   "cell_type": "code",
   "execution_count": 110,
   "id": "9dcf6c68",
   "metadata": {},
   "outputs": [
    {
     "name": "stderr",
     "output_type": "stream",
     "text": [
      "<ipython-input-110-dcaa0f64f883>:5: DeprecationWarning: `np.bool` is a deprecated alias for the builtin `bool`. To silence this warning, use `bool` by itself. Doing this will not modify any behavior and is safe. If you specifically wanted the numpy scalar type, use `np.bool_` here.\n",
      "Deprecated in NumPy 1.20; for more details and guidance: https://numpy.org/devdocs/release/1.20.0-notes.html#deprecations\n",
      "  mask_numerical = np.triu(np.ones_like(corr_numerical, dtype=np.bool))\n"
     ]
    },
    {
     "data": {
      "text/plain": [
       "Text(0.5, 1.0, 'Correlation Matrix ')"
      ]
     },
     "execution_count": 110,
     "metadata": {},
     "output_type": "execute_result"
    },
    {
     "data": {
      "image/png": "[encoded data removed]",
      "text/plain": [
       "<Figure size 1080x1080 with 2 Axes>"
      ]
     },
     "metadata": {},
     "output_type": "display_data"
    }
   ],
   "source": [
    "# Correlation Matrix with pearson method\n",
    "\n",
    "plt.figure(figsize=(15,15))\n",
    "corr_numerical=data_newer.corr(method='pearson')\n",
    "mask_numerical = np.triu(np.ones_like(corr_numerical, dtype=np.bool))\n",
    "sns.heatmap(corr_numerical, annot=True, fmt=\".2f\", cmap='RdBu', mask= mask_numerical, vmin=-1, vmax=1, center= 0,\n",
    "          square=True, linewidths=2, cbar_kws={\"shrink\": .5}).set(ylim=(17, 0))\n",
    "plt.title(\"Correlation Matrix \",size=15, weight='bold')"
   ]
  }
 ],
 "metadata": {
  "kernelspec": {
   "display_name": "Python 3",
   "language": "python",
   "name": "python3"
  },
  "language_info": {
   "codemirror_mode": {
    "name": "ipython",
    "version": 3
   },
   "file_extension": ".py",
   "mimetype": "text/x-python",
   "name": "python",
   "nbconvert_exporter": "python",
   "pygments_lexer": "ipython3",
   "version": "3.8.8"
  }
 },
 "nbformat": 4,
 "nbformat_minor": 5
}
